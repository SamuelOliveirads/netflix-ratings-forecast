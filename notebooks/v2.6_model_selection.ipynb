{
 "cells": [
  {
   "attachments": {},
   "cell_type": "markdown",
   "metadata": {},
   "source": [
    "# 0.0 Imports"
   ]
  },
  {
   "cell_type": "code",
   "execution_count": 1,
   "metadata": {},
   "outputs": [],
   "source": [
    "import warnings\n",
    "import numpy as np\n",
    "import pandas as pd\n",
    "\n",
    "from sklearn import ensemble\n",
    "from sklearn.metrics import mean_absolute_error, mean_squared_error\n",
    "from sklearn.linear_model import LinearRegression\n",
    "from sklearn import ensemble\n",
    "import xgboost as xgb"
   ]
  },
  {
   "attachments": {},
   "cell_type": "markdown",
   "metadata": {},
   "source": [
    "## 0.1 Load data"
   ]
  },
  {
   "cell_type": "code",
   "execution_count": 2,
   "metadata": {},
   "outputs": [
    {
     "data": {
      "text/html": [
       "<pre style=\"white-space:pre;overflow-x:auto;line-height:normal;font-family:Menlo,'DejaVu Sans Mono',consolas,'Courier New',monospace\"><span style=\"color: #7fbfbf; text-decoration-color: #7fbfbf\">[09/22/23 21:27:16] </span><span style=\"color: #000080; text-decoration-color: #000080\">INFO    </span> Loading data from <span style=\"color: #008000; text-decoration-color: #008000\">'train_feature_selection'</span> <span style=\"font-weight: bold\">(</span>CSVDataSet<span style=\"font-weight: bold\">)</span><span style=\"color: #808000; text-decoration-color: #808000\">...</span>        <a href=\"file://f:\\SamuelOliveiraAlvesd\\Anaconda3\\envs\\netflix_classifier\\Lib\\site-packages\\kedro\\io\\data_catalog.py\" target=\"_blank\"><span style=\"color: #7f7f7f; text-decoration-color: #7f7f7f\">data_catalog.py</span></a><span style=\"color: #7f7f7f; text-decoration-color: #7f7f7f\">:</span><a href=\"file://f:\\SamuelOliveiraAlvesd\\Anaconda3\\envs\\netflix_classifier\\Lib\\site-packages\\kedro\\io\\data_catalog.py#492\" target=\"_blank\"><span style=\"color: #7f7f7f; text-decoration-color: #7f7f7f\">492</span></a>\n",
       "</pre>\n"
      ],
      "text/plain": [
       "\u001b[2;36m[09/22/23 21:27:16]\u001b[0m\u001b[2;36m \u001b[0m\u001b[34mINFO    \u001b[0m Loading data from \u001b[32m'train_feature_selection'\u001b[0m \u001b[1m(\u001b[0mCSVDataSet\u001b[1m)\u001b[0m\u001b[33m...\u001b[0m        \u001b]8;id=925904;file://f:\\SamuelOliveiraAlvesd\\Anaconda3\\envs\\netflix_classifier\\Lib\\site-packages\\kedro\\io\\data_catalog.py\u001b\\\u001b[2mdata_catalog.py\u001b[0m\u001b]8;;\u001b\\\u001b[2m:\u001b[0m\u001b]8;id=865503;file://f:\\SamuelOliveiraAlvesd\\Anaconda3\\envs\\netflix_classifier\\Lib\\site-packages\\kedro\\io\\data_catalog.py#492\u001b\\\u001b[2m492\u001b[0m\u001b]8;;\u001b\\\n"
      ]
     },
     "metadata": {},
     "output_type": "display_data"
    },
    {
     "data": {
      "text/html": [
       "<pre style=\"white-space:pre;overflow-x:auto;line-height:normal;font-family:Menlo,'DejaVu Sans Mono',consolas,'Courier New',monospace\"><span style=\"color: #7fbfbf; text-decoration-color: #7fbfbf\">                    </span><span style=\"color: #000080; text-decoration-color: #000080\">INFO    </span> Loading data from <span style=\"color: #008000; text-decoration-color: #008000\">'validation_feature_selection'</span> <span style=\"font-weight: bold\">(</span>CSVDataSet<span style=\"font-weight: bold\">)</span><span style=\"color: #808000; text-decoration-color: #808000\">...</span>   <a href=\"file://f:\\SamuelOliveiraAlvesd\\Anaconda3\\envs\\netflix_classifier\\Lib\\site-packages\\kedro\\io\\data_catalog.py\" target=\"_blank\"><span style=\"color: #7f7f7f; text-decoration-color: #7f7f7f\">data_catalog.py</span></a><span style=\"color: #7f7f7f; text-decoration-color: #7f7f7f\">:</span><a href=\"file://f:\\SamuelOliveiraAlvesd\\Anaconda3\\envs\\netflix_classifier\\Lib\\site-packages\\kedro\\io\\data_catalog.py#492\" target=\"_blank\"><span style=\"color: #7f7f7f; text-decoration-color: #7f7f7f\">492</span></a>\n",
       "</pre>\n"
      ],
      "text/plain": [
       "\u001b[2;36m                   \u001b[0m\u001b[2;36m \u001b[0m\u001b[34mINFO    \u001b[0m Loading data from \u001b[32m'validation_feature_selection'\u001b[0m \u001b[1m(\u001b[0mCSVDataSet\u001b[1m)\u001b[0m\u001b[33m...\u001b[0m   \u001b]8;id=179603;file://f:\\SamuelOliveiraAlvesd\\Anaconda3\\envs\\netflix_classifier\\Lib\\site-packages\\kedro\\io\\data_catalog.py\u001b\\\u001b[2mdata_catalog.py\u001b[0m\u001b]8;;\u001b\\\u001b[2m:\u001b[0m\u001b]8;id=989263;file://f:\\SamuelOliveiraAlvesd\\Anaconda3\\envs\\netflix_classifier\\Lib\\site-packages\\kedro\\io\\data_catalog.py#492\u001b\\\u001b[2m492\u001b[0m\u001b]8;;\u001b\\\n"
      ]
     },
     "metadata": {},
     "output_type": "display_data"
    },
    {
     "data": {
      "text/html": [
       "<pre style=\"white-space:pre;overflow-x:auto;line-height:normal;font-family:Menlo,'DejaVu Sans Mono',consolas,'Courier New',monospace\"><span style=\"color: #7fbfbf; text-decoration-color: #7fbfbf\">                    </span><span style=\"color: #000080; text-decoration-color: #000080\">INFO    </span> Loading data from <span style=\"color: #008000; text-decoration-color: #008000\">'yeojohnson_transformation'</span> <span style=\"font-weight: bold\">(</span>PickleDataSet<span style=\"font-weight: bold\">)</span><span style=\"color: #808000; text-decoration-color: #808000\">...</span>   <a href=\"file://f:\\SamuelOliveiraAlvesd\\Anaconda3\\envs\\netflix_classifier\\Lib\\site-packages\\kedro\\io\\data_catalog.py\" target=\"_blank\"><span style=\"color: #7f7f7f; text-decoration-color: #7f7f7f\">data_catalog.py</span></a><span style=\"color: #7f7f7f; text-decoration-color: #7f7f7f\">:</span><a href=\"file://f:\\SamuelOliveiraAlvesd\\Anaconda3\\envs\\netflix_classifier\\Lib\\site-packages\\kedro\\io\\data_catalog.py#492\" target=\"_blank\"><span style=\"color: #7f7f7f; text-decoration-color: #7f7f7f\">492</span></a>\n",
       "</pre>\n"
      ],
      "text/plain": [
       "\u001b[2;36m                   \u001b[0m\u001b[2;36m \u001b[0m\u001b[34mINFO    \u001b[0m Loading data from \u001b[32m'yeojohnson_transformation'\u001b[0m \u001b[1m(\u001b[0mPickleDataSet\u001b[1m)\u001b[0m\u001b[33m...\u001b[0m   \u001b]8;id=31227;file://f:\\SamuelOliveiraAlvesd\\Anaconda3\\envs\\netflix_classifier\\Lib\\site-packages\\kedro\\io\\data_catalog.py\u001b\\\u001b[2mdata_catalog.py\u001b[0m\u001b]8;;\u001b\\\u001b[2m:\u001b[0m\u001b]8;id=598268;file://f:\\SamuelOliveiraAlvesd\\Anaconda3\\envs\\netflix_classifier\\Lib\\site-packages\\kedro\\io\\data_catalog.py#492\u001b\\\u001b[2m492\u001b[0m\u001b]8;;\u001b\\\n"
      ]
     },
     "metadata": {},
     "output_type": "display_data"
    }
   ],
   "source": [
    "train_feature_selection = catalog.load(\"train_feature_selection\")\n",
    "validation_feature_selection = catalog.load(\"validation_feature_selection\")\n",
    "yeojohnson_transformation = catalog.load(\"yeojohnson_transformation\")"
   ]
  },
  {
   "attachments": {},
   "cell_type": "markdown",
   "metadata": {},
   "source": [
    "## 0.2 Helper Functions"
   ]
  },
  {
   "cell_type": "code",
   "execution_count": 3,
   "metadata": {},
   "outputs": [],
   "source": [
    "def notebook_settings():\n",
    "    pd.set_option('display.max_columns', None)\n",
    "    pd.set_option('display.max_rows', 30)\n",
    "    pd.set_option('display.float_format', lambda x: '%.3f' % x)\n",
    "\n",
    "    warnings.filterwarnings('ignore')\n",
    "    return None\n",
    "\n",
    "\n",
    "def ml_error(model_name, y, yhat):\n",
    "    mae = mean_absolute_error(y, yhat)\n",
    "    rmse = np.sqrt(mean_squared_error(y, yhat))\n",
    "    \n",
    "    return pd.DataFrame({'Model Name': model_name,\n",
    "                         'MAE' : mae,\n",
    "                         'RMSE': rmse}, index=[0])\n",
    "\n",
    "\n",
    "def yeojohnson_inverse(y):\n",
    "    lambda_val = yeojohnson_transformation.value\n",
    "    \n",
    "    y_positive_mask = y >= 0\n",
    "    y_negative_mask = ~y_positive_mask\n",
    "\n",
    "    result = np.empty_like(y)\n",
    "\n",
    "    if lambda_val == 0:\n",
    "        result[y_positive_mask] = np.exp(y[y_positive_mask]) - 1\n",
    "        result[y_negative_mask] = -np.exp(-y[y_negative_mask]) - 1\n",
    "    elif lambda_val != 0:\n",
    "        result[y_positive_mask] = (lambda_val * y[y_positive_mask] + 1) ** (1 / lambda_val) - 1\n",
    "        result[y_negative_mask] = -((-lambda_val * y[y_negative_mask] + 1) ** (1 / -lambda_val) - 1)\n",
    "\n",
    "    return result\n",
    "\n",
    "\n",
    "notebook_settings()"
   ]
  },
  {
   "attachments": {},
   "cell_type": "markdown",
   "metadata": {},
   "source": [
    "# 6.0 Machine Learning Modeling"
   ]
  },
  {
   "cell_type": "markdown",
   "metadata": {},
   "source": [
    "Metrics:\n",
    "- For general contexts the MAPE would be an excellent metric due to its percentage calculation, however the characteristics of the data do not allow a good interpretation (typically because it contains 0 data), in this situation we will use the MAE to report to the business and the RMSE to monitor the model in order to identify the impact of outliers."
   ]
  },
  {
   "cell_type": "code",
   "execution_count": 4,
   "metadata": {},
   "outputs": [],
   "source": [
    "cols_drop = ['show_id', 'rating']\n",
    "\n",
    "# training dataset\n",
    "y_train = train_feature_selection['rating']\n",
    "x_train = train_feature_selection.drop(cols_drop, axis=1)\n",
    "\n",
    "# validation dataset\n",
    "y_val = validation_feature_selection['rating']\n",
    "x_val = validation_feature_selection.drop(cols_drop, axis=1)"
   ]
  },
  {
   "attachments": {},
   "cell_type": "markdown",
   "metadata": {},
   "source": [
    "## 6.1 Average model - Baseline"
   ]
  },
  {
   "cell_type": "code",
   "execution_count": 5,
   "metadata": {},
   "outputs": [],
   "source": [
    "aux1 = validation_feature_selection.copy()\n",
    "aux1['rating'] = y_val.copy()\n",
    "\n",
    "# prediction - We'll do a weighted average by media category\n",
    "aux2 = aux1[['listed_in', 'rating']].groupby('listed_in').mean().reset_index().rename(columns={'rating': 'predictions'})\n",
    "aux1 = pd.merge(aux1, aux2, how='left', on='listed_in')\n",
    "yhat_baseline = aux1['predictions']\n",
    "\n",
    "# performance\n",
    "baseline_result = ml_error('Average Model', y_val, yhat_baseline)"
   ]
  },
  {
   "cell_type": "markdown",
   "metadata": {},
   "source": [
    "### 6.1.1 Average model  - Cross Validation"
   ]
  },
  {
   "cell_type": "code",
   "execution_count": 6,
   "metadata": {},
   "outputs": [],
   "source": [
    "#TODO"
   ]
  },
  {
   "attachments": {},
   "cell_type": "markdown",
   "metadata": {},
   "source": [
    "## 6.2 Linear Regression Model"
   ]
  },
  {
   "cell_type": "code",
   "execution_count": 7,
   "metadata": {},
   "outputs": [],
   "source": [
    "# model\n",
    "lr = LinearRegression().fit(x_train, y_train)\n",
    "\n",
    "# prediction\n",
    "yhat_lr_train = lr.predict(x_train)\n",
    "yhat_lr = lr.predict(x_val)\n",
    "\n",
    "# performance\n",
    "lr_result_train = ml_error('Linear Regression Train', yeojohnson_inverse(y_train), \n",
    "                           yeojohnson_inverse(yhat_lr_train))\n",
    "lr_result_val = ml_error('Linear Regression Val', y_val, \n",
    "                         yeojohnson_inverse(yhat_lr))"
   ]
  },
  {
   "cell_type": "markdown",
   "metadata": {},
   "source": [
    "### 6.2.1 Linear Regression Model  - Cross Validation"
   ]
  },
  {
   "cell_type": "code",
   "execution_count": 8,
   "metadata": {},
   "outputs": [],
   "source": [
    "#TODO"
   ]
  },
  {
   "attachments": {},
   "cell_type": "markdown",
   "metadata": {},
   "source": [
    "## 6.3 Random Forest Regressor"
   ]
  },
  {
   "cell_type": "code",
   "execution_count": 9,
   "metadata": {},
   "outputs": [],
   "source": [
    "# model\n",
    "rf = ensemble.RandomForestRegressor(n_jobs=-1, random_state=42).fit(x_train, y_train)\n",
    "\n",
    "# prediction\n",
    "yhat_rf_train = rf.predict(x_train)\n",
    "yhat_rf = rf.predict(x_val)\n",
    "\n",
    "# performance\n",
    "rf_result_train = ml_error('Random Forest Regressor Train', yeojohnson_inverse(y_train), yeojohnson_inverse(yhat_rf_train))\n",
    "rf_result_val = ml_error('Random Forest Regressor Val', y_val, yeojohnson_inverse(yhat_rf))"
   ]
  },
  {
   "cell_type": "markdown",
   "metadata": {},
   "source": [
    "### 6.3.1 Random Forest Model - Cross Validation"
   ]
  },
  {
   "cell_type": "code",
   "execution_count": 10,
   "metadata": {},
   "outputs": [],
   "source": [
    "#TODO"
   ]
  },
  {
   "cell_type": "markdown",
   "metadata": {},
   "source": [
    "## 6.4 XGBoost Model"
   ]
  },
  {
   "cell_type": "code",
   "execution_count": 11,
   "metadata": {},
   "outputs": [],
   "source": [
    "# model\n",
    "model_xgb = xgb.XGBRegressor(n_jobs=-1, random_state=42).fit(x_train, y_train)\n",
    "\n",
    "# prediction\n",
    "yhat_xgb_train = model_xgb.predict(x_train)\n",
    "yhat_xgb_val = model_xgb.predict(x_val)\n",
    "\n",
    "# performance\n",
    "xgb_result_train = ml_error('XGBoost Regressor Train', yeojohnson_inverse(y_train), yeojohnson_inverse(yhat_xgb_train))\n",
    "xgb_result_val = ml_error('XGBoost Regressor Val', y_val, yeojohnson_inverse(yhat_xgb_val))"
   ]
  },
  {
   "cell_type": "markdown",
   "metadata": {},
   "source": [
    "### 6.4.1 XGBoost Model - Cross Validation"
   ]
  },
  {
   "cell_type": "code",
   "execution_count": 12,
   "metadata": {},
   "outputs": [],
   "source": [
    "# TODO"
   ]
  },
  {
   "cell_type": "markdown",
   "metadata": {},
   "source": [
    "## 6.5 Compare Model's Performance"
   ]
  },
  {
   "cell_type": "markdown",
   "metadata": {},
   "source": [
    "### 6.5.1 Single Performance"
   ]
  },
  {
   "cell_type": "code",
   "execution_count": 13,
   "metadata": {},
   "outputs": [
    {
     "data": {
      "text/html": [
       "<pre style=\"white-space:pre;overflow-x:auto;line-height:normal;font-family:Menlo,'DejaVu Sans Mono',consolas,'Courier New',monospace\"></pre>\n"
      ],
      "text/plain": []
     },
     "metadata": {},
     "output_type": "display_data"
    },
    {
     "data": {
      "text/html": [
       "<div>\n",
       "<style scoped>\n",
       "    .dataframe tbody tr th:only-of-type {\n",
       "        vertical-align: middle;\n",
       "    }\n",
       "\n",
       "    .dataframe tbody tr th {\n",
       "        vertical-align: top;\n",
       "    }\n",
       "\n",
       "    .dataframe thead th {\n",
       "        text-align: right;\n",
       "    }\n",
       "</style>\n",
       "<table border=\"1\" class=\"dataframe\">\n",
       "  <thead>\n",
       "    <tr style=\"text-align: right;\">\n",
       "      <th></th>\n",
       "      <th>Model Name</th>\n",
       "      <th>MAE</th>\n",
       "      <th>RMSE</th>\n",
       "    </tr>\n",
       "  </thead>\n",
       "  <tbody>\n",
       "    <tr>\n",
       "      <th>0</th>\n",
       "      <td>Average Model</td>\n",
       "      <td>9.952</td>\n",
       "      <td>14.929</td>\n",
       "    </tr>\n",
       "    <tr>\n",
       "      <th>0</th>\n",
       "      <td>Linear Regression Train</td>\n",
       "      <td>11.481</td>\n",
       "      <td>17.400</td>\n",
       "    </tr>\n",
       "    <tr>\n",
       "      <th>0</th>\n",
       "      <td>Linear Regression Val</td>\n",
       "      <td>11.156</td>\n",
       "      <td>17.141</td>\n",
       "    </tr>\n",
       "    <tr>\n",
       "      <th>0</th>\n",
       "      <td>Random Forest Regressor Train</td>\n",
       "      <td>4.495</td>\n",
       "      <td>8.007</td>\n",
       "    </tr>\n",
       "    <tr>\n",
       "      <th>0</th>\n",
       "      <td>Random Forest Regressor Val</td>\n",
       "      <td>15.271</td>\n",
       "      <td>19.274</td>\n",
       "    </tr>\n",
       "    <tr>\n",
       "      <th>0</th>\n",
       "      <td>XGBoost Regressor Train</td>\n",
       "      <td>4.814</td>\n",
       "      <td>8.366</td>\n",
       "    </tr>\n",
       "    <tr>\n",
       "      <th>0</th>\n",
       "      <td>XGBoost Regressor Val</td>\n",
       "      <td>13.914</td>\n",
       "      <td>19.098</td>\n",
       "    </tr>\n",
       "  </tbody>\n",
       "</table>\n",
       "</div>"
      ],
      "text/plain": [
       "\n",
       "                      Model Name    MAE   RMSE\n",
       "\u001b[1;36m0\u001b[0m                  Average Model  \u001b[1;36m9.952\u001b[0m \u001b[1;36m14.929\u001b[0m\n",
       "\u001b[1;36m0\u001b[0m        Linear Regression Train \u001b[1;36m11.481\u001b[0m \u001b[1;36m17.400\u001b[0m\n",
       "\u001b[1;36m0\u001b[0m          Linear Regression Val \u001b[1;36m11.156\u001b[0m \u001b[1;36m17.141\u001b[0m\n",
       "\u001b[1;36m0\u001b[0m  Random Forest Regressor Train  \u001b[1;36m4.495\u001b[0m  \u001b[1;36m8.007\u001b[0m\n",
       "\u001b[1;36m0\u001b[0m    Random Forest Regressor Val \u001b[1;36m15.271\u001b[0m \u001b[1;36m19.274\u001b[0m\n",
       "\u001b[1;36m0\u001b[0m        XGBoost Regressor Train  \u001b[1;36m4.814\u001b[0m  \u001b[1;36m8.366\u001b[0m\n",
       "\u001b[1;36m0\u001b[0m          XGBoost Regressor Val \u001b[1;36m13.914\u001b[0m \u001b[1;36m19.098\u001b[0m"
      ]
     },
     "execution_count": 13,
     "metadata": {},
     "output_type": "execute_result"
    }
   ],
   "source": [
    "result = pd.concat([baseline_result, lr_result_train, lr_result_val, rf_result_train, rf_result_val, \n",
    "                    xgb_result_train, xgb_result_val])\n",
    "result"
   ]
  },
  {
   "cell_type": "markdown",
   "metadata": {},
   "source": [
    "### 6.5.2 Real Performance - Cross Validation"
   ]
  },
  {
   "cell_type": "code",
   "execution_count": 14,
   "metadata": {},
   "outputs": [],
   "source": [
    "# TODO"
   ]
  }
 ],
 "metadata": {
  "kernelspec": {
   "display_name": "Kedro (video_games_analysis)",
   "language": "python",
   "name": "kedro_video_games_analysis"
  },
  "language_info": {
   "codemirror_mode": {
    "name": "ipython",
    "version": 3
   },
   "file_extension": ".py",
   "mimetype": "text/x-python",
   "name": "python",
   "nbconvert_exporter": "python",
   "pygments_lexer": "ipython3",
   "version": "3.11.5"
  },
  "orig_nbformat": 4
 },
 "nbformat": 4,
 "nbformat_minor": 2
}
