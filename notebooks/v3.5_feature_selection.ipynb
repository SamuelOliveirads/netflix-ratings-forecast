{
 "cells": [
  {
   "attachments": {},
   "cell_type": "markdown",
   "metadata": {},
   "source": [
    "# 0.0 Imports"
   ]
  },
  {
   "cell_type": "code",
   "execution_count": 36,
   "metadata": {},
   "outputs": [],
   "source": [
    "import numpy as np\n",
    "import pandas as pd\n",
    "\n",
    "from sklearn import ensemble\n",
    "from boruta import BorutaPy\n",
    "from matplotlib import pyplot as plt"
   ]
  },
  {
   "attachments": {},
   "cell_type": "markdown",
   "metadata": {},
   "source": [
    "## 0.1 Load data"
   ]
  },
  {
   "cell_type": "code",
   "execution_count": 37,
   "metadata": {},
   "outputs": [
    {
     "data": {
      "text/html": [
       "<pre style=\"white-space:pre;overflow-x:auto;line-height:normal;font-family:Menlo,'DejaVu Sans Mono',consolas,'Courier New',monospace\"><span style=\"color: #7fbfbf; text-decoration-color: #7fbfbf\">[09/23/23 18:10:27] </span><span style=\"color: #000080; text-decoration-color: #000080\">INFO    </span> Loading data from <span style=\"color: #008000; text-decoration-color: #008000\">'train_data_preparation'</span> <span style=\"font-weight: bold\">(</span>CSVDataSet<span style=\"font-weight: bold\">)</span><span style=\"color: #808000; text-decoration-color: #808000\">...</span>         <a href=\"file://f:\\SamuelOliveiraAlvesd\\Anaconda3\\envs\\netflix_classifier\\Lib\\site-packages\\kedro\\io\\data_catalog.py\" target=\"_blank\"><span style=\"color: #7f7f7f; text-decoration-color: #7f7f7f\">data_catalog.py</span></a><span style=\"color: #7f7f7f; text-decoration-color: #7f7f7f\">:</span><a href=\"file://f:\\SamuelOliveiraAlvesd\\Anaconda3\\envs\\netflix_classifier\\Lib\\site-packages\\kedro\\io\\data_catalog.py#492\" target=\"_blank\"><span style=\"color: #7f7f7f; text-decoration-color: #7f7f7f\">492</span></a>\n",
       "</pre>\n"
      ],
      "text/plain": [
       "\u001b[2;36m[09/23/23 18:10:27]\u001b[0m\u001b[2;36m \u001b[0m\u001b[34mINFO    \u001b[0m Loading data from \u001b[32m'train_data_preparation'\u001b[0m \u001b[1m(\u001b[0mCSVDataSet\u001b[1m)\u001b[0m\u001b[33m...\u001b[0m         \u001b]8;id=644865;file://f:\\SamuelOliveiraAlvesd\\Anaconda3\\envs\\netflix_classifier\\Lib\\site-packages\\kedro\\io\\data_catalog.py\u001b\\\u001b[2mdata_catalog.py\u001b[0m\u001b]8;;\u001b\\\u001b[2m:\u001b[0m\u001b]8;id=907914;file://f:\\SamuelOliveiraAlvesd\\Anaconda3\\envs\\netflix_classifier\\Lib\\site-packages\\kedro\\io\\data_catalog.py#492\u001b\\\u001b[2m492\u001b[0m\u001b]8;;\u001b\\\n"
      ]
     },
     "metadata": {},
     "output_type": "display_data"
    },
    {
     "data": {
      "text/html": [
       "<pre style=\"white-space:pre;overflow-x:auto;line-height:normal;font-family:Menlo,'DejaVu Sans Mono',consolas,'Courier New',monospace\"><span style=\"color: #7fbfbf; text-decoration-color: #7fbfbf\">                    </span><span style=\"color: #000080; text-decoration-color: #000080\">INFO    </span> Loading data from <span style=\"color: #008000; text-decoration-color: #008000\">'validation_data_preparation'</span> <span style=\"font-weight: bold\">(</span>CSVDataSet<span style=\"font-weight: bold\">)</span><span style=\"color: #808000; text-decoration-color: #808000\">...</span>    <a href=\"file://f:\\SamuelOliveiraAlvesd\\Anaconda3\\envs\\netflix_classifier\\Lib\\site-packages\\kedro\\io\\data_catalog.py\" target=\"_blank\"><span style=\"color: #7f7f7f; text-decoration-color: #7f7f7f\">data_catalog.py</span></a><span style=\"color: #7f7f7f; text-decoration-color: #7f7f7f\">:</span><a href=\"file://f:\\SamuelOliveiraAlvesd\\Anaconda3\\envs\\netflix_classifier\\Lib\\site-packages\\kedro\\io\\data_catalog.py#492\" target=\"_blank\"><span style=\"color: #7f7f7f; text-decoration-color: #7f7f7f\">492</span></a>\n",
       "</pre>\n"
      ],
      "text/plain": [
       "\u001b[2;36m                   \u001b[0m\u001b[2;36m \u001b[0m\u001b[34mINFO    \u001b[0m Loading data from \u001b[32m'validation_data_preparation'\u001b[0m \u001b[1m(\u001b[0mCSVDataSet\u001b[1m)\u001b[0m\u001b[33m...\u001b[0m    \u001b]8;id=648235;file://f:\\SamuelOliveiraAlvesd\\Anaconda3\\envs\\netflix_classifier\\Lib\\site-packages\\kedro\\io\\data_catalog.py\u001b\\\u001b[2mdata_catalog.py\u001b[0m\u001b]8;;\u001b\\\u001b[2m:\u001b[0m\u001b]8;id=59220;file://f:\\SamuelOliveiraAlvesd\\Anaconda3\\envs\\netflix_classifier\\Lib\\site-packages\\kedro\\io\\data_catalog.py#492\u001b\\\u001b[2m492\u001b[0m\u001b]8;;\u001b\\\n"
      ]
     },
     "metadata": {},
     "output_type": "display_data"
    }
   ],
   "source": [
    "train_data_preparation = catalog.load(\"train_data_preparation\")\n",
    "validation_data_preparation = catalog.load(\"validation_data_preparation\")"
   ]
  },
  {
   "attachments": {},
   "cell_type": "markdown",
   "metadata": {},
   "source": [
    "## 0.2 Helper Functions"
   ]
  },
  {
   "cell_type": "code",
   "execution_count": 38,
   "metadata": {},
   "outputs": [],
   "source": [
    "def notebook_settings():\n",
    "    pd.set_option('display.max_columns', None)\n",
    "    pd.set_option('display.max_rows', train_data_preparation.shape[1])\n",
    "    pd.set_option('display.float_format', lambda x: '%.3f' % x)\n",
    "\n",
    "    return None\n",
    "\n",
    "notebook_settings()"
   ]
  },
  {
   "attachments": {},
   "cell_type": "markdown",
   "metadata": {},
   "source": [
    "# 5.0 Feature Selection"
   ]
  },
  {
   "cell_type": "code",
   "execution_count": 39,
   "metadata": {},
   "outputs": [
    {
     "data": {
      "text/html": [
       "<pre style=\"white-space:pre;overflow-x:auto;line-height:normal;font-family:Menlo,'DejaVu Sans Mono',consolas,'Courier New',monospace\"></pre>\n"
      ],
      "text/plain": []
     },
     "metadata": {},
     "output_type": "display_data"
    },
    {
     "data": {
      "text/html": [
       "<div>\n",
       "<style scoped>\n",
       "    .dataframe tbody tr th:only-of-type {\n",
       "        vertical-align: middle;\n",
       "    }\n",
       "\n",
       "    .dataframe tbody tr th {\n",
       "        vertical-align: top;\n",
       "    }\n",
       "\n",
       "    .dataframe thead th {\n",
       "        text-align: right;\n",
       "    }\n",
       "</style>\n",
       "<table border=\"1\" class=\"dataframe\">\n",
       "  <thead>\n",
       "    <tr style=\"text-align: right;\">\n",
       "      <th></th>\n",
       "      <th>title</th>\n",
       "      <th>director</th>\n",
       "      <th>cast</th>\n",
       "      <th>country</th>\n",
       "      <th>release_year</th>\n",
       "      <th>listed_in</th>\n",
       "      <th>description</th>\n",
       "      <th>minutes</th>\n",
       "      <th>duration_bins</th>\n",
       "      <th>years_since_release</th>\n",
       "      <th>description_length</th>\n",
       "      <th>movie_stage</th>\n",
       "      <th>number_of_directors</th>\n",
       "      <th>number_of_casts</th>\n",
       "      <th>number_of_countrys</th>\n",
       "      <th>number_of_listed_ins</th>\n",
       "      <th>films_by_director</th>\n",
       "      <th>films_by_cast_member</th>\n",
       "      <th>films_per_country</th>\n",
       "      <th>films_per_genre</th>\n",
       "    </tr>\n",
       "  </thead>\n",
       "  <tbody>\n",
       "    <tr>\n",
       "      <th>0</th>\n",
       "      <td>2650</td>\n",
       "      <td>0.001</td>\n",
       "      <td>2794</td>\n",
       "      <td>0.046</td>\n",
       "      <td>0.400</td>\n",
       "      <td>0.001</td>\n",
       "      <td>2424</td>\n",
       "      <td>0.920</td>\n",
       "      <td>3</td>\n",
       "      <td>-0.160</td>\n",
       "      <td>-0.400</td>\n",
       "      <td>0</td>\n",
       "      <td>0.000</td>\n",
       "      <td>-1.167</td>\n",
       "      <td>0.000</td>\n",
       "      <td>0.000</td>\n",
       "      <td>1.000</td>\n",
       "      <td>-0.473</td>\n",
       "      <td>0.132</td>\n",
       "      <td>-0.709</td>\n",
       "    </tr>\n",
       "    <tr>\n",
       "      <th>1</th>\n",
       "      <td>1611</td>\n",
       "      <td>0.000</td>\n",
       "      <td>1673</td>\n",
       "      <td>0.012</td>\n",
       "      <td>-6.600</td>\n",
       "      <td>0.001</td>\n",
       "      <td>2306</td>\n",
       "      <td>-0.252</td>\n",
       "      <td>3</td>\n",
       "      <td>5.440</td>\n",
       "      <td>0.000</td>\n",
       "      <td>1</td>\n",
       "      <td>0.000</td>\n",
       "      <td>-0.500</td>\n",
       "      <td>0.000</td>\n",
       "      <td>1.000</td>\n",
       "      <td>0.000</td>\n",
       "      <td>-0.378</td>\n",
       "      <td>0.033</td>\n",
       "      <td>-0.438</td>\n",
       "    </tr>\n",
       "    <tr>\n",
       "      <th>2</th>\n",
       "      <td>3064</td>\n",
       "      <td>0.000</td>\n",
       "      <td>863</td>\n",
       "      <td>0.001</td>\n",
       "      <td>0.000</td>\n",
       "      <td>0.001</td>\n",
       "      <td>92</td>\n",
       "      <td>0.033</td>\n",
       "      <td>3</td>\n",
       "      <td>0.000</td>\n",
       "      <td>0.500</td>\n",
       "      <td>1</td>\n",
       "      <td>0.000</td>\n",
       "      <td>0.333</td>\n",
       "      <td>0.000</td>\n",
       "      <td>1.000</td>\n",
       "      <td>0.000</td>\n",
       "      <td>-0.331</td>\n",
       "      <td>0.003</td>\n",
       "      <td>0.015</td>\n",
       "    </tr>\n",
       "    <tr>\n",
       "      <th>3</th>\n",
       "      <td>1481</td>\n",
       "      <td>0.000</td>\n",
       "      <td>1237</td>\n",
       "      <td>0.012</td>\n",
       "      <td>-0.200</td>\n",
       "      <td>0.037</td>\n",
       "      <td>1548</td>\n",
       "      <td>-1.637</td>\n",
       "      <td>2</td>\n",
       "      <td>0.480</td>\n",
       "      <td>-0.100</td>\n",
       "      <td>1</td>\n",
       "      <td>0.000</td>\n",
       "      <td>-1.167</td>\n",
       "      <td>0.000</td>\n",
       "      <td>0.500</td>\n",
       "      <td>0.000</td>\n",
       "      <td>-0.473</td>\n",
       "      <td>0.034</td>\n",
       "      <td>1.479</td>\n",
       "    </tr>\n",
       "    <tr>\n",
       "      <th>4</th>\n",
       "      <td>816</td>\n",
       "      <td>0.001</td>\n",
       "      <td>2307</td>\n",
       "      <td>0.169</td>\n",
       "      <td>-6.600</td>\n",
       "      <td>0.010</td>\n",
       "      <td>3324</td>\n",
       "      <td>1.844</td>\n",
       "      <td>3</td>\n",
       "      <td>5.280</td>\n",
       "      <td>-0.200</td>\n",
       "      <td>1</td>\n",
       "      <td>0.000</td>\n",
       "      <td>0.000</td>\n",
       "      <td>0.000</td>\n",
       "      <td>1.000</td>\n",
       "      <td>4.000</td>\n",
       "      <td>1.005</td>\n",
       "      <td>0.489</td>\n",
       "      <td>-0.312</td>\n",
       "    </tr>\n",
       "  </tbody>\n",
       "</table>\n",
       "</div>"
      ],
      "text/plain": [
       "\n",
       "   title  director  cast  country  release_year  listed_in  description  \\\n",
       "\u001b[1;36m0\u001b[0m   \u001b[1;36m2650\u001b[0m     \u001b[1;36m0.001\u001b[0m  \u001b[1;36m2794\u001b[0m    \u001b[1;36m0.046\u001b[0m         \u001b[1;36m0.400\u001b[0m      \u001b[1;36m0.001\u001b[0m         \u001b[1;36m2424\u001b[0m   \n",
       "\u001b[1;36m1\u001b[0m   \u001b[1;36m1611\u001b[0m     \u001b[1;36m0.000\u001b[0m  \u001b[1;36m1673\u001b[0m    \u001b[1;36m0.012\u001b[0m        \u001b[1;36m-6.600\u001b[0m      \u001b[1;36m0.001\u001b[0m         \u001b[1;36m2306\u001b[0m   \n",
       "\u001b[1;36m2\u001b[0m   \u001b[1;36m3064\u001b[0m     \u001b[1;36m0.000\u001b[0m   \u001b[1;36m863\u001b[0m    \u001b[1;36m0.001\u001b[0m         \u001b[1;36m0.000\u001b[0m      \u001b[1;36m0.001\u001b[0m           \u001b[1;36m92\u001b[0m   \n",
       "\u001b[1;36m3\u001b[0m   \u001b[1;36m1481\u001b[0m     \u001b[1;36m0.000\u001b[0m  \u001b[1;36m1237\u001b[0m    \u001b[1;36m0.012\u001b[0m        \u001b[1;36m-0.200\u001b[0m      \u001b[1;36m0.037\u001b[0m         \u001b[1;36m1548\u001b[0m   \n",
       "\u001b[1;36m4\u001b[0m    \u001b[1;36m816\u001b[0m     \u001b[1;36m0.001\u001b[0m  \u001b[1;36m2307\u001b[0m    \u001b[1;36m0.169\u001b[0m        \u001b[1;36m-6.600\u001b[0m      \u001b[1;36m0.010\u001b[0m         \u001b[1;36m3324\u001b[0m   \n",
       "\n",
       "   minutes  duration_bins  years_since_release  description_length  \\\n",
       "\u001b[1;36m0\u001b[0m    \u001b[1;36m0.920\u001b[0m              \u001b[1;36m3\u001b[0m               \u001b[1;36m-0.160\u001b[0m              \u001b[1;36m-0.400\u001b[0m   \n",
       "\u001b[1;36m1\u001b[0m   \u001b[1;36m-0.252\u001b[0m              \u001b[1;36m3\u001b[0m                \u001b[1;36m5.440\u001b[0m               \u001b[1;36m0.000\u001b[0m   \n",
       "\u001b[1;36m2\u001b[0m    \u001b[1;36m0.033\u001b[0m              \u001b[1;36m3\u001b[0m                \u001b[1;36m0.000\u001b[0m               \u001b[1;36m0.500\u001b[0m   \n",
       "\u001b[1;36m3\u001b[0m   \u001b[1;36m-1.637\u001b[0m              \u001b[1;36m2\u001b[0m                \u001b[1;36m0.480\u001b[0m              \u001b[1;36m-0.100\u001b[0m   \n",
       "\u001b[1;36m4\u001b[0m    \u001b[1;36m1.844\u001b[0m              \u001b[1;36m3\u001b[0m                \u001b[1;36m5.280\u001b[0m              \u001b[1;36m-0.200\u001b[0m   \n",
       "\n",
       "   movie_stage  number_of_directors  number_of_casts  number_of_countrys  \\\n",
       "\u001b[1;36m0\u001b[0m            \u001b[1;36m0\u001b[0m                \u001b[1;36m0.000\u001b[0m           \u001b[1;36m-1.167\u001b[0m               \u001b[1;36m0.000\u001b[0m   \n",
       "\u001b[1;36m1\u001b[0m            \u001b[1;36m1\u001b[0m                \u001b[1;36m0.000\u001b[0m           \u001b[1;36m-0.500\u001b[0m               \u001b[1;36m0.000\u001b[0m   \n",
       "\u001b[1;36m2\u001b[0m            \u001b[1;36m1\u001b[0m                \u001b[1;36m0.000\u001b[0m            \u001b[1;36m0.333\u001b[0m               \u001b[1;36m0.000\u001b[0m   \n",
       "\u001b[1;36m3\u001b[0m            \u001b[1;36m1\u001b[0m                \u001b[1;36m0.000\u001b[0m           \u001b[1;36m-1.167\u001b[0m               \u001b[1;36m0.000\u001b[0m   \n",
       "\u001b[1;36m4\u001b[0m            \u001b[1;36m1\u001b[0m                \u001b[1;36m0.000\u001b[0m            \u001b[1;36m0.000\u001b[0m               \u001b[1;36m0.000\u001b[0m   \n",
       "\n",
       "   number_of_listed_ins  films_by_director  films_by_cast_member  \\\n",
       "\u001b[1;36m0\u001b[0m                 \u001b[1;36m0.000\u001b[0m              \u001b[1;36m1.000\u001b[0m                \u001b[1;36m-0.473\u001b[0m   \n",
       "\u001b[1;36m1\u001b[0m                 \u001b[1;36m1.000\u001b[0m              \u001b[1;36m0.000\u001b[0m                \u001b[1;36m-0.378\u001b[0m   \n",
       "\u001b[1;36m2\u001b[0m                 \u001b[1;36m1.000\u001b[0m              \u001b[1;36m0.000\u001b[0m                \u001b[1;36m-0.331\u001b[0m   \n",
       "\u001b[1;36m3\u001b[0m                 \u001b[1;36m0.500\u001b[0m              \u001b[1;36m0.000\u001b[0m                \u001b[1;36m-0.473\u001b[0m   \n",
       "\u001b[1;36m4\u001b[0m                 \u001b[1;36m1.000\u001b[0m              \u001b[1;36m4.000\u001b[0m                 \u001b[1;36m1.005\u001b[0m   \n",
       "\n",
       "   films_per_country  films_per_genre  \n",
       "\u001b[1;36m0\u001b[0m              \u001b[1;36m0.132\u001b[0m           \u001b[1;36m-0.709\u001b[0m  \n",
       "\u001b[1;36m1\u001b[0m              \u001b[1;36m0.033\u001b[0m           \u001b[1;36m-0.438\u001b[0m  \n",
       "\u001b[1;36m2\u001b[0m              \u001b[1;36m0.003\u001b[0m            \u001b[1;36m0.015\u001b[0m  \n",
       "\u001b[1;36m3\u001b[0m              \u001b[1;36m0.034\u001b[0m            \u001b[1;36m1.479\u001b[0m  \n",
       "\u001b[1;36m4\u001b[0m              \u001b[1;36m0.489\u001b[0m           \u001b[1;36m-0.312\u001b[0m  "
      ]
     },
     "execution_count": 39,
     "metadata": {},
     "output_type": "execute_result"
    }
   ],
   "source": [
    "cols_drop = ['show_id', 'date_added', 'rating']\n",
    "\n",
    "# training dataset\n",
    "y_train = train_data_preparation['rating']\n",
    "x_train = train_data_preparation.drop(cols_drop, axis=1)\n",
    "\n",
    "# validation dataset\n",
    "y_val = validation_data_preparation['rating']\n",
    "x_val = validation_data_preparation.drop(cols_drop, axis=1)\n",
    "\n",
    "x_train.head()"
   ]
  },
  {
   "attachments": {},
   "cell_type": "markdown",
   "metadata": {},
   "source": [
    "## 5.1 Boruta as feature selector"
   ]
  },
  {
   "cell_type": "code",
   "execution_count": null,
   "metadata": {},
   "outputs": [],
   "source": [
    "# training and test dataset for Boruta\n",
    "X_train_boruta = x_train.values\n",
    "y_train_boruta = y_train.values.ravel()\n",
    "\n",
    "# define RandomForestRegressor\n",
    "rf = ensemble.RandomForestRegressor(n_jobs=-1)\n",
    "\n",
    "# define Boruta\n",
    "boruta = BorutaPy(rf, n_estimators='auto', verbose=0, random_state=42, max_iter=200).fit(X_train_boruta, y_train_boruta)"
   ]
  },
  {
   "cell_type": "markdown",
   "metadata": {},
   "source": [
    "Although we have the best columns it is interesting to analyze the weights, these weights correspond to which columns have the greatest impact on the prediction.\n",
    "\n",
    "Unfortunately Boruta does not have a direct way to analyze the weights, but we can infer through less complex models to extract this information."
   ]
  },
  {
   "cell_type": "code",
   "execution_count": 41,
   "metadata": {},
   "outputs": [
    {
     "data": {
      "text/html": [
       "<pre style=\"white-space:pre;overflow-x:auto;line-height:normal;font-family:Menlo,'DejaVu Sans Mono',consolas,'Courier New',monospace\"></pre>\n"
      ],
      "text/plain": []
     },
     "metadata": {},
     "output_type": "display_data"
    },
    {
     "data": {
      "image/png": "[encoded data removed]",
      "text/plain": [
       "\u001b[1m<\u001b[0m\u001b[1;95mFigure\u001b[0m\u001b[39m size 64\u001b[0m\u001b[1;36m0x480\u001b[0m\u001b[39m with \u001b[0m\u001b[1;36m1\u001b[0m\u001b[39m Axes\u001b[0m\u001b[1m>\u001b[0m"
      ]
     },
     "metadata": {},
     "output_type": "display_data"
    }
   ],
   "source": [
    "selected_features_mask = boruta.support_\n",
    "selected_features = x_train.columns[selected_features_mask]\n",
    "X_selected = x_train[selected_features]\n",
    "\n",
    "rf.fit(X_selected, y_train)\n",
    "\n",
    "importances_selected = rf.feature_importances_\n",
    "importances_selected_perc = 100.0 * (importances_selected / importances_selected.sum())\n",
    "\n",
    "importance_df = pd.DataFrame({'feature': selected_features, 'importance': importances_selected_perc})\n",
    "importance_df = importance_df.sort_values(by='importance', ascending=True)\n",
    "\n",
    "plt.barh(importance_df['feature'], importance_df['importance'], color='skyblue')\n",
    "plt.xlabel('Importance (%)')\n",
    "plt.ylabel('Feature')\n",
    "plt.title('Feature Importance')\n",
    "\n",
    "plt.show()"
   ]
  },
  {
   "cell_type": "code",
   "execution_count": null,
   "metadata": {},
   "outputs": [],
   "source": [
    "cols_selected = boruta.support_.tolist()\n",
    "\n",
    "# best features\n",
    "X_train_fs = x_train\n",
    "cols_selected_boruta = X_train_fs.iloc[:, cols_selected].columns\n",
    "\n",
    "# not selected boruta\n",
    "cols_not_selected_boruta = list(np.setdiff1d(X_train_fs.columns, cols_selected_boruta))"
   ]
  },
  {
   "cell_type": "markdown",
   "metadata": {},
   "source": [
    "We have 3 features, which isn't very many, so we'll use another technique to help us decide."
   ]
  },
  {
   "cell_type": "markdown",
   "metadata": {},
   "source": [
    "## 5.2 feature selection per importance"
   ]
  },
  {
   "cell_type": "code",
   "execution_count": 42,
   "metadata": {},
   "outputs": [
    {
     "name": "stdout",
     "output_type": "stream",
     "text": [
      "Feature ranking:\n",
      "                feature  importance\n",
      "0               minutes       0.115\n",
      "0                 title       0.067\n",
      "0          release_year       0.067\n",
      "0             listed_in       0.064\n",
      "0    description_length       0.064\n",
      "0  films_by_cast_member       0.060\n",
      "0       films_per_genre       0.059\n",
      "0           description       0.059\n",
      "0       number_of_casts       0.057\n",
      "0                  cast       0.057\n",
      "0               country       0.048\n",
      "0   years_since_release       0.047\n",
      "0     films_by_director       0.047\n",
      "0     films_per_country       0.046\n",
      "0              director       0.038\n",
      "0  number_of_listed_ins       0.028\n",
      "0   number_of_directors       0.020\n",
      "0         duration_bins       0.020\n",
      "0           movie_stage       0.019\n",
      "0    number_of_countrys       0.017\n"
     ]
    },
    {
     "data": {
      "text/html": [
       "<pre style=\"white-space:pre;overflow-x:auto;line-height:normal;font-family:Menlo,'DejaVu Sans Mono',consolas,'Courier New',monospace\"></pre>\n"
      ],
      "text/plain": []
     },
     "metadata": {},
     "output_type": "display_data"
    },
    {
     "data": {
      "image/png": "[encoded data removed]",
      "text/plain": [
       "\u001b[1m<\u001b[0m\u001b[1;95mFigure\u001b[0m\u001b[39m size 64\u001b[0m\u001b[1;36m0x480\u001b[0m\u001b[39m with \u001b[0m\u001b[1;36m1\u001b[0m\u001b[39m Axes\u001b[0m\u001b[1m>\u001b[0m"
      ]
     },
     "metadata": {},
     "output_type": "display_data"
    }
   ],
   "source": [
    "forest = ensemble.ExtraTreesRegressor(n_estimators=250, random_state=0, n_jobs=-1)\n",
    "\n",
    "forest.fit(x_train, y_train)\n",
    "\n",
    "# Collect features from model selector\n",
    "importances = forest.feature_importances_\n",
    "std = np.std([tree.feature_importances_ for tree in forest.estimators_], axis=0)\n",
    "indices = np.argsort(importances)[::-1]\n",
    "\n",
    "# Organize and print ranking per features\n",
    "print('Feature ranking:')\n",
    "df = pd.DataFrame()\n",
    "for i, j in zip(x_train, forest.feature_importances_):\n",
    "    aux = pd.DataFrame({'feature': i, 'importance': j}, index=[0])\n",
    "    df = pd.concat([df, aux], axis=0)\n",
    "\n",
    "print(df.sort_values('importance', ascending=False))\n",
    "\n",
    "# plot the impurity-based feature importances of the forest\n",
    "plt.figure()\n",
    "plt.title('Feature importances')\n",
    "plt.bar(range(x_train.shape[1]), importances[indices], color='r', yerr=std[indices], align='center')\n",
    "plt.xticks(range(x_train.shape[1]), indices)\n",
    "plt.xlim([-1, x_train.shape[1]])\n",
    "plt.show()"
   ]
  },
  {
   "cell_type": "markdown",
   "metadata": {},
   "source": [
    "Here we have the weights of the features for learning the model, one way would be to select the most impactful features until we reach one where the impact on its weight is considerably lower than the previous one, in this sense, I will choose up to the tenth feature."
   ]
  },
  {
   "cell_type": "markdown",
   "metadata": {},
   "source": [
    "## 5.3 Choice of features"
   ]
  },
  {
   "cell_type": "markdown",
   "metadata": {},
   "source": [
    "In both cases we have the columns 'title', 'minutes', 'films_per_genre', from here we will make two decisions:\n",
    "1) We will not use title, this feature is unique to each media and should not represent significant importance in the model.\n",
    "2) We will use all the other features in the feature importance method."
   ]
  },
  {
   "cell_type": "code",
   "execution_count": 51,
   "metadata": {},
   "outputs": [],
   "source": [
    "cols_feature_importance = ['minutes', 'release_year', 'listed_in', 'description_length', \n",
    "                           'films_by_cast_member', 'films_per_genre', 'description', \n",
    "                           'number_of_casts', 'cast']"
   ]
  },
  {
   "cell_type": "code",
   "execution_count": 52,
   "metadata": {},
   "outputs": [
    {
     "data": {
      "text/html": [
       "<pre style=\"white-space:pre;overflow-x:auto;line-height:normal;font-family:Menlo,'DejaVu Sans Mono',consolas,'Courier New',monospace\"><span style=\"color: #7fbfbf; text-decoration-color: #7fbfbf\">[09/23/23 18:22:33] </span><span style=\"color: #000080; text-decoration-color: #000080\">INFO    </span> Saving data to <span style=\"color: #008000; text-decoration-color: #008000\">'train_feature_selection'</span> <span style=\"font-weight: bold\">(</span>CSVDataSet<span style=\"font-weight: bold\">)</span><span style=\"color: #808000; text-decoration-color: #808000\">...</span>           <a href=\"file://f:\\SamuelOliveiraAlvesd\\Anaconda3\\envs\\netflix_classifier\\Lib\\site-packages\\kedro\\io\\data_catalog.py\" target=\"_blank\"><span style=\"color: #7f7f7f; text-decoration-color: #7f7f7f\">data_catalog.py</span></a><span style=\"color: #7f7f7f; text-decoration-color: #7f7f7f\">:</span><a href=\"file://f:\\SamuelOliveiraAlvesd\\Anaconda3\\envs\\netflix_classifier\\Lib\\site-packages\\kedro\\io\\data_catalog.py#531\" target=\"_blank\"><span style=\"color: #7f7f7f; text-decoration-color: #7f7f7f\">531</span></a>\n",
       "</pre>\n"
      ],
      "text/plain": [
       "\u001b[2;36m[09/23/23 18:22:33]\u001b[0m\u001b[2;36m \u001b[0m\u001b[34mINFO    \u001b[0m Saving data to \u001b[32m'train_feature_selection'\u001b[0m \u001b[1m(\u001b[0mCSVDataSet\u001b[1m)\u001b[0m\u001b[33m...\u001b[0m           \u001b]8;id=394935;file://f:\\SamuelOliveiraAlvesd\\Anaconda3\\envs\\netflix_classifier\\Lib\\site-packages\\kedro\\io\\data_catalog.py\u001b\\\u001b[2mdata_catalog.py\u001b[0m\u001b]8;;\u001b\\\u001b[2m:\u001b[0m\u001b]8;id=759135;file://f:\\SamuelOliveiraAlvesd\\Anaconda3\\envs\\netflix_classifier\\Lib\\site-packages\\kedro\\io\\data_catalog.py#531\u001b\\\u001b[2m531\u001b[0m\u001b]8;;\u001b\\\n"
      ]
     },
     "metadata": {},
     "output_type": "display_data"
    },
    {
     "data": {
      "text/html": [
       "<pre style=\"white-space:pre;overflow-x:auto;line-height:normal;font-family:Menlo,'DejaVu Sans Mono',consolas,'Courier New',monospace\"><span style=\"color: #7fbfbf; text-decoration-color: #7fbfbf\">                    </span><span style=\"color: #000080; text-decoration-color: #000080\">INFO    </span> Saving data to <span style=\"color: #008000; text-decoration-color: #008000\">'validation_feature_selection'</span> <span style=\"font-weight: bold\">(</span>CSVDataSet<span style=\"font-weight: bold\">)</span><span style=\"color: #808000; text-decoration-color: #808000\">...</span>      <a href=\"file://f:\\SamuelOliveiraAlvesd\\Anaconda3\\envs\\netflix_classifier\\Lib\\site-packages\\kedro\\io\\data_catalog.py\" target=\"_blank\"><span style=\"color: #7f7f7f; text-decoration-color: #7f7f7f\">data_catalog.py</span></a><span style=\"color: #7f7f7f; text-decoration-color: #7f7f7f\">:</span><a href=\"file://f:\\SamuelOliveiraAlvesd\\Anaconda3\\envs\\netflix_classifier\\Lib\\site-packages\\kedro\\io\\data_catalog.py#531\" target=\"_blank\"><span style=\"color: #7f7f7f; text-decoration-color: #7f7f7f\">531</span></a>\n",
       "</pre>\n"
      ],
      "text/plain": [
       "\u001b[2;36m                   \u001b[0m\u001b[2;36m \u001b[0m\u001b[34mINFO    \u001b[0m Saving data to \u001b[32m'validation_feature_selection'\u001b[0m \u001b[1m(\u001b[0mCSVDataSet\u001b[1m)\u001b[0m\u001b[33m...\u001b[0m      \u001b]8;id=918388;file://f:\\SamuelOliveiraAlvesd\\Anaconda3\\envs\\netflix_classifier\\Lib\\site-packages\\kedro\\io\\data_catalog.py\u001b\\\u001b[2mdata_catalog.py\u001b[0m\u001b]8;;\u001b\\\u001b[2m:\u001b[0m\u001b]8;id=154571;file://f:\\SamuelOliveiraAlvesd\\Anaconda3\\envs\\netflix_classifier\\Lib\\site-packages\\kedro\\io\\data_catalog.py#531\u001b\\\u001b[2m531\u001b[0m\u001b]8;;\u001b\\\n"
      ]
     },
     "metadata": {},
     "output_type": "display_data"
    }
   ],
   "source": [
    "catalog.save(\"train_feature_selection\", train_data_preparation[list(cols_feature_importance) + ['show_id', 'date_added', 'rating']])\n",
    "catalog.save(\"validation_feature_selection\", validation_data_preparation[list(cols_feature_importance) + ['show_id', 'date_added', 'rating']])"
   ]
  }
 ],
 "metadata": {
  "kernelspec": {
   "display_name": "Kedro (video_games_analysis)",
   "language": "python",
   "name": "kedro_video_games_analysis"
  },
  "language_info": {
   "codemirror_mode": {
    "name": "ipython",
    "version": 3
   },
   "file_extension": ".py",
   "mimetype": "text/x-python",
   "name": "python",
   "nbconvert_exporter": "python",
   "pygments_lexer": "ipython3",
   "version": "3.11.5"
  },
  "orig_nbformat": 4
 },
 "nbformat": 4,
 "nbformat_minor": 2
}
