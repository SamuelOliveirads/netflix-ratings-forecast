{
 "cells": [
  {
   "attachments": {},
   "cell_type": "markdown",
   "metadata": {},
   "source": [
    "# 0.0 Imports"
   ]
  },
  {
   "cell_type": "code",
   "execution_count": 1,
   "metadata": {},
   "outputs": [],
   "source": [
    "import warnings\n",
    "import numpy as np\n",
    "import pandas as pd\n",
    "import sweetviz as sv\n",
    "import seaborn as sns\n",
    "import plotly.figure_factory as ff\n",
    "\n",
    "from scipy.stats import yeojohnson, shapiro\n",
    "from tabulate import tabulate\n",
    "from matplotlib import pyplot as plt\n",
    "from pycorrcat import pycorrcat"
   ]
  },
  {
   "attachments": {},
   "cell_type": "markdown",
   "metadata": {},
   "source": [
    "## 0.1 Load data"
   ]
  },
  {
   "cell_type": "code",
   "execution_count": 2,
   "metadata": {},
   "outputs": [
    {
     "data": {
      "text/html": [
       "<pre style=\"white-space:pre;overflow-x:auto;line-height:normal;font-family:Menlo,'DejaVu Sans Mono',consolas,'Courier New',monospace\"><span style=\"color: #7fbfbf; text-decoration-color: #7fbfbf\">[09/23/23 17:29:08] </span><span style=\"color: #000080; text-decoration-color: #000080\">INFO    </span> Loading data from <span style=\"color: #008000; text-decoration-color: #008000\">'feature_engineering'</span> <span style=\"font-weight: bold\">(</span>CSVDataSet<span style=\"font-weight: bold\">)</span><span style=\"color: #808000; text-decoration-color: #808000\">...</span>            <a href=\"file://f:\\SamuelOliveiraAlvesd\\Anaconda3\\envs\\netflix_classifier\\Lib\\site-packages\\kedro\\io\\data_catalog.py\" target=\"_blank\"><span style=\"color: #7f7f7f; text-decoration-color: #7f7f7f\">data_catalog.py</span></a><span style=\"color: #7f7f7f; text-decoration-color: #7f7f7f\">:</span><a href=\"file://f:\\SamuelOliveiraAlvesd\\Anaconda3\\envs\\netflix_classifier\\Lib\\site-packages\\kedro\\io\\data_catalog.py#492\" target=\"_blank\"><span style=\"color: #7f7f7f; text-decoration-color: #7f7f7f\">492</span></a>\n",
       "</pre>\n"
      ],
      "text/plain": [
       "\u001b[2;36m[09/23/23 17:29:08]\u001b[0m\u001b[2;36m \u001b[0m\u001b[34mINFO    \u001b[0m Loading data from \u001b[32m'feature_engineering'\u001b[0m \u001b[1m(\u001b[0mCSVDataSet\u001b[1m)\u001b[0m\u001b[33m...\u001b[0m            \u001b]8;id=276490;file://f:\\SamuelOliveiraAlvesd\\Anaconda3\\envs\\netflix_classifier\\Lib\\site-packages\\kedro\\io\\data_catalog.py\u001b\\\u001b[2mdata_catalog.py\u001b[0m\u001b]8;;\u001b\\\u001b[2m:\u001b[0m\u001b]8;id=517769;file://f:\\SamuelOliveiraAlvesd\\Anaconda3\\envs\\netflix_classifier\\Lib\\site-packages\\kedro\\io\\data_catalog.py#492\u001b\\\u001b[2m492\u001b[0m\u001b]8;;\u001b\\\n"
      ]
     },
     "metadata": {},
     "output_type": "display_data"
    }
   ],
   "source": [
    "feature_engineering = catalog.load(\"feature_engineering\")"
   ]
  },
  {
   "attachments": {},
   "cell_type": "markdown",
   "metadata": {},
   "source": [
    "## 0.2 Helper Functions"
   ]
  },
  {
   "cell_type": "code",
   "execution_count": 3,
   "metadata": {},
   "outputs": [],
   "source": [
    "def notebook_settings():\n",
    "    pd.set_option('display.max_columns', None)\n",
    "    pd.set_option('display.max_rows', 60)\n",
    "    pd.set_option('display.float_format', lambda x: '%.3f' % x)\n",
    "\n",
    "    plt.style.use('bmh')\n",
    "    plt.rcParams['figure.figsize'] = [25,12]\n",
    "    plt.rcParams['font.size'] = 24\n",
    "    sns.set()\n",
    "    \n",
    "    warnings.filterwarnings('ignore')\n",
    "    return None\n",
    "\n",
    "\n",
    "notebook_settings()"
   ]
  },
  {
   "attachments": {},
   "cell_type": "markdown",
   "metadata": {},
   "source": [
    "# 4.0 Exploratory Data Analysis"
   ]
  },
  {
   "cell_type": "code",
   "execution_count": 4,
   "metadata": {},
   "outputs": [
    {
     "data": {
      "text/html": [
       "<pre style=\"white-space:pre;overflow-x:auto;line-height:normal;font-family:Menlo,'DejaVu Sans Mono',consolas,'Courier New',monospace\"></pre>\n"
      ],
      "text/plain": []
     },
     "metadata": {},
     "output_type": "display_data"
    },
    {
     "data": {
      "text/html": [
       "<div>\n",
       "<style scoped>\n",
       "    .dataframe tbody tr th:only-of-type {\n",
       "        vertical-align: middle;\n",
       "    }\n",
       "\n",
       "    .dataframe tbody tr th {\n",
       "        vertical-align: top;\n",
       "    }\n",
       "\n",
       "    .dataframe thead th {\n",
       "        text-align: right;\n",
       "    }\n",
       "</style>\n",
       "<table border=\"1\" class=\"dataframe\">\n",
       "  <thead>\n",
       "    <tr style=\"text-align: right;\">\n",
       "      <th></th>\n",
       "      <th>show_id</th>\n",
       "      <th>title</th>\n",
       "      <th>director</th>\n",
       "      <th>cast</th>\n",
       "      <th>country</th>\n",
       "      <th>date_added</th>\n",
       "      <th>release_year</th>\n",
       "      <th>rating</th>\n",
       "      <th>listed_in</th>\n",
       "      <th>description</th>\n",
       "      <th>minutes</th>\n",
       "      <th>duration_bins</th>\n",
       "      <th>years_since_release</th>\n",
       "      <th>description_length</th>\n",
       "      <th>movie_stage</th>\n",
       "      <th>number_of_directors</th>\n",
       "      <th>number_of_casts</th>\n",
       "      <th>number_of_countrys</th>\n",
       "      <th>number_of_listed_ins</th>\n",
       "      <th>films_by_director</th>\n",
       "      <th>films_by_cast_member</th>\n",
       "      <th>films_per_country</th>\n",
       "      <th>films_per_genre</th>\n",
       "    </tr>\n",
       "  </thead>\n",
       "  <tbody>\n",
       "    <tr>\n",
       "      <th>0</th>\n",
       "      <td>81145628</td>\n",
       "      <td>Norm of the North: King Sized Adventure</td>\n",
       "      <td>Richard Finn, Tim Maltby</td>\n",
       "      <td>Alan Marriott, Andrew Toth, Brian Dobson, Cole...</td>\n",
       "      <td>United States, India, South Korea, China</td>\n",
       "      <td>2019-09-09</td>\n",
       "      <td>2019</td>\n",
       "      <td>41</td>\n",
       "      <td>Children &amp; Family Movies, Comedies</td>\n",
       "      <td>Before planning an awesome wedding for his gra...</td>\n",
       "      <td>90</td>\n",
       "      <td>long</td>\n",
       "      <td>0</td>\n",
       "      <td>140</td>\n",
       "      <td>Development</td>\n",
       "      <td>2</td>\n",
       "      <td>10</td>\n",
       "      <td>4</td>\n",
       "      <td>2</td>\n",
       "      <td>1.000</td>\n",
       "      <td>2.200</td>\n",
       "      <td>564.250</td>\n",
       "      <td>96.500</td>\n",
       "    </tr>\n",
       "    <tr>\n",
       "      <th>1</th>\n",
       "      <td>80117401</td>\n",
       "      <td>Jandino: Whatever it Takes</td>\n",
       "      <td>others_directors</td>\n",
       "      <td>Jandino Asporaat</td>\n",
       "      <td>United Kingdom</td>\n",
       "      <td>2016-09-09</td>\n",
       "      <td>2016</td>\n",
       "      <td>52</td>\n",
       "      <td>Stand-Up Comedy</td>\n",
       "      <td>Jandino Asporaat riffs on the challenges of ra...</td>\n",
       "      <td>94</td>\n",
       "      <td>long</td>\n",
       "      <td>0</td>\n",
       "      <td>145</td>\n",
       "      <td>Development</td>\n",
       "      <td>1</td>\n",
       "      <td>1</td>\n",
       "      <td>1</td>\n",
       "      <td>1</td>\n",
       "      <td>129.000</td>\n",
       "      <td>2.000</td>\n",
       "      <td>170.000</td>\n",
       "      <td>273.000</td>\n",
       "    </tr>\n",
       "    <tr>\n",
       "      <th>2</th>\n",
       "      <td>80125979</td>\n",
       "      <td>#realityhigh</td>\n",
       "      <td>Fernando Lebrija</td>\n",
       "      <td>Nesta Cooper, Kate Walsh, John Michael Higgins...</td>\n",
       "      <td>United States</td>\n",
       "      <td>2017-09-08</td>\n",
       "      <td>2017</td>\n",
       "      <td>57</td>\n",
       "      <td>Comedies</td>\n",
       "      <td>When nerdy high schooler Dani finally attracts...</td>\n",
       "      <td>99</td>\n",
       "      <td>long</td>\n",
       "      <td>0</td>\n",
       "      <td>148</td>\n",
       "      <td>Development</td>\n",
       "      <td>1</td>\n",
       "      <td>12</td>\n",
       "      <td>1</td>\n",
       "      <td>1</td>\n",
       "      <td>1.000</td>\n",
       "      <td>1.750</td>\n",
       "      <td>1482.000</td>\n",
       "      <td>73.000</td>\n",
       "    </tr>\n",
       "    <tr>\n",
       "      <th>3</th>\n",
       "      <td>70304989</td>\n",
       "      <td>Automata</td>\n",
       "      <td>Gabe Ibáñez</td>\n",
       "      <td>Antonio Banderas, Dylan McDermott, Melanie Gri...</td>\n",
       "      <td>Bulgaria, United States, Spain, Canada</td>\n",
       "      <td>2017-09-08</td>\n",
       "      <td>2014</td>\n",
       "      <td>61</td>\n",
       "      <td>International Movies, Sci-Fi &amp; Fantasy, Thrillers</td>\n",
       "      <td>In a dystopian future, an insurance adjuster f...</td>\n",
       "      <td>110</td>\n",
       "      <td>long</td>\n",
       "      <td>3</td>\n",
       "      <td>149</td>\n",
       "      <td>Released</td>\n",
       "      <td>1</td>\n",
       "      <td>9</td>\n",
       "      <td>4</td>\n",
       "      <td>3</td>\n",
       "      <td>1.000</td>\n",
       "      <td>3.333</td>\n",
       "      <td>412.750</td>\n",
       "      <td>14.333</td>\n",
       "    </tr>\n",
       "    <tr>\n",
       "      <th>4</th>\n",
       "      <td>80164077</td>\n",
       "      <td>Fabrizio Copano: Solo pienso en mi</td>\n",
       "      <td>Rodrigo Toro, Francisco Schultz</td>\n",
       "      <td>Fabrizio Copano</td>\n",
       "      <td>Chile</td>\n",
       "      <td>2017-09-08</td>\n",
       "      <td>2017</td>\n",
       "      <td>49</td>\n",
       "      <td>Stand-Up Comedy</td>\n",
       "      <td>Fabrizio Copano takes audience participation t...</td>\n",
       "      <td>60</td>\n",
       "      <td>medium</td>\n",
       "      <td>0</td>\n",
       "      <td>149</td>\n",
       "      <td>Development</td>\n",
       "      <td>2</td>\n",
       "      <td>1</td>\n",
       "      <td>1</td>\n",
       "      <td>1</td>\n",
       "      <td>1.000</td>\n",
       "      <td>3.000</td>\n",
       "      <td>9.000</td>\n",
       "      <td>273.000</td>\n",
       "    </tr>\n",
       "  </tbody>\n",
       "</table>\n",
       "</div>"
      ],
      "text/plain": [
       "\n",
       "    show_id                                    title  \\\n",
       "\u001b[1;36m0\u001b[0m  \u001b[1;36m81145628\u001b[0m  Norm of the North: King Sized Adventure   \n",
       "\u001b[1;36m1\u001b[0m  \u001b[1;36m80117401\u001b[0m               Jandino: Whatever it Takes   \n",
       "\u001b[1;36m2\u001b[0m  \u001b[1;36m80125979\u001b[0m                             #realityhigh   \n",
       "\u001b[1;36m3\u001b[0m  \u001b[1;36m70304989\u001b[0m                                 Automata   \n",
       "\u001b[1;36m4\u001b[0m  \u001b[1;36m80164077\u001b[0m       Fabrizio Copano: Solo pienso en mi   \n",
       "\n",
       "                          director  \\\n",
       "\u001b[1;36m0\u001b[0m         Richard Finn, Tim Maltby   \n",
       "\u001b[1;36m1\u001b[0m                 others_directors   \n",
       "\u001b[1;36m2\u001b[0m                 Fernando Lebrija   \n",
       "\u001b[1;36m3\u001b[0m                      Gabe Ibáñez   \n",
       "\u001b[1;36m4\u001b[0m  Rodrigo Toro, Francisco Schultz   \n",
       "\n",
       "                                                cast  \\\n",
       "\u001b[1;36m0\u001b[0m  Alan Marriott, Andrew Toth, Brian Dobson, Cole\u001b[33m...\u001b[0m   \n",
       "\u001b[1;36m1\u001b[0m                                   Jandino Asporaat   \n",
       "\u001b[1;36m2\u001b[0m  Nesta Cooper, Kate Walsh, John Michael Higgins\u001b[33m...\u001b[0m   \n",
       "\u001b[1;36m3\u001b[0m  Antonio Banderas, Dylan McDermott, Melanie Gri\u001b[33m...\u001b[0m   \n",
       "\u001b[1;36m4\u001b[0m                                    Fabrizio Copano   \n",
       "\n",
       "                                    country date_added  release_year  rating  \\\n",
       "\u001b[1;36m0\u001b[0m  United States, India, South Korea, China \u001b[1;36m2019\u001b[0m-\u001b[1;36m09\u001b[0m-\u001b[1;36m09\u001b[0m          \u001b[1;36m2019\u001b[0m      \u001b[1;36m41\u001b[0m   \n",
       "\u001b[1;36m1\u001b[0m                            United Kingdom \u001b[1;36m2016\u001b[0m-\u001b[1;36m09\u001b[0m-\u001b[1;36m09\u001b[0m          \u001b[1;36m2016\u001b[0m      \u001b[1;36m52\u001b[0m   \n",
       "\u001b[1;36m2\u001b[0m                             United States \u001b[1;36m2017\u001b[0m-\u001b[1;36m09\u001b[0m-\u001b[1;36m08\u001b[0m          \u001b[1;36m2017\u001b[0m      \u001b[1;36m57\u001b[0m   \n",
       "\u001b[1;36m3\u001b[0m    Bulgaria, United States, Spain, Canada \u001b[1;36m2017\u001b[0m-\u001b[1;36m09\u001b[0m-\u001b[1;36m08\u001b[0m          \u001b[1;36m2014\u001b[0m      \u001b[1;36m61\u001b[0m   \n",
       "\u001b[1;36m4\u001b[0m                                     Chile \u001b[1;36m2017\u001b[0m-\u001b[1;36m09\u001b[0m-\u001b[1;36m08\u001b[0m          \u001b[1;36m2017\u001b[0m      \u001b[1;36m49\u001b[0m   \n",
       "\n",
       "                                           listed_in  \\\n",
       "\u001b[1;36m0\u001b[0m                 Children & Family Movies, Comedies   \n",
       "\u001b[1;36m1\u001b[0m                                    Stand-Up Comedy   \n",
       "\u001b[1;36m2\u001b[0m                                           Comedies   \n",
       "\u001b[1;36m3\u001b[0m  International Movies, Sci-Fi & Fantasy, Thrillers   \n",
       "\u001b[1;36m4\u001b[0m                                    Stand-Up Comedy   \n",
       "\n",
       "                                         description  minutes duration_bins  \\\n",
       "\u001b[1;36m0\u001b[0m  Before planning an awesome wedding for his gra\u001b[33m...\u001b[0m       \u001b[1;36m90\u001b[0m          long   \n",
       "\u001b[1;36m1\u001b[0m  Jandino Asporaat riffs on the challenges of ra\u001b[33m...\u001b[0m       \u001b[1;36m94\u001b[0m          long   \n",
       "\u001b[1;36m2\u001b[0m  When nerdy high schooler Dani finally attracts\u001b[33m...\u001b[0m       \u001b[1;36m99\u001b[0m          long   \n",
       "\u001b[1;36m3\u001b[0m  In a dystopian future, an insurance adjuster f\u001b[33m...\u001b[0m      \u001b[1;36m110\u001b[0m          long   \n",
       "\u001b[1;36m4\u001b[0m  Fabrizio Copano takes audience participation t\u001b[33m...\u001b[0m       \u001b[1;36m60\u001b[0m        medium   \n",
       "\n",
       "   years_since_release  description_length  movie_stage  number_of_directors  \\\n",
       "\u001b[1;36m0\u001b[0m                    \u001b[1;36m0\u001b[0m                 \u001b[1;36m140\u001b[0m  Development                    \u001b[1;36m2\u001b[0m   \n",
       "\u001b[1;36m1\u001b[0m                    \u001b[1;36m0\u001b[0m                 \u001b[1;36m145\u001b[0m  Development                    \u001b[1;36m1\u001b[0m   \n",
       "\u001b[1;36m2\u001b[0m                    \u001b[1;36m0\u001b[0m                 \u001b[1;36m148\u001b[0m  Development                    \u001b[1;36m1\u001b[0m   \n",
       "\u001b[1;36m3\u001b[0m                    \u001b[1;36m3\u001b[0m                 \u001b[1;36m149\u001b[0m     Released                    \u001b[1;36m1\u001b[0m   \n",
       "\u001b[1;36m4\u001b[0m                    \u001b[1;36m0\u001b[0m                 \u001b[1;36m149\u001b[0m  Development                    \u001b[1;36m2\u001b[0m   \n",
       "\n",
       "   number_of_casts  number_of_countrys  number_of_listed_ins  \\\n",
       "\u001b[1;36m0\u001b[0m               \u001b[1;36m10\u001b[0m                   \u001b[1;36m4\u001b[0m                     \u001b[1;36m2\u001b[0m   \n",
       "\u001b[1;36m1\u001b[0m                \u001b[1;36m1\u001b[0m                   \u001b[1;36m1\u001b[0m                     \u001b[1;36m1\u001b[0m   \n",
       "\u001b[1;36m2\u001b[0m               \u001b[1;36m12\u001b[0m                   \u001b[1;36m1\u001b[0m                     \u001b[1;36m1\u001b[0m   \n",
       "\u001b[1;36m3\u001b[0m                \u001b[1;36m9\u001b[0m                   \u001b[1;36m4\u001b[0m                     \u001b[1;36m3\u001b[0m   \n",
       "\u001b[1;36m4\u001b[0m                \u001b[1;36m1\u001b[0m                   \u001b[1;36m1\u001b[0m                     \u001b[1;36m1\u001b[0m   \n",
       "\n",
       "   films_by_director  films_by_cast_member  films_per_country  films_per_genre  \n",
       "\u001b[1;36m0\u001b[0m              \u001b[1;36m1.000\u001b[0m                 \u001b[1;36m2.200\u001b[0m            \u001b[1;36m564.250\u001b[0m           \u001b[1;36m96.500\u001b[0m  \n",
       "\u001b[1;36m1\u001b[0m            \u001b[1;36m129.000\u001b[0m                 \u001b[1;36m2.000\u001b[0m            \u001b[1;36m170.000\u001b[0m          \u001b[1;36m273.000\u001b[0m  \n",
       "\u001b[1;36m2\u001b[0m              \u001b[1;36m1.000\u001b[0m                 \u001b[1;36m1.750\u001b[0m           \u001b[1;36m1482.000\u001b[0m           \u001b[1;36m73.000\u001b[0m  \n",
       "\u001b[1;36m3\u001b[0m              \u001b[1;36m1.000\u001b[0m                 \u001b[1;36m3.333\u001b[0m            \u001b[1;36m412.750\u001b[0m           \u001b[1;36m14.333\u001b[0m  \n",
       "\u001b[1;36m4\u001b[0m              \u001b[1;36m1.000\u001b[0m                 \u001b[1;36m3.000\u001b[0m              \u001b[1;36m9.000\u001b[0m          \u001b[1;36m273.000\u001b[0m  "
      ]
     },
     "execution_count": 4,
     "metadata": {},
     "output_type": "execute_result"
    }
   ],
   "source": [
    "exploratory_data_analysis = feature_engineering.copy()\n",
    "\n",
    "exploratory_data_analysis.head()"
   ]
  },
  {
   "cell_type": "markdown",
   "metadata": {},
   "source": [
    "## 4.1 Univariate Analysis"
   ]
  },
  {
   "cell_type": "markdown",
   "metadata": {},
   "source": [
    "It is not necessary to execute the code, you can check the result in `/docs/SWEETVIZ_REPORT.html`."
   ]
  },
  {
   "cell_type": "code",
   "execution_count": 5,
   "metadata": {},
   "outputs": [],
   "source": [
    "# # We will use sweetviz for univariate automated analysis\n",
    "# my_report = sv.analyze(exploratory_data_analysis)\n",
    "# my_report.show_html(filepath='../docs/SWEETVIZ_REPORT.html', layout='widescreen')"
   ]
  },
  {
   "cell_type": "markdown",
   "metadata": {},
   "source": [
    "### 4.1.1 Sweetviz's main analyses"
   ]
  },
  {
   "cell_type": "markdown",
   "metadata": {},
   "source": [
    "Sweetviz is a powerful tool for automating analysis. The result is made up of several graphs which can be overwhelming to consult. For now, I'm highlighting the main information extracted, but it would be interesting to enrich this session with graphs in a second version:\n"
   ]
  },
  {
   "cell_type": "markdown",
   "metadata": {},
   "source": [
    "### 4.1.2 Response Variable"
   ]
  },
  {
   "cell_type": "code",
   "execution_count": 6,
   "metadata": {},
   "outputs": [
    {
     "data": {
      "text/html": [
       "<pre style=\"white-space:pre;overflow-x:auto;line-height:normal;font-family:Menlo,'DejaVu Sans Mono',consolas,'Courier New',monospace\"></pre>\n"
      ],
      "text/plain": []
     },
     "metadata": {},
     "output_type": "display_data"
    },
    {
     "data": {
      "image/png": "[encoded data removed]",
      "text/plain": [
       "\u001b[1m<\u001b[0m\u001b[1;95mFigure\u001b[0m\u001b[39m size 250\u001b[0m\u001b[1;36m0x1200\u001b[0m\u001b[39m with \u001b[0m\u001b[1;36m2\u001b[0m\u001b[39m Axes\u001b[0m\u001b[1m>\u001b[0m"
      ]
     },
     "metadata": {},
     "output_type": "display_data"
    }
   ],
   "source": [
    "plt.subplot(1, 2, 1)\n",
    "plt.title('Density by rating chart')\n",
    "sns.distplot(exploratory_data_analysis['rating'], kde=True)\n",
    "\n",
    "plt.subplot(1, 2, 2)\n",
    "plt.title('Boxplot by rating chart')\n",
    "sns.boxplot(exploratory_data_analysis['rating'])\n",
    "plt.ylabel('rating');"
   ]
  },
  {
   "cell_type": "markdown",
   "metadata": {},
   "source": [
    "- The response variable has patterns similar to the normal distribution, but we can improve this scenario in order to develop a generalist model."
   ]
  },
  {
   "cell_type": "code",
   "execution_count": 7,
   "metadata": {},
   "outputs": [
    {
     "data": {
      "text/html": [
       "<pre style=\"white-space:pre;overflow-x:auto;line-height:normal;font-family:Menlo,'DejaVu Sans Mono',consolas,'Courier New',monospace\"></pre>\n"
      ],
      "text/plain": []
     },
     "metadata": {},
     "output_type": "display_data"
    },
    {
     "data": {
      "image/png": "[encoded data removed]",
      "text/plain": [
       "\u001b[1m<\u001b[0m\u001b[1;95mFigure\u001b[0m\u001b[39m size 250\u001b[0m\u001b[1;36m0x1200\u001b[0m\u001b[39m with \u001b[0m\u001b[1;36m4\u001b[0m\u001b[39m Axes\u001b[0m\u001b[1m>\u001b[0m"
      ]
     },
     "metadata": {},
     "output_type": "display_data"
    }
   ],
   "source": [
    "# Original distribution and transformations of the 'rating' variable\n",
    "log_transformed = np.log1p(exploratory_data_analysis['rating'])  # Logarithmic\n",
    "sqrt_transformed = np.sqrt(exploratory_data_analysis['rating'])  # Square root\n",
    "yeojohnson_transformed, _ = yeojohnson(exploratory_data_analysis['rating'])  # Yeo-Johnson\n",
    "cube_root_transformed = np.cbrt(exploratory_data_analysis['rating']) # Apply cube root transformation\n",
    "\n",
    "fig, ax = plt.subplots(2, 2)\n",
    "\n",
    "sns.histplot(cube_root_transformed, kde=True, ax=ax[0, 0])\n",
    "ax[0, 0].set_title('Cube-root Transformed')\n",
    "sns.histplot(log_transformed, kde=True, ax=ax[0, 1])\n",
    "ax[0, 1].set_title('Log Transformed')\n",
    "sns.histplot(sqrt_transformed, kde=True, ax=ax[1, 0])\n",
    "ax[1, 0].set_title('Square Root Transformed')\n",
    "sns.histplot(yeojohnson_transformed, kde=True, ax=ax[1, 1])\n",
    "ax[1, 1].set_title('Yeo-Johnson Transformed')\n",
    "\n",
    "plt.tight_layout()\n",
    "plt.show()"
   ]
  },
  {
   "cell_type": "code",
   "execution_count": 8,
   "metadata": {},
   "outputs": [
    {
     "data": {
      "text/html": [
       "<pre style=\"white-space:pre;overflow-x:auto;line-height:normal;font-family:Menlo,'DejaVu Sans Mono',consolas,'Courier New',monospace\"></pre>\n"
      ],
      "text/plain": []
     },
     "metadata": {},
     "output_type": "display_data"
    },
    {
     "data": {
      "text/plain": [
       "\u001b[1m{\u001b[0m\u001b[32m'Log'\u001b[0m: \u001b[1;36m0.0\u001b[0m, \u001b[32m'Square Root'\u001b[0m: \u001b[1;36m0.0\u001b[0m, \u001b[32m'Yeo-Johnson'\u001b[0m: \u001b[1;36m8.847540433088324e-33\u001b[0m, \u001b[32m'Cube-root'\u001b[0m: \u001b[1;36m0.0\u001b[0m\u001b[1m}\u001b[0m"
      ]
     },
     "execution_count": 8,
     "metadata": {},
     "output_type": "execute_result"
    }
   ],
   "source": [
    "# Shapiro-Wilk test for normality\n",
    "test_results = {}\n",
    "transformations = [log_transformed, sqrt_transformed, yeojohnson_transformed, cube_root_transformed]\n",
    "\n",
    "for i, trans in enumerate(['Log', 'Square Root', 'Yeo-Johnson', 'Cube-root']):\n",
    "    _, p_value = shapiro(transformations[i])\n",
    "    test_results[trans] = p_value\n",
    "\n",
    "test_results"
   ]
  },
  {
   "cell_type": "markdown",
   "metadata": {},
   "source": [
    "For the results, a p-value below 0.05 suggests that the distribution is not normal.\n",
    " \n",
    "In all cases, the p-value is extremely small, suggesting that none of the distributions is perfectly normal. \n",
    "\n",
    "Although the theory calls for a normal distribution, in practice we should try to violate the assumptions as little as possible, given the situation and, based on the graphs, the Yeo-Johnson transformation was the closest to a normal distribution, even though the Shapiro-Wilk test suggests that it is not perfectly normal.\n",
    "\n",
    "In summary, we will apply this transformation when preparing the data."
   ]
  },
  {
   "attachments": {},
   "cell_type": "markdown",
   "metadata": {},
   "source": [
    "## 4.2 Bivariate Analysis"
   ]
  },
  {
   "cell_type": "markdown",
   "metadata": {},
   "source": [
    "### **Hypothesis 1**: Action films have an average rating 10% higher than comedy films."
   ]
  },
  {
   "cell_type": "code",
   "execution_count": 9,
   "metadata": {},
   "outputs": [
    {
     "data": {
      "text/html": [
       "<pre style=\"white-space:pre;overflow-x:auto;line-height:normal;font-family:Menlo,'DejaVu Sans Mono',consolas,'Courier New',monospace\"></pre>\n"
      ],
      "text/plain": []
     },
     "metadata": {},
     "output_type": "display_data"
    },
    {
     "data": {
      "image/png": "[encoded data removed]",
      "text/plain": [
       "\u001b[1m<\u001b[0m\u001b[1;95mFigure\u001b[0m\u001b[39m size 250\u001b[0m\u001b[1;36m0x1200\u001b[0m\u001b[39m with \u001b[0m\u001b[1;36m1\u001b[0m\u001b[39m Axes\u001b[0m\u001b[1m>\u001b[0m"
      ]
     },
     "metadata": {},
     "output_type": "display_data"
    }
   ],
   "source": [
    "# Filtering the data for movies of genre Action and Comedy and then getting their average ratings\n",
    "genres = ['Action', 'Comedy']\n",
    "genre_ratings = (exploratory_data_analysis[exploratory_data_analysis['listed_in'].str.contains('|'.join(genres))]\n",
    "                 .groupby(exploratory_data_analysis['listed_in'].str\n",
    "                          .extract('({})'.format('|'.join(genres)))[0])['rating'].mean())\n",
    "\n",
    "genre_ratings.plot(kind='bar', color=['red', 'blue'])\n",
    "plt.title('Average Rating of Action vs Comedy Movies')\n",
    "plt.ylabel('Average Rating')\n",
    "plt.xlabel('Genre')\n",
    "plt.xticks(rotation=0)\n",
    "plt.show()"
   ]
  },
  {
   "cell_type": "code",
   "execution_count": 10,
   "metadata": {},
   "outputs": [
    {
     "name": "stdout",
     "output_type": "stream",
     "text": [
      "The average rating for Action films is approximately 61.72 %.\n",
      "The average rating for Comedy films is approximately 63.28 %.\n",
      "The difference between the categories is -2.46% which means that hypothesis was REJECTED: Action movies do not have an average rating 10% higher than Comedy movies.\n"
     ]
    }
   ],
   "source": [
    "difference = ((genre_ratings['Action'] - genre_ratings['Comedy']) / genre_ratings['Comedy']) * 100\n",
    "\n",
    "print(f\"The average rating for {genre_ratings.index[0]} films is approximately {genre_ratings['Action']:.2f} %.\")\n",
    "print(f\"The average rating for {genre_ratings.index[1]} films is approximately {genre_ratings['Comedy']:.2f} %.\")\n",
    "\n",
    "print(f\"The difference between the categories is {difference:.2f}% which means that\", end=\" \")\n",
    "\n",
    "hipo_perc = 10\n",
    "if difference >= hipo_perc:\n",
    "    print(f\"hypothesis was VALIDATED: {genre_ratings.index[0]} movies have an average rating at least {hipo_perc}% higher than {genre_ratings.index[1]} movies.\")\n",
    "else:\n",
    "    print(f\"hypothesis was REJECTED: {genre_ratings.index[0]} movies do not have an average rating {hipo_perc}% higher than {genre_ratings.index[1]} movies.\")"
   ]
  },
  {
   "cell_type": "markdown",
   "metadata": {},
   "source": [
    "- Insights can be born out of different behaviors, which break assumptions and generate actionable insights; analysis shows similar behavior, which does not contribute to possible insights."
   ]
  },
  {
   "cell_type": "markdown",
   "metadata": {},
   "source": [
    "### **Hypothesis 2**: Films directed by directors who have released more than 5 films have an average rating 15% higher than those directed by directors with less than 5 films."
   ]
  },
  {
   "cell_type": "code",
   "execution_count": 11,
   "metadata": {},
   "outputs": [
    {
     "data": {
      "text/html": [
       "<pre style=\"white-space:pre;overflow-x:auto;line-height:normal;font-family:Menlo,'DejaVu Sans Mono',consolas,'Courier New',monospace\"></pre>\n"
      ],
      "text/plain": []
     },
     "metadata": {},
     "output_type": "display_data"
    },
    {
     "data": {
      "image/png": "[encoded data removed]",
      "text/plain": [
       "\u001b[1m<\u001b[0m\u001b[1;95mFigure\u001b[0m\u001b[39m size 250\u001b[0m\u001b[1;36m0x1200\u001b[0m\u001b[39m with \u001b[0m\u001b[1;36m1\u001b[0m\u001b[39m Axes\u001b[0m\u001b[1m>\u001b[0m"
      ]
     },
     "metadata": {},
     "output_type": "display_data"
    }
   ],
   "source": [
    "# Grouping by director and counting the number of movies they directed\n",
    "director_counts = exploratory_data_analysis.groupby('director').size()\n",
    "\n",
    "# Filtering directors who directed more than 5 movies and less than 5 movies\n",
    "directors_more_than_5 = director_counts[director_counts > 5].index\n",
    "directors_less_or_equal_5 = director_counts[director_counts <= 5].index\n",
    "\n",
    "# Calculating average ratings for both groups\n",
    "rating_more_than_5 = exploratory_data_analysis[exploratory_data_analysis['director'].isin(directors_more_than_5)]['rating'].mean()\n",
    "rating_less_than_5 = exploratory_data_analysis[exploratory_data_analysis['director'].isin(directors_less_or_equal_5)]['rating'].mean()\n",
    "\n",
    "director_ratings = pd.Series([rating_more_than_5, rating_less_than_5], index=['> 5 movies', '<= 5 movies'])\n",
    "\n",
    "director_ratings.plot(kind='bar', color=['green', 'orange'])\n",
    "plt.title('Average Rating Based on Number of Films Directed')\n",
    "plt.ylabel('Average Rating')\n",
    "plt.xlabel('Number of Films Directed')\n",
    "plt.xticks(rotation=0)\n",
    "plt.show()"
   ]
  },
  {
   "cell_type": "code",
   "execution_count": 12,
   "metadata": {},
   "outputs": [
    {
     "name": "stdout",
     "output_type": "stream",
     "text": [
      "The average rating for director with > 5 movies is approximately 56.04 %.\n",
      "The average rating for director with <= 5 movies is approximately 62.90 %.\n",
      "The difference between the categories is -10.91% which means that hypothesis was REJECTED: director with > 5 movies do not have an average rating 15% higher than <= 5 movies.\n"
     ]
    }
   ],
   "source": [
    "difference = ((director_ratings['> 5 movies'] - director_ratings['<= 5 movies']) / director_ratings['<= 5 movies']) * 100\n",
    "\n",
    "print(f\"The average rating for director with {director_ratings.index[0]} is approximately {director_ratings['> 5 movies']:.2f} %.\")\n",
    "print(f\"The average rating for director with {director_ratings.index[1]} is approximately {director_ratings['<= 5 movies']:.2f} %.\")\n",
    "\n",
    "print(f\"The difference between the categories is {difference:.2f}% which means that\", end=\" \")\n",
    "\n",
    "hipo_perc = 15\n",
    "if difference >= hipo_perc:\n",
    "    print(f\"hypothesis was VALIDATED: director with {director_ratings.index[0]} have an average rating at least {hipo_perc}% higher than {director_ratings.index[1]}.\")\n",
    "else:\n",
    "    print(f\"hypothesis was REJECTED: director with {director_ratings.index[0]} do not have an average rating {hipo_perc}% higher than {director_ratings.index[1]}.\")"
   ]
  },
  {
   "cell_type": "markdown",
   "metadata": {},
   "source": [
    "- The aim was to understand whether apparently more experienced directors had a positive relationship with the scores, in fact generating an opposite situation can break a premise, perhaps novice directors have some kind of support or freedom in their work that contributes"
   ]
  },
  {
   "cell_type": "markdown",
   "metadata": {},
   "source": [
    "### **Hypothesis 3**: Films with casts that have appeared in more than 10 listed films have an average rating 10% higher."
   ]
  },
  {
   "cell_type": "code",
   "execution_count": 13,
   "metadata": {},
   "outputs": [
    {
     "data": {
      "text/html": [
       "<pre style=\"white-space:pre;overflow-x:auto;line-height:normal;font-family:Menlo,'DejaVu Sans Mono',consolas,'Courier New',monospace\"></pre>\n"
      ],
      "text/plain": []
     },
     "metadata": {},
     "output_type": "display_data"
    },
    {
     "data": {
      "image/png": "[encoded data removed]",
      "text/plain": [
       "\u001b[1m<\u001b[0m\u001b[1;95mFigure\u001b[0m\u001b[39m size 250\u001b[0m\u001b[1;36m0x1200\u001b[0m\u001b[39m with \u001b[0m\u001b[1;36m1\u001b[0m\u001b[39m Axes\u001b[0m\u001b[1m>\u001b[0m"
      ]
     },
     "metadata": {},
     "output_type": "display_data"
    }
   ],
   "source": [
    "# Splitting the cast column and then stacking the results to get a series where each value is an actor\n",
    "actors = exploratory_data_analysis['cast'].str.split(', ').dropna().explode()\n",
    "\n",
    "# Filtering actors who appeared in more than 10 movies and 10 or fewer movies\n",
    "actor_counts = actors.value_counts()\n",
    "more_than_10 = actor_counts[actor_counts > 10].index\n",
    "less_than_10 = actor_counts[actor_counts <= 10].index\n",
    "\n",
    "# Calculating average ratings for both groups\n",
    "rating_more_than_10 = exploratory_data_analysis[exploratory_data_analysis['cast'].str.contains('|'.join(more_than_10), na=False)]['rating'].mean()\n",
    "rating_less_than_10 = exploratory_data_analysis[exploratory_data_analysis['cast'].str.contains('|'.join(less_than_10), na=False)]['rating'].mean()\n",
    "\n",
    "actor_ratings = pd.Series([rating_more_than_10, rating_less_than_10], index=['> 10 movies', '<= 10 movies'])\n",
    "\n",
    "actor_ratings.plot(kind='bar', color=['purple', 'green'])\n",
    "plt.title('Average Rating Based on Number of Cast Appearances')\n",
    "plt.ylabel('Average Rating')\n",
    "plt.xlabel('Number of Films in which the Cast Appeared')\n",
    "plt.xticks(rotation=0)\n",
    "plt.show()"
   ]
  },
  {
   "cell_type": "code",
   "execution_count": 14,
   "metadata": {},
   "outputs": [
    {
     "name": "stdout",
     "output_type": "stream",
     "text": [
      "The average rating for actor with > 10 movies is approximately 63.68 %.\n",
      "The average rating for actor with <= 10 movies is approximately 62.35 %.\n",
      "The difference between the categories is 2.14 % which means that hypothesis was REJECTED: actor with > 10 movies do not have an average rating 10% higher than <= 10 movies.\n"
     ]
    }
   ],
   "source": [
    "difference = ((actor_ratings['> 10 movies'] - actor_ratings['<= 10 movies']) / actor_ratings['<= 10 movies']) * 100\n",
    "\n",
    "print(f\"The average rating for actor with {actor_ratings.index[0]} is approximately {actor_ratings['> 10 movies']:.2f} %.\")\n",
    "print(f\"The average rating for actor with {actor_ratings.index[1]} is approximately {actor_ratings['<= 10 movies']:.2f} %.\")\n",
    "\n",
    "print(f\"The difference between the categories is {difference:.2f} % which means that\", end=\" \")\n",
    "\n",
    "hipo_perc = 10\n",
    "if difference >= hipo_perc:\n",
    "    print(f\"hypothesis was VALIDATED: actor with {actor_ratings.index[0]} have an average rating at least {hipo_perc}% higher than {actor_ratings.index[1]}.\")\n",
    "else:\n",
    "    print(f\"hypothesis was REJECTED: actor with {actor_ratings.index[0]} do not have an average rating {hipo_perc}% higher than {actor_ratings.index[1]}.\")"
   ]
  },
  {
   "cell_type": "markdown",
   "metadata": {},
   "source": [
    "- Similar to hypothesis 1, we have considerably similar situations which do not allow us to extract significant information."
   ]
  },
  {
   "cell_type": "markdown",
   "metadata": {},
   "source": [
    "### **Hypothesis 4**: Films lasting more than 120 minutes have an average rating 5% lower than shorter films."
   ]
  },
  {
   "cell_type": "code",
   "execution_count": 15,
   "metadata": {},
   "outputs": [
    {
     "data": {
      "text/html": [
       "<pre style=\"white-space:pre;overflow-x:auto;line-height:normal;font-family:Menlo,'DejaVu Sans Mono',consolas,'Courier New',monospace\"></pre>\n"
      ],
      "text/plain": []
     },
     "metadata": {},
     "output_type": "display_data"
    },
    {
     "data": {
      "image/png": "[encoded data removed]",
      "text/plain": [
       "\u001b[1m<\u001b[0m\u001b[1;95mFigure\u001b[0m\u001b[39m size 250\u001b[0m\u001b[1;36m0x1200\u001b[0m\u001b[39m with \u001b[0m\u001b[1;36m1\u001b[0m\u001b[39m Axes\u001b[0m\u001b[1m>\u001b[0m"
      ]
     },
     "metadata": {},
     "output_type": "display_data"
    }
   ],
   "source": [
    "# Filtering movies based on duration\n",
    "more_than_120 = exploratory_data_analysis[exploratory_data_analysis['minutes'] > 120]['rating']\n",
    "less_than_120 = exploratory_data_analysis[exploratory_data_analysis['minutes'] <= 120]['rating']\n",
    "\n",
    "plt.hist([more_than_120, less_than_120], bins=20, color=['yellow', 'grey'], label=['> 120 minutes', '<= 120 minutes'], alpha=0.7)\n",
    "plt.title('Distribution of Ratings Based on Movie Length')\n",
    "plt.ylabel('Number of Films')\n",
    "plt.xlabel('Rating')\n",
    "plt.legend()\n",
    "plt.show()"
   ]
  },
  {
   "cell_type": "code",
   "execution_count": 16,
   "metadata": {},
   "outputs": [
    {
     "name": "stdout",
     "output_type": "stream",
     "text": [
      "The average rating for films with > 120 minutes is approximately 67.95 %.\n",
      "The average rating for films with <= 120 minutes is approximately 61.01 %.\n",
      "The difference between the categories is -10.22 % which means that hypothesis was REJECTED: films with > 120 minutes do not have an average rating 5% lower than <= 120 minutes.\n"
     ]
    }
   ],
   "source": [
    "mean_rating_long_movies = more_than_120.mean()\n",
    "mean_rating_short_movies = less_than_120.mean()\n",
    "\n",
    "mean_rating_movies = pd.Series([mean_rating_long_movies, mean_rating_short_movies], index=['> 120 minutes', '<= 120 minutes'])\n",
    "\n",
    "difference = ((mean_rating_movies['<= 120 minutes'] - mean_rating_movies['> 120 minutes']) / mean_rating_movies['> 120 minutes']) * 100\n",
    "\n",
    "print(f\"The average rating for films with {mean_rating_movies.index[0]} is approximately {mean_rating_movies['> 120 minutes']:.2f} %.\")\n",
    "print(f\"The average rating for films with {mean_rating_movies.index[1]} is approximately {mean_rating_movies['<= 120 minutes']:.2f} %.\")\n",
    "\n",
    "print(f\"The difference between the categories is {difference:.2f} % which means that\", end=\" \")\n",
    "\n",
    "hipo_perc = 5\n",
    "if difference >= hipo_perc:\n",
    "    print(f\"hypothesis was VALIDATED: films with {mean_rating_movies.index[0]} have an average rating at least {hipo_perc}% lower than {mean_rating_movies.index[1]}.\")\n",
    "else:\n",
    "    print(f\"hypothesis was REJECTED: films with {mean_rating_movies.index[0]} do not have an average rating {hipo_perc}% lower than {mean_rating_movies.index[1]}.\")"
   ]
  },
  {
   "cell_type": "markdown",
   "metadata": {},
   "source": [
    "- This is a good hypothesis because it analyzes that long films should have a lower rating, which is the opposite, this can be valuable, since documentaries are the most popular type of category, there may be some association that would allow us to make future analyzes in new cycles"
   ]
  },
  {
   "cell_type": "markdown",
   "metadata": {},
   "source": [
    "### **Hypothesis 5**: Films released after the year 2000 have an average rating 10% higher than films released before 2000."
   ]
  },
  {
   "cell_type": "code",
   "execution_count": 17,
   "metadata": {},
   "outputs": [
    {
     "data": {
      "text/html": [
       "<pre style=\"white-space:pre;overflow-x:auto;line-height:normal;font-family:Menlo,'DejaVu Sans Mono',consolas,'Courier New',monospace\"></pre>\n"
      ],
      "text/plain": []
     },
     "metadata": {},
     "output_type": "display_data"
    },
    {
     "data": {
      "image/png": "[encoded data removed]",
      "text/plain": [
       "\u001b[1m<\u001b[0m\u001b[1;95mFigure\u001b[0m\u001b[39m size 250\u001b[0m\u001b[1;36m0x1200\u001b[0m\u001b[39m with \u001b[0m\u001b[1;36m1\u001b[0m\u001b[39m Axes\u001b[0m\u001b[1m>\u001b[0m"
      ]
     },
     "metadata": {},
     "output_type": "display_data"
    }
   ],
   "source": [
    "post_2000_movies = exploratory_data_analysis[exploratory_data_analysis['release_year'] > 2000]\n",
    "pre_2000_movies = exploratory_data_analysis[exploratory_data_analysis['release_year'] <= 2000]\n",
    "\n",
    "mean_rating_post_2000 = post_2000_movies['rating'].mean()\n",
    "mean_rating_pre_2000 = pre_2000_movies['rating'].mean()\n",
    "\n",
    "anual_labels = ['Post 2000', 'Pre 2000']\n",
    "values = [mean_rating_post_2000, mean_rating_pre_2000]\n",
    "\n",
    "sns.barplot(x=anual_labels, y=values, palette=\"viridis\")\n",
    "plt.title(\"Average Rating of Movies: Post 2000 vs Pre 2000\")\n",
    "plt.ylabel(\"Average Rating\")\n",
    "plt.show()"
   ]
  },
  {
   "cell_type": "code",
   "execution_count": 18,
   "metadata": {},
   "outputs": [
    {
     "name": "stdout",
     "output_type": "stream",
     "text": [
      "The average rating for films with Post 2000 is approximately 61.77 %.\n",
      "The average rating for films with Pre 2000 is approximately 68.57 %.\n",
      "The difference between the categories is -9.91 % which means that hypothesis was REJECTED: films with Post 2000 do not have an average rating 10% higher than Pre 2000.\n"
     ]
    }
   ],
   "source": [
    "mean_rating_movies = pd.Series([mean_rating_post_2000, mean_rating_pre_2000], index=anual_labels)\n",
    "\n",
    "difference = ((mean_rating_movies['Post 2000'] - mean_rating_movies['Pre 2000']) / mean_rating_movies['Pre 2000']) * 100\n",
    "\n",
    "print(f\"The average rating for films with {mean_rating_movies.index[0]} is approximately {mean_rating_movies['Post 2000']:.2f} %.\")\n",
    "print(f\"The average rating for films with {mean_rating_movies.index[1]} is approximately {mean_rating_movies['Pre 2000']:.2f} %.\")\n",
    "\n",
    "print(f\"The difference between the categories is {difference:.2f} % which means that\", end=\" \")\n",
    "\n",
    "hipo_perc = 10\n",
    "if difference >= hipo_perc:\n",
    "    print(f\"hypothesis was VALIDATED: films with {mean_rating_movies.index[0]} have an average rating at least {hipo_perc}% higher than {mean_rating_movies.index[1]}.\")\n",
    "else:\n",
    "    print(f\"hypothesis was REJECTED: films with {mean_rating_movies.index[0]} do not have an average rating {hipo_perc}% higher than {mean_rating_movies.index[1]}.\")"
   ]
  },
  {
   "cell_type": "markdown",
   "metadata": {},
   "source": [
    "- This hypothesis has a similar pattern to the previous one: we can identify a trend of loss in valuation over time, which may motivate more detailed analysis and understand whether this temporal behavior exists."
   ]
  },
  {
   "cell_type": "markdown",
   "metadata": {},
   "source": [
    "### **Hypothesis 6**: Films released after 2010 and classified as \"Sci-Fi\" have an average rating 10% higher."
   ]
  },
  {
   "cell_type": "code",
   "execution_count": 19,
   "metadata": {},
   "outputs": [
    {
     "data": {
      "text/html": [
       "<pre style=\"white-space:pre;overflow-x:auto;line-height:normal;font-family:Menlo,'DejaVu Sans Mono',consolas,'Courier New',monospace\"></pre>\n"
      ],
      "text/plain": []
     },
     "metadata": {},
     "output_type": "display_data"
    },
    {
     "data": {
      "image/png": "[encoded data removed]",
      "text/plain": [
       "\u001b[1m<\u001b[0m\u001b[1;95mFigure\u001b[0m\u001b[39m size 250\u001b[0m\u001b[1;36m0x1200\u001b[0m\u001b[39m with \u001b[0m\u001b[1;36m1\u001b[0m\u001b[39m Axes\u001b[0m\u001b[1m>\u001b[0m"
      ]
     },
     "metadata": {},
     "output_type": "display_data"
    }
   ],
   "source": [
    "# Filtering Sci-Fi movies released after 2010 and before 2010\n",
    "sci_fi_after_2010 = exploratory_data_analysis[(exploratory_data_analysis['release_year'] > 2010) & (exploratory_data_analysis['listed_in'].str.contains('Sci-Fi'))]['rating']\n",
    "sci_fi_before_2010 = exploratory_data_analysis[(exploratory_data_analysis['release_year'] <= 2010) & (exploratory_data_analysis['listed_in'].str.contains('Sci-Fi'))]['rating']\n",
    "\n",
    "# Calculating average ratings for both groups\n",
    "avg_rating_after_2010 = sci_fi_after_2010.mean()\n",
    "avg_rating_before_2010 = sci_fi_before_2010.mean()\n",
    "\n",
    "sci_fi_ratings = pd.Series([avg_rating_after_2010, avg_rating_before_2010], index=['After 2010', 'Before 2010'])\n",
    "\n",
    "sci_fi_ratings.plot(kind='bar', color=['blue', 'pink'])\n",
    "plt.title('Distribution of Ratings Based on Movie Length')\n",
    "plt.ylabel('Number of Films')\n",
    "plt.xlabel('Rating')\n",
    "plt.xticks(rotation=0)\n",
    "plt.show()"
   ]
  },
  {
   "cell_type": "code",
   "execution_count": 20,
   "metadata": {},
   "outputs": [
    {
     "name": "stdout",
     "output_type": "stream",
     "text": [
      "The average rating for films scifi After 2010 is approximately 59.21 %.\n",
      "The average rating for films scifi Before 2010 is approximately 65.69 %.\n",
      "The difference between the categories is -9.88 % which means that hypothesis was REJECTED: films scifi After 2010 do not have an average rating 10% higher than Before 2010.\n"
     ]
    }
   ],
   "source": [
    "difference = ((sci_fi_ratings['After 2010'] - sci_fi_ratings['Before 2010']) / sci_fi_ratings['Before 2010']) * 100\n",
    "\n",
    "print(f\"The average rating for films scifi {sci_fi_ratings.index[0]} is approximately {sci_fi_ratings['After 2010']:.2f} %.\")\n",
    "print(f\"The average rating for films scifi {sci_fi_ratings.index[1]} is approximately {sci_fi_ratings['Before 2010']:.2f} %.\")\n",
    "\n",
    "print(f\"The difference between the categories is {difference:.2f} % which means that\", end=\" \")\n",
    "\n",
    "hipo_perc = 10\n",
    "if difference >= hipo_perc:\n",
    "    print(f\"hypothesis was VALIDATED: films scifi {sci_fi_ratings.index[0]} have an average rating at least {hipo_perc}% higher than {sci_fi_ratings.index[1]}.\")\n",
    "else:\n",
    "    print(f\"hypothesis was REJECTED: films scifi {sci_fi_ratings.index[0]} do not have an average rating {hipo_perc}% higher than {sci_fi_ratings.index[1]}.\")"
   ]
  },
  {
   "cell_type": "markdown",
   "metadata": {},
   "source": [
    "- Similar to the previous hypothesis, here we sought to understand whether the temporal behavior was associated with gender, which could mean that it was a temporal reflex and not associated with gender."
   ]
  },
  {
   "cell_type": "markdown",
   "metadata": {},
   "source": [
    "### 4.2.1 Summary of Hypotheses"
   ]
  },
  {
   "cell_type": "markdown",
   "metadata": {},
   "source": [
    "- This summary table helps to understand the results of the analysis, the relevance and demonstrates the potential for insights based on the analysis and comments made."
   ]
  },
  {
   "cell_type": "code",
   "execution_count": 21,
   "metadata": {},
   "outputs": [
    {
     "name": "stdout",
     "output_type": "stream",
     "text": [
      "Hypothesis    Conclusion    Relevance\n",
      "------------  ------------  -----------\n",
      "H1            False         Low\n",
      "H2            False         High\n",
      "H3            False         Low\n",
      "H4            True          High\n",
      "H5            False         Average\n",
      "H6            False         Average\n"
     ]
    }
   ],
   "source": [
    "tab = [['Hypothesis', 'Conclusion', 'Relevance'],\n",
    "       ['H1', 'False', 'Low'],\n",
    "       ['H2', 'False', 'High'],\n",
    "       ['H3', 'False', 'Low'],\n",
    "       ['H4', 'True', 'High'],\n",
    "       ['H5', 'False', 'Average'],\n",
    "       ['H6', 'False', 'Average'],\n",
    "      ]\n",
    "print(tabulate(tab, headers='firstrow'))"
   ]
  },
  {
   "cell_type": "markdown",
   "metadata": {},
   "source": [
    "## 4.3 Multivariate Analysis"
   ]
  },
  {
   "cell_type": "markdown",
   "metadata": {},
   "source": [
    "### 4.3.1 Numerical Attributes"
   ]
  },
  {
   "cell_type": "code",
   "execution_count": 22,
   "metadata": {},
   "outputs": [
    {
     "data": {
      "application/vnd.plotly.v1+json": {
       "config": {
        "plotlyServerURL": "https://plot.ly"
       },
       "data": [
        {
         "colorscale": [
          [
           0,
           "rgb(0,0,255)"
          ],
          [
           1,
           "rgb(255,0,0)"
          ]
         ],
         "reversescale": false,
         "showscale": true,
         "type": "heatmap",
         "x": [
          "show_id",
          "release_year",
          "rating",
          "minutes",
          "years_since_release",
          "description_length",
          "number_of_directors",
          "number_of_casts",
          "number_of_countrys",
          "number_of_listed_ins",
          "films_by_director",
          "films_by_cast_member",
          "films_per_country",
          "films_per_genre"
         ],
         "y": [
          "show_id",
          "release_year",
          "rating",
          "minutes",
          "years_since_release",
          "description_length",
          "number_of_directors",
          "number_of_casts",
          "number_of_countrys",
          "number_of_listed_ins",
          "films_by_director",
          "films_by_cast_member",
          "films_per_country",
          "films_per_genre"
         ],
         "z": [
          [
           1,
           0.5834777701204549,
           -0.1325803843165128,
           -0.17695709029700432,
           -0.5961741172411114,
           -0.05687381919001354,
           0.027911879509962583,
           -0.21151555952586745,
           -0.0017268987185456402,
           -0.03632331785167799,
           0.05212636983944781,
           0.09683320919992683,
           -0.18849736527421843,
           0.10747495550414027
          ],
          [
           0.5834777701204549,
           1,
           -0.14434687606639754,
           -0.1749109892175525,
           -0.9924141130616867,
           -0.050400146259585915,
           0.011699256005485681,
           -0.15134542887827954,
           0.02285883693767984,
           -0.10680581086533687,
           0.04353516689170992,
           0.06949191698936281,
           -0.11359738050052529,
           0.1233999507454137
          ],
          [
           -0.1325803843165128,
           -0.14434687606639754,
           1,
           0.1978116610016688,
           0.1440504261682395,
           0.06125595351182728,
           -0.013018327132746992,
           0.005791758705279711,
           0.05893992540424691,
           0.06469494228727188,
           -0.13552721632180204,
           -0.00947402380540077,
           0.08336664566557228,
           0.05367793741720212
          ],
          [
           -0.17695709029700432,
           -0.1749109892175525,
           0.1978116610016688,
           1,
           0.1912635086307599,
           0.01692012076485487,
           -0.057931152229302466,
           0.3539606178896912,
           0.039751008667996045,
           0.45137114114305643,
           -0.19411405256362213,
           -0.21722993358868278,
           -0.11728236109064046,
           -0.4510117074645772
          ],
          [
           -0.5961741172411114,
           -0.9924141130616867,
           0.1440504261682395,
           0.1912635086307599,
           1,
           0.048721487156149844,
           -0.01824372906457725,
           0.16985382634701326,
           -0.022385036606363182,
           0.11872109988256546,
           -0.046501071864321106,
           -0.07948839139009058,
           0.10952001817289976,
           -0.14270732581230725
          ],
          [
           -0.05687381919001354,
           -0.050400146259585915,
           0.06125595351182728,
           0.01692012076485487,
           0.048721487156149844,
           1,
           -0.0010689901028652661,
           0.015065097572811251,
           -0.001559579654371957,
           -0.011375987673180038,
           -0.03521773585551069,
           0.011586598504213237,
           0.015431949367009503,
           0.030071712772287606
          ],
          [
           0.027911879509962583,
           0.011699256005485681,
           -0.013018327132746992,
           -0.057931152229302466,
           -0.01824372906457725,
           -0.0010689901028652661,
           1,
           0.0028352986887320215,
           0.010571736617095233,
           -0.05120555993731824,
           -0.039653536974879174,
           0.06316386029625677,
           0.013775466789433321,
           0.05742340680590178
          ],
          [
           -0.21151555952586745,
           -0.15134542887827954,
           0.005791758705279711,
           0.3539606178896912,
           0.16985382634701326,
           0.015065097572811251,
           0.0028352986887320215,
           1,
           0.04827337103199381,
           0.291921861574465,
           -0.137897387793582,
           -0.4350110750321416,
           0.013970311000530086,
           -0.6010379062173308
          ],
          [
           -0.0017268987185456402,
           0.02285883693767984,
           0.05893992540424691,
           0.039751008667996045,
           -0.022385036606363182,
           -0.001559579654371957,
           0.010571736617095233,
           0.04827337103199381,
           1,
           0.0390751475124931,
           -0.03628894871130881,
           0.04060940322521696,
           -0.21726230220310033,
           -0.06025011064669243
          ],
          [
           -0.03632331785167799,
           -0.10680581086533687,
           0.06469494228727188,
           0.45137114114305643,
           0.11872109988256546,
           -0.011375987673180038,
           -0.05120555993731824,
           0.291921861574465,
           0.0390751475124931,
           1,
           -0.1288155472390241,
           -0.17784547762618338,
           -0.31597273091636885,
           -0.6412978623356792
          ],
          [
           0.05212636983944781,
           0.04353516689170992,
           -0.13552721632180204,
           -0.19411405256362213,
           -0.046501071864321106,
           -0.03521773585551069,
           -0.039653536974879174,
           -0.137897387793582,
           -0.03628894871130881,
           -0.1288155472390241,
           1,
           0.07718110353902047,
           -0.026589714551904113,
           0.10775642713438383
          ],
          [
           0.09683320919992683,
           0.06949191698936281,
           -0.00947402380540077,
           -0.21722993358868278,
           -0.07948839139009058,
           0.011586598504213237,
           0.06316386029625677,
           -0.4350110750321416,
           0.04060940322521696,
           -0.17784547762618338,
           0.07718110353902047,
           1,
           0.013096408881765137,
           0.3953265450031804
          ],
          [
           -0.18849736527421843,
           -0.11359738050052529,
           0.08336664566557228,
           -0.11728236109064046,
           0.10952001817289976,
           0.015431949367009503,
           0.013775466789433321,
           0.013970311000530086,
           -0.21726230220310033,
           -0.31597273091636885,
           -0.026589714551904113,
           0.013096408881765137,
           1,
           0.2534425421074526
          ],
          [
           0.10747495550414027,
           0.1233999507454137,
           0.05367793741720212,
           -0.4510117074645772,
           -0.14270732581230725,
           0.030071712772287606,
           0.05742340680590178,
           -0.6010379062173308,
           -0.06025011064669243,
           -0.6412978623356792,
           0.10775642713438383,
           0.3953265450031804,
           0.2534425421074526,
           1
          ]
         ]
        }
       ],
       "layout": {
        "annotations": [
         {
          "font": {
           "color": "#FFFFFF"
          },
          "showarrow": false,
          "text": "1.0",
          "x": "show_id",
          "xref": "x",
          "y": "show_id",
          "yref": "y"
         },
         {
          "font": {
           "color": "#FFFFFF"
          },
          "showarrow": false,
          "text": "0.58",
          "x": "release_year",
          "xref": "x",
          "y": "show_id",
          "yref": "y"
         },
         {
          "font": {
           "color": "#FFFFFF"
          },
          "showarrow": false,
          "text": "-0.13",
          "x": "rating",
          "xref": "x",
          "y": "show_id",
          "yref": "y"
         },
         {
          "font": {
           "color": "#FFFFFF"
          },
          "showarrow": false,
          "text": "-0.18",
          "x": "minutes",
          "xref": "x",
          "y": "show_id",
          "yref": "y"
         },
         {
          "font": {
           "color": "#FFFFFF"
          },
          "showarrow": false,
          "text": "-0.6",
          "x": "years_since_release",
          "xref": "x",
          "y": "show_id",
          "yref": "y"
         },
         {
          "font": {
           "color": "#FFFFFF"
          },
          "showarrow": false,
          "text": "-0.06",
          "x": "description_length",
          "xref": "x",
          "y": "show_id",
          "yref": "y"
         },
         {
          "font": {
           "color": "#FFFFFF"
          },
          "showarrow": false,
          "text": "0.03",
          "x": "number_of_directors",
          "xref": "x",
          "y": "show_id",
          "yref": "y"
         },
         {
          "font": {
           "color": "#FFFFFF"
          },
          "showarrow": false,
          "text": "-0.21",
          "x": "number_of_casts",
          "xref": "x",
          "y": "show_id",
          "yref": "y"
         },
         {
          "font": {
           "color": "#FFFFFF"
          },
          "showarrow": false,
          "text": "-0.0",
          "x": "number_of_countrys",
          "xref": "x",
          "y": "show_id",
          "yref": "y"
         },
         {
          "font": {
           "color": "#FFFFFF"
          },
          "showarrow": false,
          "text": "-0.04",
          "x": "number_of_listed_ins",
          "xref": "x",
          "y": "show_id",
          "yref": "y"
         },
         {
          "font": {
           "color": "#FFFFFF"
          },
          "showarrow": false,
          "text": "0.05",
          "x": "films_by_director",
          "xref": "x",
          "y": "show_id",
          "yref": "y"
         },
         {
          "font": {
           "color": "#FFFFFF"
          },
          "showarrow": false,
          "text": "0.1",
          "x": "films_by_cast_member",
          "xref": "x",
          "y": "show_id",
          "yref": "y"
         },
         {
          "font": {
           "color": "#FFFFFF"
          },
          "showarrow": false,
          "text": "-0.19",
          "x": "films_per_country",
          "xref": "x",
          "y": "show_id",
          "yref": "y"
         },
         {
          "font": {
           "color": "#FFFFFF"
          },
          "showarrow": false,
          "text": "0.11",
          "x": "films_per_genre",
          "xref": "x",
          "y": "show_id",
          "yref": "y"
         },
         {
          "font": {
           "color": "#FFFFFF"
          },
          "showarrow": false,
          "text": "0.58",
          "x": "show_id",
          "xref": "x",
          "y": "release_year",
          "yref": "y"
         },
         {
          "font": {
           "color": "#FFFFFF"
          },
          "showarrow": false,
          "text": "1.0",
          "x": "release_year",
          "xref": "x",
          "y": "release_year",
          "yref": "y"
         },
         {
          "font": {
           "color": "#FFFFFF"
          },
          "showarrow": false,
          "text": "-0.14",
          "x": "rating",
          "xref": "x",
          "y": "release_year",
          "yref": "y"
         },
         {
          "font": {
           "color": "#FFFFFF"
          },
          "showarrow": false,
          "text": "-0.17",
          "x": "minutes",
          "xref": "x",
          "y": "release_year",
          "yref": "y"
         },
         {
          "font": {
           "color": "#FFFFFF"
          },
          "showarrow": false,
          "text": "-0.99",
          "x": "years_since_release",
          "xref": "x",
          "y": "release_year",
          "yref": "y"
         },
         {
          "font": {
           "color": "#FFFFFF"
          },
          "showarrow": false,
          "text": "-0.05",
          "x": "description_length",
          "xref": "x",
          "y": "release_year",
          "yref": "y"
         },
         {
          "font": {
           "color": "#FFFFFF"
          },
          "showarrow": false,
          "text": "0.01",
          "x": "number_of_directors",
          "xref": "x",
          "y": "release_year",
          "yref": "y"
         },
         {
          "font": {
           "color": "#FFFFFF"
          },
          "showarrow": false,
          "text": "-0.15",
          "x": "number_of_casts",
          "xref": "x",
          "y": "release_year",
          "yref": "y"
         },
         {
          "font": {
           "color": "#FFFFFF"
          },
          "showarrow": false,
          "text": "0.02",
          "x": "number_of_countrys",
          "xref": "x",
          "y": "release_year",
          "yref": "y"
         },
         {
          "font": {
           "color": "#FFFFFF"
          },
          "showarrow": false,
          "text": "-0.11",
          "x": "number_of_listed_ins",
          "xref": "x",
          "y": "release_year",
          "yref": "y"
         },
         {
          "font": {
           "color": "#FFFFFF"
          },
          "showarrow": false,
          "text": "0.04",
          "x": "films_by_director",
          "xref": "x",
          "y": "release_year",
          "yref": "y"
         },
         {
          "font": {
           "color": "#FFFFFF"
          },
          "showarrow": false,
          "text": "0.07",
          "x": "films_by_cast_member",
          "xref": "x",
          "y": "release_year",
          "yref": "y"
         },
         {
          "font": {
           "color": "#FFFFFF"
          },
          "showarrow": false,
          "text": "-0.11",
          "x": "films_per_country",
          "xref": "x",
          "y": "release_year",
          "yref": "y"
         },
         {
          "font": {
           "color": "#FFFFFF"
          },
          "showarrow": false,
          "text": "0.12",
          "x": "films_per_genre",
          "xref": "x",
          "y": "release_year",
          "yref": "y"
         },
         {
          "font": {
           "color": "#FFFFFF"
          },
          "showarrow": false,
          "text": "-0.13",
          "x": "show_id",
          "xref": "x",
          "y": "rating",
          "yref": "y"
         },
         {
          "font": {
           "color": "#FFFFFF"
          },
          "showarrow": false,
          "text": "-0.14",
          "x": "release_year",
          "xref": "x",
          "y": "rating",
          "yref": "y"
         },
         {
          "font": {
           "color": "#FFFFFF"
          },
          "showarrow": false,
          "text": "1.0",
          "x": "rating",
          "xref": "x",
          "y": "rating",
          "yref": "y"
         },
         {
          "font": {
           "color": "#FFFFFF"
          },
          "showarrow": false,
          "text": "0.2",
          "x": "minutes",
          "xref": "x",
          "y": "rating",
          "yref": "y"
         },
         {
          "font": {
           "color": "#FFFFFF"
          },
          "showarrow": false,
          "text": "0.14",
          "x": "years_since_release",
          "xref": "x",
          "y": "rating",
          "yref": "y"
         },
         {
          "font": {
           "color": "#FFFFFF"
          },
          "showarrow": false,
          "text": "0.06",
          "x": "description_length",
          "xref": "x",
          "y": "rating",
          "yref": "y"
         },
         {
          "font": {
           "color": "#FFFFFF"
          },
          "showarrow": false,
          "text": "-0.01",
          "x": "number_of_directors",
          "xref": "x",
          "y": "rating",
          "yref": "y"
         },
         {
          "font": {
           "color": "#FFFFFF"
          },
          "showarrow": false,
          "text": "0.01",
          "x": "number_of_casts",
          "xref": "x",
          "y": "rating",
          "yref": "y"
         },
         {
          "font": {
           "color": "#FFFFFF"
          },
          "showarrow": false,
          "text": "0.06",
          "x": "number_of_countrys",
          "xref": "x",
          "y": "rating",
          "yref": "y"
         },
         {
          "font": {
           "color": "#FFFFFF"
          },
          "showarrow": false,
          "text": "0.06",
          "x": "number_of_listed_ins",
          "xref": "x",
          "y": "rating",
          "yref": "y"
         },
         {
          "font": {
           "color": "#FFFFFF"
          },
          "showarrow": false,
          "text": "-0.14",
          "x": "films_by_director",
          "xref": "x",
          "y": "rating",
          "yref": "y"
         },
         {
          "font": {
           "color": "#FFFFFF"
          },
          "showarrow": false,
          "text": "-0.01",
          "x": "films_by_cast_member",
          "xref": "x",
          "y": "rating",
          "yref": "y"
         },
         {
          "font": {
           "color": "#FFFFFF"
          },
          "showarrow": false,
          "text": "0.08",
          "x": "films_per_country",
          "xref": "x",
          "y": "rating",
          "yref": "y"
         },
         {
          "font": {
           "color": "#FFFFFF"
          },
          "showarrow": false,
          "text": "0.05",
          "x": "films_per_genre",
          "xref": "x",
          "y": "rating",
          "yref": "y"
         },
         {
          "font": {
           "color": "#FFFFFF"
          },
          "showarrow": false,
          "text": "-0.18",
          "x": "show_id",
          "xref": "x",
          "y": "minutes",
          "yref": "y"
         },
         {
          "font": {
           "color": "#FFFFFF"
          },
          "showarrow": false,
          "text": "-0.17",
          "x": "release_year",
          "xref": "x",
          "y": "minutes",
          "yref": "y"
         },
         {
          "font": {
           "color": "#FFFFFF"
          },
          "showarrow": false,
          "text": "0.2",
          "x": "rating",
          "xref": "x",
          "y": "minutes",
          "yref": "y"
         },
         {
          "font": {
           "color": "#FFFFFF"
          },
          "showarrow": false,
          "text": "1.0",
          "x": "minutes",
          "xref": "x",
          "y": "minutes",
          "yref": "y"
         },
         {
          "font": {
           "color": "#FFFFFF"
          },
          "showarrow": false,
          "text": "0.19",
          "x": "years_since_release",
          "xref": "x",
          "y": "minutes",
          "yref": "y"
         },
         {
          "font": {
           "color": "#FFFFFF"
          },
          "showarrow": false,
          "text": "0.02",
          "x": "description_length",
          "xref": "x",
          "y": "minutes",
          "yref": "y"
         },
         {
          "font": {
           "color": "#FFFFFF"
          },
          "showarrow": false,
          "text": "-0.06",
          "x": "number_of_directors",
          "xref": "x",
          "y": "minutes",
          "yref": "y"
         },
         {
          "font": {
           "color": "#FFFFFF"
          },
          "showarrow": false,
          "text": "0.35",
          "x": "number_of_casts",
          "xref": "x",
          "y": "minutes",
          "yref": "y"
         },
         {
          "font": {
           "color": "#FFFFFF"
          },
          "showarrow": false,
          "text": "0.04",
          "x": "number_of_countrys",
          "xref": "x",
          "y": "minutes",
          "yref": "y"
         },
         {
          "font": {
           "color": "#FFFFFF"
          },
          "showarrow": false,
          "text": "0.45",
          "x": "number_of_listed_ins",
          "xref": "x",
          "y": "minutes",
          "yref": "y"
         },
         {
          "font": {
           "color": "#FFFFFF"
          },
          "showarrow": false,
          "text": "-0.19",
          "x": "films_by_director",
          "xref": "x",
          "y": "minutes",
          "yref": "y"
         },
         {
          "font": {
           "color": "#FFFFFF"
          },
          "showarrow": false,
          "text": "-0.22",
          "x": "films_by_cast_member",
          "xref": "x",
          "y": "minutes",
          "yref": "y"
         },
         {
          "font": {
           "color": "#FFFFFF"
          },
          "showarrow": false,
          "text": "-0.12",
          "x": "films_per_country",
          "xref": "x",
          "y": "minutes",
          "yref": "y"
         },
         {
          "font": {
           "color": "#FFFFFF"
          },
          "showarrow": false,
          "text": "-0.45",
          "x": "films_per_genre",
          "xref": "x",
          "y": "minutes",
          "yref": "y"
         },
         {
          "font": {
           "color": "#FFFFFF"
          },
          "showarrow": false,
          "text": "-0.6",
          "x": "show_id",
          "xref": "x",
          "y": "years_since_release",
          "yref": "y"
         },
         {
          "font": {
           "color": "#FFFFFF"
          },
          "showarrow": false,
          "text": "-0.99",
          "x": "release_year",
          "xref": "x",
          "y": "years_since_release",
          "yref": "y"
         },
         {
          "font": {
           "color": "#FFFFFF"
          },
          "showarrow": false,
          "text": "0.14",
          "x": "rating",
          "xref": "x",
          "y": "years_since_release",
          "yref": "y"
         },
         {
          "font": {
           "color": "#FFFFFF"
          },
          "showarrow": false,
          "text": "0.19",
          "x": "minutes",
          "xref": "x",
          "y": "years_since_release",
          "yref": "y"
         },
         {
          "font": {
           "color": "#FFFFFF"
          },
          "showarrow": false,
          "text": "1.0",
          "x": "years_since_release",
          "xref": "x",
          "y": "years_since_release",
          "yref": "y"
         },
         {
          "font": {
           "color": "#FFFFFF"
          },
          "showarrow": false,
          "text": "0.05",
          "x": "description_length",
          "xref": "x",
          "y": "years_since_release",
          "yref": "y"
         },
         {
          "font": {
           "color": "#FFFFFF"
          },
          "showarrow": false,
          "text": "-0.02",
          "x": "number_of_directors",
          "xref": "x",
          "y": "years_since_release",
          "yref": "y"
         },
         {
          "font": {
           "color": "#FFFFFF"
          },
          "showarrow": false,
          "text": "0.17",
          "x": "number_of_casts",
          "xref": "x",
          "y": "years_since_release",
          "yref": "y"
         },
         {
          "font": {
           "color": "#FFFFFF"
          },
          "showarrow": false,
          "text": "-0.02",
          "x": "number_of_countrys",
          "xref": "x",
          "y": "years_since_release",
          "yref": "y"
         },
         {
          "font": {
           "color": "#FFFFFF"
          },
          "showarrow": false,
          "text": "0.12",
          "x": "number_of_listed_ins",
          "xref": "x",
          "y": "years_since_release",
          "yref": "y"
         },
         {
          "font": {
           "color": "#FFFFFF"
          },
          "showarrow": false,
          "text": "-0.05",
          "x": "films_by_director",
          "xref": "x",
          "y": "years_since_release",
          "yref": "y"
         },
         {
          "font": {
           "color": "#FFFFFF"
          },
          "showarrow": false,
          "text": "-0.08",
          "x": "films_by_cast_member",
          "xref": "x",
          "y": "years_since_release",
          "yref": "y"
         },
         {
          "font": {
           "color": "#FFFFFF"
          },
          "showarrow": false,
          "text": "0.11",
          "x": "films_per_country",
          "xref": "x",
          "y": "years_since_release",
          "yref": "y"
         },
         {
          "font": {
           "color": "#FFFFFF"
          },
          "showarrow": false,
          "text": "-0.14",
          "x": "films_per_genre",
          "xref": "x",
          "y": "years_since_release",
          "yref": "y"
         },
         {
          "font": {
           "color": "#FFFFFF"
          },
          "showarrow": false,
          "text": "-0.06",
          "x": "show_id",
          "xref": "x",
          "y": "description_length",
          "yref": "y"
         },
         {
          "font": {
           "color": "#FFFFFF"
          },
          "showarrow": false,
          "text": "-0.05",
          "x": "release_year",
          "xref": "x",
          "y": "description_length",
          "yref": "y"
         },
         {
          "font": {
           "color": "#FFFFFF"
          },
          "showarrow": false,
          "text": "0.06",
          "x": "rating",
          "xref": "x",
          "y": "description_length",
          "yref": "y"
         },
         {
          "font": {
           "color": "#FFFFFF"
          },
          "showarrow": false,
          "text": "0.02",
          "x": "minutes",
          "xref": "x",
          "y": "description_length",
          "yref": "y"
         },
         {
          "font": {
           "color": "#FFFFFF"
          },
          "showarrow": false,
          "text": "0.05",
          "x": "years_since_release",
          "xref": "x",
          "y": "description_length",
          "yref": "y"
         },
         {
          "font": {
           "color": "#FFFFFF"
          },
          "showarrow": false,
          "text": "1.0",
          "x": "description_length",
          "xref": "x",
          "y": "description_length",
          "yref": "y"
         },
         {
          "font": {
           "color": "#FFFFFF"
          },
          "showarrow": false,
          "text": "-0.0",
          "x": "number_of_directors",
          "xref": "x",
          "y": "description_length",
          "yref": "y"
         },
         {
          "font": {
           "color": "#FFFFFF"
          },
          "showarrow": false,
          "text": "0.02",
          "x": "number_of_casts",
          "xref": "x",
          "y": "description_length",
          "yref": "y"
         },
         {
          "font": {
           "color": "#FFFFFF"
          },
          "showarrow": false,
          "text": "-0.0",
          "x": "number_of_countrys",
          "xref": "x",
          "y": "description_length",
          "yref": "y"
         },
         {
          "font": {
           "color": "#FFFFFF"
          },
          "showarrow": false,
          "text": "-0.01",
          "x": "number_of_listed_ins",
          "xref": "x",
          "y": "description_length",
          "yref": "y"
         },
         {
          "font": {
           "color": "#FFFFFF"
          },
          "showarrow": false,
          "text": "-0.04",
          "x": "films_by_director",
          "xref": "x",
          "y": "description_length",
          "yref": "y"
         },
         {
          "font": {
           "color": "#FFFFFF"
          },
          "showarrow": false,
          "text": "0.01",
          "x": "films_by_cast_member",
          "xref": "x",
          "y": "description_length",
          "yref": "y"
         },
         {
          "font": {
           "color": "#FFFFFF"
          },
          "showarrow": false,
          "text": "0.02",
          "x": "films_per_country",
          "xref": "x",
          "y": "description_length",
          "yref": "y"
         },
         {
          "font": {
           "color": "#FFFFFF"
          },
          "showarrow": false,
          "text": "0.03",
          "x": "films_per_genre",
          "xref": "x",
          "y": "description_length",
          "yref": "y"
         },
         {
          "font": {
           "color": "#FFFFFF"
          },
          "showarrow": false,
          "text": "0.03",
          "x": "show_id",
          "xref": "x",
          "y": "number_of_directors",
          "yref": "y"
         },
         {
          "font": {
           "color": "#FFFFFF"
          },
          "showarrow": false,
          "text": "0.01",
          "x": "release_year",
          "xref": "x",
          "y": "number_of_directors",
          "yref": "y"
         },
         {
          "font": {
           "color": "#FFFFFF"
          },
          "showarrow": false,
          "text": "-0.01",
          "x": "rating",
          "xref": "x",
          "y": "number_of_directors",
          "yref": "y"
         },
         {
          "font": {
           "color": "#FFFFFF"
          },
          "showarrow": false,
          "text": "-0.06",
          "x": "minutes",
          "xref": "x",
          "y": "number_of_directors",
          "yref": "y"
         },
         {
          "font": {
           "color": "#FFFFFF"
          },
          "showarrow": false,
          "text": "-0.02",
          "x": "years_since_release",
          "xref": "x",
          "y": "number_of_directors",
          "yref": "y"
         },
         {
          "font": {
           "color": "#FFFFFF"
          },
          "showarrow": false,
          "text": "-0.0",
          "x": "description_length",
          "xref": "x",
          "y": "number_of_directors",
          "yref": "y"
         },
         {
          "font": {
           "color": "#FFFFFF"
          },
          "showarrow": false,
          "text": "1.0",
          "x": "number_of_directors",
          "xref": "x",
          "y": "number_of_directors",
          "yref": "y"
         },
         {
          "font": {
           "color": "#FFFFFF"
          },
          "showarrow": false,
          "text": "0.0",
          "x": "number_of_casts",
          "xref": "x",
          "y": "number_of_directors",
          "yref": "y"
         },
         {
          "font": {
           "color": "#FFFFFF"
          },
          "showarrow": false,
          "text": "0.01",
          "x": "number_of_countrys",
          "xref": "x",
          "y": "number_of_directors",
          "yref": "y"
         },
         {
          "font": {
           "color": "#FFFFFF"
          },
          "showarrow": false,
          "text": "-0.05",
          "x": "number_of_listed_ins",
          "xref": "x",
          "y": "number_of_directors",
          "yref": "y"
         },
         {
          "font": {
           "color": "#FFFFFF"
          },
          "showarrow": false,
          "text": "-0.04",
          "x": "films_by_director",
          "xref": "x",
          "y": "number_of_directors",
          "yref": "y"
         },
         {
          "font": {
           "color": "#FFFFFF"
          },
          "showarrow": false,
          "text": "0.06",
          "x": "films_by_cast_member",
          "xref": "x",
          "y": "number_of_directors",
          "yref": "y"
         },
         {
          "font": {
           "color": "#FFFFFF"
          },
          "showarrow": false,
          "text": "0.01",
          "x": "films_per_country",
          "xref": "x",
          "y": "number_of_directors",
          "yref": "y"
         },
         {
          "font": {
           "color": "#FFFFFF"
          },
          "showarrow": false,
          "text": "0.06",
          "x": "films_per_genre",
          "xref": "x",
          "y": "number_of_directors",
          "yref": "y"
         },
         {
          "font": {
           "color": "#FFFFFF"
          },
          "showarrow": false,
          "text": "-0.21",
          "x": "show_id",
          "xref": "x",
          "y": "number_of_casts",
          "yref": "y"
         },
         {
          "font": {
           "color": "#FFFFFF"
          },
          "showarrow": false,
          "text": "-0.15",
          "x": "release_year",
          "xref": "x",
          "y": "number_of_casts",
          "yref": "y"
         },
         {
          "font": {
           "color": "#FFFFFF"
          },
          "showarrow": false,
          "text": "0.01",
          "x": "rating",
          "xref": "x",
          "y": "number_of_casts",
          "yref": "y"
         },
         {
          "font": {
           "color": "#FFFFFF"
          },
          "showarrow": false,
          "text": "0.35",
          "x": "minutes",
          "xref": "x",
          "y": "number_of_casts",
          "yref": "y"
         },
         {
          "font": {
           "color": "#FFFFFF"
          },
          "showarrow": false,
          "text": "0.17",
          "x": "years_since_release",
          "xref": "x",
          "y": "number_of_casts",
          "yref": "y"
         },
         {
          "font": {
           "color": "#FFFFFF"
          },
          "showarrow": false,
          "text": "0.02",
          "x": "description_length",
          "xref": "x",
          "y": "number_of_casts",
          "yref": "y"
         },
         {
          "font": {
           "color": "#FFFFFF"
          },
          "showarrow": false,
          "text": "0.0",
          "x": "number_of_directors",
          "xref": "x",
          "y": "number_of_casts",
          "yref": "y"
         },
         {
          "font": {
           "color": "#FFFFFF"
          },
          "showarrow": false,
          "text": "1.0",
          "x": "number_of_casts",
          "xref": "x",
          "y": "number_of_casts",
          "yref": "y"
         },
         {
          "font": {
           "color": "#FFFFFF"
          },
          "showarrow": false,
          "text": "0.05",
          "x": "number_of_countrys",
          "xref": "x",
          "y": "number_of_casts",
          "yref": "y"
         },
         {
          "font": {
           "color": "#FFFFFF"
          },
          "showarrow": false,
          "text": "0.29",
          "x": "number_of_listed_ins",
          "xref": "x",
          "y": "number_of_casts",
          "yref": "y"
         },
         {
          "font": {
           "color": "#FFFFFF"
          },
          "showarrow": false,
          "text": "-0.14",
          "x": "films_by_director",
          "xref": "x",
          "y": "number_of_casts",
          "yref": "y"
         },
         {
          "font": {
           "color": "#FFFFFF"
          },
          "showarrow": false,
          "text": "-0.44",
          "x": "films_by_cast_member",
          "xref": "x",
          "y": "number_of_casts",
          "yref": "y"
         },
         {
          "font": {
           "color": "#FFFFFF"
          },
          "showarrow": false,
          "text": "0.01",
          "x": "films_per_country",
          "xref": "x",
          "y": "number_of_casts",
          "yref": "y"
         },
         {
          "font": {
           "color": "#FFFFFF"
          },
          "showarrow": false,
          "text": "-0.6",
          "x": "films_per_genre",
          "xref": "x",
          "y": "number_of_casts",
          "yref": "y"
         },
         {
          "font": {
           "color": "#FFFFFF"
          },
          "showarrow": false,
          "text": "-0.0",
          "x": "show_id",
          "xref": "x",
          "y": "number_of_countrys",
          "yref": "y"
         },
         {
          "font": {
           "color": "#FFFFFF"
          },
          "showarrow": false,
          "text": "0.02",
          "x": "release_year",
          "xref": "x",
          "y": "number_of_countrys",
          "yref": "y"
         },
         {
          "font": {
           "color": "#FFFFFF"
          },
          "showarrow": false,
          "text": "0.06",
          "x": "rating",
          "xref": "x",
          "y": "number_of_countrys",
          "yref": "y"
         },
         {
          "font": {
           "color": "#FFFFFF"
          },
          "showarrow": false,
          "text": "0.04",
          "x": "minutes",
          "xref": "x",
          "y": "number_of_countrys",
          "yref": "y"
         },
         {
          "font": {
           "color": "#FFFFFF"
          },
          "showarrow": false,
          "text": "-0.02",
          "x": "years_since_release",
          "xref": "x",
          "y": "number_of_countrys",
          "yref": "y"
         },
         {
          "font": {
           "color": "#FFFFFF"
          },
          "showarrow": false,
          "text": "-0.0",
          "x": "description_length",
          "xref": "x",
          "y": "number_of_countrys",
          "yref": "y"
         },
         {
          "font": {
           "color": "#FFFFFF"
          },
          "showarrow": false,
          "text": "0.01",
          "x": "number_of_directors",
          "xref": "x",
          "y": "number_of_countrys",
          "yref": "y"
         },
         {
          "font": {
           "color": "#FFFFFF"
          },
          "showarrow": false,
          "text": "0.05",
          "x": "number_of_casts",
          "xref": "x",
          "y": "number_of_countrys",
          "yref": "y"
         },
         {
          "font": {
           "color": "#FFFFFF"
          },
          "showarrow": false,
          "text": "1.0",
          "x": "number_of_countrys",
          "xref": "x",
          "y": "number_of_countrys",
          "yref": "y"
         },
         {
          "font": {
           "color": "#FFFFFF"
          },
          "showarrow": false,
          "text": "0.04",
          "x": "number_of_listed_ins",
          "xref": "x",
          "y": "number_of_countrys",
          "yref": "y"
         },
         {
          "font": {
           "color": "#FFFFFF"
          },
          "showarrow": false,
          "text": "-0.04",
          "x": "films_by_director",
          "xref": "x",
          "y": "number_of_countrys",
          "yref": "y"
         },
         {
          "font": {
           "color": "#FFFFFF"
          },
          "showarrow": false,
          "text": "0.04",
          "x": "films_by_cast_member",
          "xref": "x",
          "y": "number_of_countrys",
          "yref": "y"
         },
         {
          "font": {
           "color": "#FFFFFF"
          },
          "showarrow": false,
          "text": "-0.22",
          "x": "films_per_country",
          "xref": "x",
          "y": "number_of_countrys",
          "yref": "y"
         },
         {
          "font": {
           "color": "#FFFFFF"
          },
          "showarrow": false,
          "text": "-0.06",
          "x": "films_per_genre",
          "xref": "x",
          "y": "number_of_countrys",
          "yref": "y"
         },
         {
          "font": {
           "color": "#FFFFFF"
          },
          "showarrow": false,
          "text": "-0.04",
          "x": "show_id",
          "xref": "x",
          "y": "number_of_listed_ins",
          "yref": "y"
         },
         {
          "font": {
           "color": "#FFFFFF"
          },
          "showarrow": false,
          "text": "-0.11",
          "x": "release_year",
          "xref": "x",
          "y": "number_of_listed_ins",
          "yref": "y"
         },
         {
          "font": {
           "color": "#FFFFFF"
          },
          "showarrow": false,
          "text": "0.06",
          "x": "rating",
          "xref": "x",
          "y": "number_of_listed_ins",
          "yref": "y"
         },
         {
          "font": {
           "color": "#FFFFFF"
          },
          "showarrow": false,
          "text": "0.45",
          "x": "minutes",
          "xref": "x",
          "y": "number_of_listed_ins",
          "yref": "y"
         },
         {
          "font": {
           "color": "#FFFFFF"
          },
          "showarrow": false,
          "text": "0.12",
          "x": "years_since_release",
          "xref": "x",
          "y": "number_of_listed_ins",
          "yref": "y"
         },
         {
          "font": {
           "color": "#FFFFFF"
          },
          "showarrow": false,
          "text": "-0.01",
          "x": "description_length",
          "xref": "x",
          "y": "number_of_listed_ins",
          "yref": "y"
         },
         {
          "font": {
           "color": "#FFFFFF"
          },
          "showarrow": false,
          "text": "-0.05",
          "x": "number_of_directors",
          "xref": "x",
          "y": "number_of_listed_ins",
          "yref": "y"
         },
         {
          "font": {
           "color": "#FFFFFF"
          },
          "showarrow": false,
          "text": "0.29",
          "x": "number_of_casts",
          "xref": "x",
          "y": "number_of_listed_ins",
          "yref": "y"
         },
         {
          "font": {
           "color": "#FFFFFF"
          },
          "showarrow": false,
          "text": "0.04",
          "x": "number_of_countrys",
          "xref": "x",
          "y": "number_of_listed_ins",
          "yref": "y"
         },
         {
          "font": {
           "color": "#FFFFFF"
          },
          "showarrow": false,
          "text": "1.0",
          "x": "number_of_listed_ins",
          "xref": "x",
          "y": "number_of_listed_ins",
          "yref": "y"
         },
         {
          "font": {
           "color": "#FFFFFF"
          },
          "showarrow": false,
          "text": "-0.13",
          "x": "films_by_director",
          "xref": "x",
          "y": "number_of_listed_ins",
          "yref": "y"
         },
         {
          "font": {
           "color": "#FFFFFF"
          },
          "showarrow": false,
          "text": "-0.18",
          "x": "films_by_cast_member",
          "xref": "x",
          "y": "number_of_listed_ins",
          "yref": "y"
         },
         {
          "font": {
           "color": "#FFFFFF"
          },
          "showarrow": false,
          "text": "-0.32",
          "x": "films_per_country",
          "xref": "x",
          "y": "number_of_listed_ins",
          "yref": "y"
         },
         {
          "font": {
           "color": "#FFFFFF"
          },
          "showarrow": false,
          "text": "-0.64",
          "x": "films_per_genre",
          "xref": "x",
          "y": "number_of_listed_ins",
          "yref": "y"
         },
         {
          "font": {
           "color": "#FFFFFF"
          },
          "showarrow": false,
          "text": "0.05",
          "x": "show_id",
          "xref": "x",
          "y": "films_by_director",
          "yref": "y"
         },
         {
          "font": {
           "color": "#FFFFFF"
          },
          "showarrow": false,
          "text": "0.04",
          "x": "release_year",
          "xref": "x",
          "y": "films_by_director",
          "yref": "y"
         },
         {
          "font": {
           "color": "#FFFFFF"
          },
          "showarrow": false,
          "text": "-0.14",
          "x": "rating",
          "xref": "x",
          "y": "films_by_director",
          "yref": "y"
         },
         {
          "font": {
           "color": "#FFFFFF"
          },
          "showarrow": false,
          "text": "-0.19",
          "x": "minutes",
          "xref": "x",
          "y": "films_by_director",
          "yref": "y"
         },
         {
          "font": {
           "color": "#FFFFFF"
          },
          "showarrow": false,
          "text": "-0.05",
          "x": "years_since_release",
          "xref": "x",
          "y": "films_by_director",
          "yref": "y"
         },
         {
          "font": {
           "color": "#FFFFFF"
          },
          "showarrow": false,
          "text": "-0.04",
          "x": "description_length",
          "xref": "x",
          "y": "films_by_director",
          "yref": "y"
         },
         {
          "font": {
           "color": "#FFFFFF"
          },
          "showarrow": false,
          "text": "-0.04",
          "x": "number_of_directors",
          "xref": "x",
          "y": "films_by_director",
          "yref": "y"
         },
         {
          "font": {
           "color": "#FFFFFF"
          },
          "showarrow": false,
          "text": "-0.14",
          "x": "number_of_casts",
          "xref": "x",
          "y": "films_by_director",
          "yref": "y"
         },
         {
          "font": {
           "color": "#FFFFFF"
          },
          "showarrow": false,
          "text": "-0.04",
          "x": "number_of_countrys",
          "xref": "x",
          "y": "films_by_director",
          "yref": "y"
         },
         {
          "font": {
           "color": "#FFFFFF"
          },
          "showarrow": false,
          "text": "-0.13",
          "x": "number_of_listed_ins",
          "xref": "x",
          "y": "films_by_director",
          "yref": "y"
         },
         {
          "font": {
           "color": "#FFFFFF"
          },
          "showarrow": false,
          "text": "1.0",
          "x": "films_by_director",
          "xref": "x",
          "y": "films_by_director",
          "yref": "y"
         },
         {
          "font": {
           "color": "#FFFFFF"
          },
          "showarrow": false,
          "text": "0.08",
          "x": "films_by_cast_member",
          "xref": "x",
          "y": "films_by_director",
          "yref": "y"
         },
         {
          "font": {
           "color": "#FFFFFF"
          },
          "showarrow": false,
          "text": "-0.03",
          "x": "films_per_country",
          "xref": "x",
          "y": "films_by_director",
          "yref": "y"
         },
         {
          "font": {
           "color": "#FFFFFF"
          },
          "showarrow": false,
          "text": "0.11",
          "x": "films_per_genre",
          "xref": "x",
          "y": "films_by_director",
          "yref": "y"
         },
         {
          "font": {
           "color": "#FFFFFF"
          },
          "showarrow": false,
          "text": "0.1",
          "x": "show_id",
          "xref": "x",
          "y": "films_by_cast_member",
          "yref": "y"
         },
         {
          "font": {
           "color": "#FFFFFF"
          },
          "showarrow": false,
          "text": "0.07",
          "x": "release_year",
          "xref": "x",
          "y": "films_by_cast_member",
          "yref": "y"
         },
         {
          "font": {
           "color": "#FFFFFF"
          },
          "showarrow": false,
          "text": "-0.01",
          "x": "rating",
          "xref": "x",
          "y": "films_by_cast_member",
          "yref": "y"
         },
         {
          "font": {
           "color": "#FFFFFF"
          },
          "showarrow": false,
          "text": "-0.22",
          "x": "minutes",
          "xref": "x",
          "y": "films_by_cast_member",
          "yref": "y"
         },
         {
          "font": {
           "color": "#FFFFFF"
          },
          "showarrow": false,
          "text": "-0.08",
          "x": "years_since_release",
          "xref": "x",
          "y": "films_by_cast_member",
          "yref": "y"
         },
         {
          "font": {
           "color": "#FFFFFF"
          },
          "showarrow": false,
          "text": "0.01",
          "x": "description_length",
          "xref": "x",
          "y": "films_by_cast_member",
          "yref": "y"
         },
         {
          "font": {
           "color": "#FFFFFF"
          },
          "showarrow": false,
          "text": "0.06",
          "x": "number_of_directors",
          "xref": "x",
          "y": "films_by_cast_member",
          "yref": "y"
         },
         {
          "font": {
           "color": "#FFFFFF"
          },
          "showarrow": false,
          "text": "-0.44",
          "x": "number_of_casts",
          "xref": "x",
          "y": "films_by_cast_member",
          "yref": "y"
         },
         {
          "font": {
           "color": "#FFFFFF"
          },
          "showarrow": false,
          "text": "0.04",
          "x": "number_of_countrys",
          "xref": "x",
          "y": "films_by_cast_member",
          "yref": "y"
         },
         {
          "font": {
           "color": "#FFFFFF"
          },
          "showarrow": false,
          "text": "-0.18",
          "x": "number_of_listed_ins",
          "xref": "x",
          "y": "films_by_cast_member",
          "yref": "y"
         },
         {
          "font": {
           "color": "#FFFFFF"
          },
          "showarrow": false,
          "text": "0.08",
          "x": "films_by_director",
          "xref": "x",
          "y": "films_by_cast_member",
          "yref": "y"
         },
         {
          "font": {
           "color": "#FFFFFF"
          },
          "showarrow": false,
          "text": "1.0",
          "x": "films_by_cast_member",
          "xref": "x",
          "y": "films_by_cast_member",
          "yref": "y"
         },
         {
          "font": {
           "color": "#FFFFFF"
          },
          "showarrow": false,
          "text": "0.01",
          "x": "films_per_country",
          "xref": "x",
          "y": "films_by_cast_member",
          "yref": "y"
         },
         {
          "font": {
           "color": "#FFFFFF"
          },
          "showarrow": false,
          "text": "0.4",
          "x": "films_per_genre",
          "xref": "x",
          "y": "films_by_cast_member",
          "yref": "y"
         },
         {
          "font": {
           "color": "#FFFFFF"
          },
          "showarrow": false,
          "text": "-0.19",
          "x": "show_id",
          "xref": "x",
          "y": "films_per_country",
          "yref": "y"
         },
         {
          "font": {
           "color": "#FFFFFF"
          },
          "showarrow": false,
          "text": "-0.11",
          "x": "release_year",
          "xref": "x",
          "y": "films_per_country",
          "yref": "y"
         },
         {
          "font": {
           "color": "#FFFFFF"
          },
          "showarrow": false,
          "text": "0.08",
          "x": "rating",
          "xref": "x",
          "y": "films_per_country",
          "yref": "y"
         },
         {
          "font": {
           "color": "#FFFFFF"
          },
          "showarrow": false,
          "text": "-0.12",
          "x": "minutes",
          "xref": "x",
          "y": "films_per_country",
          "yref": "y"
         },
         {
          "font": {
           "color": "#FFFFFF"
          },
          "showarrow": false,
          "text": "0.11",
          "x": "years_since_release",
          "xref": "x",
          "y": "films_per_country",
          "yref": "y"
         },
         {
          "font": {
           "color": "#FFFFFF"
          },
          "showarrow": false,
          "text": "0.02",
          "x": "description_length",
          "xref": "x",
          "y": "films_per_country",
          "yref": "y"
         },
         {
          "font": {
           "color": "#FFFFFF"
          },
          "showarrow": false,
          "text": "0.01",
          "x": "number_of_directors",
          "xref": "x",
          "y": "films_per_country",
          "yref": "y"
         },
         {
          "font": {
           "color": "#FFFFFF"
          },
          "showarrow": false,
          "text": "0.01",
          "x": "number_of_casts",
          "xref": "x",
          "y": "films_per_country",
          "yref": "y"
         },
         {
          "font": {
           "color": "#FFFFFF"
          },
          "showarrow": false,
          "text": "-0.22",
          "x": "number_of_countrys",
          "xref": "x",
          "y": "films_per_country",
          "yref": "y"
         },
         {
          "font": {
           "color": "#FFFFFF"
          },
          "showarrow": false,
          "text": "-0.32",
          "x": "number_of_listed_ins",
          "xref": "x",
          "y": "films_per_country",
          "yref": "y"
         },
         {
          "font": {
           "color": "#FFFFFF"
          },
          "showarrow": false,
          "text": "-0.03",
          "x": "films_by_director",
          "xref": "x",
          "y": "films_per_country",
          "yref": "y"
         },
         {
          "font": {
           "color": "#FFFFFF"
          },
          "showarrow": false,
          "text": "0.01",
          "x": "films_by_cast_member",
          "xref": "x",
          "y": "films_per_country",
          "yref": "y"
         },
         {
          "font": {
           "color": "#FFFFFF"
          },
          "showarrow": false,
          "text": "1.0",
          "x": "films_per_country",
          "xref": "x",
          "y": "films_per_country",
          "yref": "y"
         },
         {
          "font": {
           "color": "#FFFFFF"
          },
          "showarrow": false,
          "text": "0.25",
          "x": "films_per_genre",
          "xref": "x",
          "y": "films_per_country",
          "yref": "y"
         },
         {
          "font": {
           "color": "#FFFFFF"
          },
          "showarrow": false,
          "text": "0.11",
          "x": "show_id",
          "xref": "x",
          "y": "films_per_genre",
          "yref": "y"
         },
         {
          "font": {
           "color": "#FFFFFF"
          },
          "showarrow": false,
          "text": "0.12",
          "x": "release_year",
          "xref": "x",
          "y": "films_per_genre",
          "yref": "y"
         },
         {
          "font": {
           "color": "#FFFFFF"
          },
          "showarrow": false,
          "text": "0.05",
          "x": "rating",
          "xref": "x",
          "y": "films_per_genre",
          "yref": "y"
         },
         {
          "font": {
           "color": "#FFFFFF"
          },
          "showarrow": false,
          "text": "-0.45",
          "x": "minutes",
          "xref": "x",
          "y": "films_per_genre",
          "yref": "y"
         },
         {
          "font": {
           "color": "#FFFFFF"
          },
          "showarrow": false,
          "text": "-0.14",
          "x": "years_since_release",
          "xref": "x",
          "y": "films_per_genre",
          "yref": "y"
         },
         {
          "font": {
           "color": "#FFFFFF"
          },
          "showarrow": false,
          "text": "0.03",
          "x": "description_length",
          "xref": "x",
          "y": "films_per_genre",
          "yref": "y"
         },
         {
          "font": {
           "color": "#FFFFFF"
          },
          "showarrow": false,
          "text": "0.06",
          "x": "number_of_directors",
          "xref": "x",
          "y": "films_per_genre",
          "yref": "y"
         },
         {
          "font": {
           "color": "#FFFFFF"
          },
          "showarrow": false,
          "text": "-0.6",
          "x": "number_of_casts",
          "xref": "x",
          "y": "films_per_genre",
          "yref": "y"
         },
         {
          "font": {
           "color": "#FFFFFF"
          },
          "showarrow": false,
          "text": "-0.06",
          "x": "number_of_countrys",
          "xref": "x",
          "y": "films_per_genre",
          "yref": "y"
         },
         {
          "font": {
           "color": "#FFFFFF"
          },
          "showarrow": false,
          "text": "-0.64",
          "x": "number_of_listed_ins",
          "xref": "x",
          "y": "films_per_genre",
          "yref": "y"
         },
         {
          "font": {
           "color": "#FFFFFF"
          },
          "showarrow": false,
          "text": "0.11",
          "x": "films_by_director",
          "xref": "x",
          "y": "films_per_genre",
          "yref": "y"
         },
         {
          "font": {
           "color": "#FFFFFF"
          },
          "showarrow": false,
          "text": "0.4",
          "x": "films_by_cast_member",
          "xref": "x",
          "y": "films_per_genre",
          "yref": "y"
         },
         {
          "font": {
           "color": "#FFFFFF"
          },
          "showarrow": false,
          "text": "0.25",
          "x": "films_per_country",
          "xref": "x",
          "y": "films_per_genre",
          "yref": "y"
         },
         {
          "font": {
           "color": "#FFFFFF"
          },
          "showarrow": false,
          "text": "1.0",
          "x": "films_per_genre",
          "xref": "x",
          "y": "films_per_genre",
          "yref": "y"
         }
        ],
        "template": {
         "data": {
          "bar": [
           {
            "error_x": {
             "color": "#2a3f5f"
            },
            "error_y": {
             "color": "#2a3f5f"
            },
            "marker": {
             "line": {
              "color": "#E5ECF6",
              "width": 0.5
             },
             "pattern": {
              "fillmode": "overlay",
              "size": 10,
              "solidity": 0.2
             }
            },
            "type": "bar"
           }
          ],
          "barpolar": [
           {
            "marker": {
             "line": {
              "color": "#E5ECF6",
              "width": 0.5
             },
             "pattern": {
              "fillmode": "overlay",
              "size": 10,
              "solidity": 0.2
             }
            },
            "type": "barpolar"
           }
          ],
          "carpet": [
           {
            "aaxis": {
             "endlinecolor": "#2a3f5f",
             "gridcolor": "white",
             "linecolor": "white",
             "minorgridcolor": "white",
             "startlinecolor": "#2a3f5f"
            },
            "baxis": {
             "endlinecolor": "#2a3f5f",
             "gridcolor": "white",
             "linecolor": "white",
             "minorgridcolor": "white",
             "startlinecolor": "#2a3f5f"
            },
            "type": "carpet"
           }
          ],
          "choropleth": [
           {
            "colorbar": {
             "outlinewidth": 0,
             "ticks": ""
            },
            "type": "choropleth"
           }
          ],
          "contour": [
           {
            "colorbar": {
             "outlinewidth": 0,
             "ticks": ""
            },
            "colorscale": [
             [
              0,
              "#0d0887"
             ],
             [
              0.1111111111111111,
              "#46039f"
             ],
             [
              0.2222222222222222,
              "#7201a8"
             ],
             [
              0.3333333333333333,
              "#9c179e"
             ],
             [
              0.4444444444444444,
              "#bd3786"
             ],
             [
              0.5555555555555556,
              "#d8576b"
             ],
             [
              0.6666666666666666,
              "#ed7953"
             ],
             [
              0.7777777777777778,
              "#fb9f3a"
             ],
             [
              0.8888888888888888,
              "#fdca26"
             ],
             [
              1,
              "#f0f921"
             ]
            ],
            "type": "contour"
           }
          ],
          "contourcarpet": [
           {
            "colorbar": {
             "outlinewidth": 0,
             "ticks": ""
            },
            "type": "contourcarpet"
           }
          ],
          "heatmap": [
           {
            "colorbar": {
             "outlinewidth": 0,
             "ticks": ""
            },
            "colorscale": [
             [
              0,
              "#0d0887"
             ],
             [
              0.1111111111111111,
              "#46039f"
             ],
             [
              0.2222222222222222,
              "#7201a8"
             ],
             [
              0.3333333333333333,
              "#9c179e"
             ],
             [
              0.4444444444444444,
              "#bd3786"
             ],
             [
              0.5555555555555556,
              "#d8576b"
             ],
             [
              0.6666666666666666,
              "#ed7953"
             ],
             [
              0.7777777777777778,
              "#fb9f3a"
             ],
             [
              0.8888888888888888,
              "#fdca26"
             ],
             [
              1,
              "#f0f921"
             ]
            ],
            "type": "heatmap"
           }
          ],
          "heatmapgl": [
           {
            "colorbar": {
             "outlinewidth": 0,
             "ticks": ""
            },
            "colorscale": [
             [
              0,
              "#0d0887"
             ],
             [
              0.1111111111111111,
              "#46039f"
             ],
             [
              0.2222222222222222,
              "#7201a8"
             ],
             [
              0.3333333333333333,
              "#9c179e"
             ],
             [
              0.4444444444444444,
              "#bd3786"
             ],
             [
              0.5555555555555556,
              "#d8576b"
             ],
             [
              0.6666666666666666,
              "#ed7953"
             ],
             [
              0.7777777777777778,
              "#fb9f3a"
             ],
             [
              0.8888888888888888,
              "#fdca26"
             ],
             [
              1,
              "#f0f921"
             ]
            ],
            "type": "heatmapgl"
           }
          ],
          "histogram": [
           {
            "marker": {
             "pattern": {
              "fillmode": "overlay",
              "size": 10,
              "solidity": 0.2
             }
            },
            "type": "histogram"
           }
          ],
          "histogram2d": [
           {
            "colorbar": {
             "outlinewidth": 0,
             "ticks": ""
            },
            "colorscale": [
             [
              0,
              "#0d0887"
             ],
             [
              0.1111111111111111,
              "#46039f"
             ],
             [
              0.2222222222222222,
              "#7201a8"
             ],
             [
              0.3333333333333333,
              "#9c179e"
             ],
             [
              0.4444444444444444,
              "#bd3786"
             ],
             [
              0.5555555555555556,
              "#d8576b"
             ],
             [
              0.6666666666666666,
              "#ed7953"
             ],
             [
              0.7777777777777778,
              "#fb9f3a"
             ],
             [
              0.8888888888888888,
              "#fdca26"
             ],
             [
              1,
              "#f0f921"
             ]
            ],
            "type": "histogram2d"
           }
          ],
          "histogram2dcontour": [
           {
            "colorbar": {
             "outlinewidth": 0,
             "ticks": ""
            },
            "colorscale": [
             [
              0,
              "#0d0887"
             ],
             [
              0.1111111111111111,
              "#46039f"
             ],
             [
              0.2222222222222222,
              "#7201a8"
             ],
             [
              0.3333333333333333,
              "#9c179e"
             ],
             [
              0.4444444444444444,
              "#bd3786"
             ],
             [
              0.5555555555555556,
              "#d8576b"
             ],
             [
              0.6666666666666666,
              "#ed7953"
             ],
             [
              0.7777777777777778,
              "#fb9f3a"
             ],
             [
              0.8888888888888888,
              "#fdca26"
             ],
             [
              1,
              "#f0f921"
             ]
            ],
            "type": "histogram2dcontour"
           }
          ],
          "mesh3d": [
           {
            "colorbar": {
             "outlinewidth": 0,
             "ticks": ""
            },
            "type": "mesh3d"
           }
          ],
          "parcoords": [
           {
            "line": {
             "colorbar": {
              "outlinewidth": 0,
              "ticks": ""
             }
            },
            "type": "parcoords"
           }
          ],
          "pie": [
           {
            "automargin": true,
            "type": "pie"
           }
          ],
          "scatter": [
           {
            "fillpattern": {
             "fillmode": "overlay",
             "size": 10,
             "solidity": 0.2
            },
            "type": "scatter"
           }
          ],
          "scatter3d": [
           {
            "line": {
             "colorbar": {
              "outlinewidth": 0,
              "ticks": ""
             }
            },
            "marker": {
             "colorbar": {
              "outlinewidth": 0,
              "ticks": ""
             }
            },
            "type": "scatter3d"
           }
          ],
          "scattercarpet": [
           {
            "marker": {
             "colorbar": {
              "outlinewidth": 0,
              "ticks": ""
             }
            },
            "type": "scattercarpet"
           }
          ],
          "scattergeo": [
           {
            "marker": {
             "colorbar": {
              "outlinewidth": 0,
              "ticks": ""
             }
            },
            "type": "scattergeo"
           }
          ],
          "scattergl": [
           {
            "marker": {
             "colorbar": {
              "outlinewidth": 0,
              "ticks": ""
             }
            },
            "type": "scattergl"
           }
          ],
          "scattermapbox": [
           {
            "marker": {
             "colorbar": {
              "outlinewidth": 0,
              "ticks": ""
             }
            },
            "type": "scattermapbox"
           }
          ],
          "scatterpolar": [
           {
            "marker": {
             "colorbar": {
              "outlinewidth": 0,
              "ticks": ""
             }
            },
            "type": "scatterpolar"
           }
          ],
          "scatterpolargl": [
           {
            "marker": {
             "colorbar": {
              "outlinewidth": 0,
              "ticks": ""
             }
            },
            "type": "scatterpolargl"
           }
          ],
          "scatterternary": [
           {
            "marker": {
             "colorbar": {
              "outlinewidth": 0,
              "ticks": ""
             }
            },
            "type": "scatterternary"
           }
          ],
          "surface": [
           {
            "colorbar": {
             "outlinewidth": 0,
             "ticks": ""
            },
            "colorscale": [
             [
              0,
              "#0d0887"
             ],
             [
              0.1111111111111111,
              "#46039f"
             ],
             [
              0.2222222222222222,
              "#7201a8"
             ],
             [
              0.3333333333333333,
              "#9c179e"
             ],
             [
              0.4444444444444444,
              "#bd3786"
             ],
             [
              0.5555555555555556,
              "#d8576b"
             ],
             [
              0.6666666666666666,
              "#ed7953"
             ],
             [
              0.7777777777777778,
              "#fb9f3a"
             ],
             [
              0.8888888888888888,
              "#fdca26"
             ],
             [
              1,
              "#f0f921"
             ]
            ],
            "type": "surface"
           }
          ],
          "table": [
           {
            "cells": {
             "fill": {
              "color": "#EBF0F8"
             },
             "line": {
              "color": "white"
             }
            },
            "header": {
             "fill": {
              "color": "#C8D4E3"
             },
             "line": {
              "color": "white"
             }
            },
            "type": "table"
           }
          ]
         },
         "layout": {
          "annotationdefaults": {
           "arrowcolor": "#2a3f5f",
           "arrowhead": 0,
           "arrowwidth": 1
          },
          "autotypenumbers": "strict",
          "coloraxis": {
           "colorbar": {
            "outlinewidth": 0,
            "ticks": ""
           }
          },
          "colorscale": {
           "diverging": [
            [
             0,
             "#8e0152"
            ],
            [
             0.1,
             "#c51b7d"
            ],
            [
             0.2,
             "#de77ae"
            ],
            [
             0.3,
             "#f1b6da"
            ],
            [
             0.4,
             "#fde0ef"
            ],
            [
             0.5,
             "#f7f7f7"
            ],
            [
             0.6,
             "#e6f5d0"
            ],
            [
             0.7,
             "#b8e186"
            ],
            [
             0.8,
             "#7fbc41"
            ],
            [
             0.9,
             "#4d9221"
            ],
            [
             1,
             "#276419"
            ]
           ],
           "sequential": [
            [
             0,
             "#0d0887"
            ],
            [
             0.1111111111111111,
             "#46039f"
            ],
            [
             0.2222222222222222,
             "#7201a8"
            ],
            [
             0.3333333333333333,
             "#9c179e"
            ],
            [
             0.4444444444444444,
             "#bd3786"
            ],
            [
             0.5555555555555556,
             "#d8576b"
            ],
            [
             0.6666666666666666,
             "#ed7953"
            ],
            [
             0.7777777777777778,
             "#fb9f3a"
            ],
            [
             0.8888888888888888,
             "#fdca26"
            ],
            [
             1,
             "#f0f921"
            ]
           ],
           "sequentialminus": [
            [
             0,
             "#0d0887"
            ],
            [
             0.1111111111111111,
             "#46039f"
            ],
            [
             0.2222222222222222,
             "#7201a8"
            ],
            [
             0.3333333333333333,
             "#9c179e"
            ],
            [
             0.4444444444444444,
             "#bd3786"
            ],
            [
             0.5555555555555556,
             "#d8576b"
            ],
            [
             0.6666666666666666,
             "#ed7953"
            ],
            [
             0.7777777777777778,
             "#fb9f3a"
            ],
            [
             0.8888888888888888,
             "#fdca26"
            ],
            [
             1,
             "#f0f921"
            ]
           ]
          },
          "colorway": [
           "#636efa",
           "#EF553B",
           "#00cc96",
           "#ab63fa",
           "#FFA15A",
           "#19d3f3",
           "#FF6692",
           "#B6E880",
           "#FF97FF",
           "#FECB52"
          ],
          "font": {
           "color": "#2a3f5f"
          },
          "geo": {
           "bgcolor": "white",
           "lakecolor": "white",
           "landcolor": "#E5ECF6",
           "showlakes": true,
           "showland": true,
           "subunitcolor": "white"
          },
          "hoverlabel": {
           "align": "left"
          },
          "hovermode": "closest",
          "mapbox": {
           "style": "light"
          },
          "paper_bgcolor": "white",
          "plot_bgcolor": "#E5ECF6",
          "polar": {
           "angularaxis": {
            "gridcolor": "white",
            "linecolor": "white",
            "ticks": ""
           },
           "bgcolor": "#E5ECF6",
           "radialaxis": {
            "gridcolor": "white",
            "linecolor": "white",
            "ticks": ""
           }
          },
          "scene": {
           "xaxis": {
            "backgroundcolor": "#E5ECF6",
            "gridcolor": "white",
            "gridwidth": 2,
            "linecolor": "white",
            "showbackground": true,
            "ticks": "",
            "zerolinecolor": "white"
           },
           "yaxis": {
            "backgroundcolor": "#E5ECF6",
            "gridcolor": "white",
            "gridwidth": 2,
            "linecolor": "white",
            "showbackground": true,
            "ticks": "",
            "zerolinecolor": "white"
           },
           "zaxis": {
            "backgroundcolor": "#E5ECF6",
            "gridcolor": "white",
            "gridwidth": 2,
            "linecolor": "white",
            "showbackground": true,
            "ticks": "",
            "zerolinecolor": "white"
           }
          },
          "shapedefaults": {
           "line": {
            "color": "#2a3f5f"
           }
          },
          "ternary": {
           "aaxis": {
            "gridcolor": "white",
            "linecolor": "white",
            "ticks": ""
           },
           "baxis": {
            "gridcolor": "white",
            "linecolor": "white",
            "ticks": ""
           },
           "bgcolor": "#E5ECF6",
           "caxis": {
            "gridcolor": "white",
            "linecolor": "white",
            "ticks": ""
           }
          },
          "title": {
           "x": 0.05
          },
          "xaxis": {
           "automargin": true,
           "gridcolor": "white",
           "linecolor": "white",
           "ticks": "",
           "title": {
            "standoff": 15
           },
           "zerolinecolor": "white",
           "zerolinewidth": 2
          },
          "yaxis": {
           "automargin": true,
           "gridcolor": "white",
           "linecolor": "white",
           "ticks": "",
           "title": {
            "standoff": 15
           },
           "zerolinecolor": "white",
           "zerolinewidth": 2
          }
         }
        },
        "xaxis": {
         "dtick": 1,
         "gridcolor": "rgb(0, 0, 0)",
         "side": "top",
         "ticks": ""
        },
        "yaxis": {
         "dtick": 1,
         "ticks": "",
         "ticksuffix": "  "
        }
       }
      }
     },
     "metadata": {},
     "output_type": "display_data"
    }
   ],
   "source": [
    "num_attributes = exploratory_data_analysis.select_dtypes(include='number')\n",
    "correlation = num_attributes.corr(method='pearson')\n",
    "\n",
    "fig = ff.create_annotated_heatmap(\n",
    "    z=correlation.values, \n",
    "    x=list(correlation.columns), \n",
    "    y=list(correlation.index), \n",
    "    annotation_text=correlation.round(2).values, \n",
    "    showscale=True,\n",
    "    colorscale='Bluered'\n",
    ")\n",
    "fig.show()"
   ]
  },
  {
   "cell_type": "markdown",
   "metadata": {},
   "source": [
    "### 4.3.2 Categorical Attributes"
   ]
  },
  {
   "cell_type": "code",
   "execution_count": 23,
   "metadata": {},
   "outputs": [
    {
     "data": {
      "application/vnd.plotly.v1+json": {
       "config": {
        "plotlyServerURL": "https://plot.ly"
       },
       "data": [
        {
         "colorscale": [
          [
           0,
           "rgb(0,0,255)"
          ],
          [
           1,
           "rgb(255,0,0)"
          ]
         ],
         "reversescale": false,
         "showscale": true,
         "type": "heatmap",
         "x": [
          "title",
          "director",
          "cast",
          "country",
          "listed_in",
          "description",
          "duration_bins",
          "movie_stage"
         ],
         "y": [
          "title",
          "director",
          "cast",
          "country",
          "listed_in",
          "description",
          "duration_bins",
          "movie_stage"
         ],
         "z": [
          [
           1.000000000000762,
           0.25711826235893137,
           0.16899466435630445,
           0.10303004725587644,
           0,
           0.3458263504250658,
           0.06610375712188131,
           0.03767262078908491
          ],
          [
           0.257118262360673,
           0.999999999999994,
           0.2948633826955255,
           0.34840157092978474,
           0.2631989785931709,
           0.8667034164138576,
           0.11759220448937173,
           0.29621344648271025
          ],
          [
           0.16899466435861593,
           0.29486338269550977,
           1.0000000000000169,
           0,
           0.2622777838763468,
           0.8712999103768813,
           0,
           0
          ],
          [
           0.10303004725584178,
           0.34840157092978497,
           0,
           0.9999999999999998,
           0.0841058983666785,
           0.3365291661941552,
           0,
           0.2617594091178881
          ],
          [
           0,
           0.26319897859317043,
           0.26227778387634726,
           0.08410589836667841,
           1,
           0.24139319934855358,
           0.4801566322459104,
           0.33720743300660005
          ],
          [
           0.34582635045124976,
           0.8667034164174716,
           0.8712999103853131,
           0.33652916619399653,
           0.24139319934856832,
           0.9999999999932229,
           0.04332497001439051,
           0.043319888204511936
          ],
          [
           0.06610375712188131,
           0.11759220448937173,
           0,
           0,
           0.4801566322459103,
           0.04332497001439307,
           1,
           0.21271395866056744
          ],
          [
           0.03767262078908196,
           0.29621344648271025,
           0,
           0.2617594091178881,
           0.33720743300660005,
           0.043319888204511936,
           0.21271395866056744,
           0.9999999999999999
          ]
         ]
        }
       ],
       "layout": {
        "annotations": [
         {
          "font": {
           "color": "#FFFFFF"
          },
          "showarrow": false,
          "text": "1.0",
          "x": "title",
          "xref": "x",
          "y": "title",
          "yref": "y"
         },
         {
          "font": {
           "color": "#FFFFFF"
          },
          "showarrow": false,
          "text": "0.26",
          "x": "director",
          "xref": "x",
          "y": "title",
          "yref": "y"
         },
         {
          "font": {
           "color": "#FFFFFF"
          },
          "showarrow": false,
          "text": "0.17",
          "x": "cast",
          "xref": "x",
          "y": "title",
          "yref": "y"
         },
         {
          "font": {
           "color": "#FFFFFF"
          },
          "showarrow": false,
          "text": "0.1",
          "x": "country",
          "xref": "x",
          "y": "title",
          "yref": "y"
         },
         {
          "font": {
           "color": "#FFFFFF"
          },
          "showarrow": false,
          "text": "0.0",
          "x": "listed_in",
          "xref": "x",
          "y": "title",
          "yref": "y"
         },
         {
          "font": {
           "color": "#FFFFFF"
          },
          "showarrow": false,
          "text": "0.35",
          "x": "description",
          "xref": "x",
          "y": "title",
          "yref": "y"
         },
         {
          "font": {
           "color": "#FFFFFF"
          },
          "showarrow": false,
          "text": "0.07",
          "x": "duration_bins",
          "xref": "x",
          "y": "title",
          "yref": "y"
         },
         {
          "font": {
           "color": "#FFFFFF"
          },
          "showarrow": false,
          "text": "0.04",
          "x": "movie_stage",
          "xref": "x",
          "y": "title",
          "yref": "y"
         },
         {
          "font": {
           "color": "#FFFFFF"
          },
          "showarrow": false,
          "text": "0.26",
          "x": "title",
          "xref": "x",
          "y": "director",
          "yref": "y"
         },
         {
          "font": {
           "color": "#FFFFFF"
          },
          "showarrow": false,
          "text": "1.0",
          "x": "director",
          "xref": "x",
          "y": "director",
          "yref": "y"
         },
         {
          "font": {
           "color": "#FFFFFF"
          },
          "showarrow": false,
          "text": "0.29",
          "x": "cast",
          "xref": "x",
          "y": "director",
          "yref": "y"
         },
         {
          "font": {
           "color": "#FFFFFF"
          },
          "showarrow": false,
          "text": "0.35",
          "x": "country",
          "xref": "x",
          "y": "director",
          "yref": "y"
         },
         {
          "font": {
           "color": "#FFFFFF"
          },
          "showarrow": false,
          "text": "0.26",
          "x": "listed_in",
          "xref": "x",
          "y": "director",
          "yref": "y"
         },
         {
          "font": {
           "color": "#FFFFFF"
          },
          "showarrow": false,
          "text": "0.87",
          "x": "description",
          "xref": "x",
          "y": "director",
          "yref": "y"
         },
         {
          "font": {
           "color": "#FFFFFF"
          },
          "showarrow": false,
          "text": "0.12",
          "x": "duration_bins",
          "xref": "x",
          "y": "director",
          "yref": "y"
         },
         {
          "font": {
           "color": "#FFFFFF"
          },
          "showarrow": false,
          "text": "0.3",
          "x": "movie_stage",
          "xref": "x",
          "y": "director",
          "yref": "y"
         },
         {
          "font": {
           "color": "#FFFFFF"
          },
          "showarrow": false,
          "text": "0.17",
          "x": "title",
          "xref": "x",
          "y": "cast",
          "yref": "y"
         },
         {
          "font": {
           "color": "#FFFFFF"
          },
          "showarrow": false,
          "text": "0.29",
          "x": "director",
          "xref": "x",
          "y": "cast",
          "yref": "y"
         },
         {
          "font": {
           "color": "#FFFFFF"
          },
          "showarrow": false,
          "text": "1.0",
          "x": "cast",
          "xref": "x",
          "y": "cast",
          "yref": "y"
         },
         {
          "font": {
           "color": "#FFFFFF"
          },
          "showarrow": false,
          "text": "0.0",
          "x": "country",
          "xref": "x",
          "y": "cast",
          "yref": "y"
         },
         {
          "font": {
           "color": "#FFFFFF"
          },
          "showarrow": false,
          "text": "0.26",
          "x": "listed_in",
          "xref": "x",
          "y": "cast",
          "yref": "y"
         },
         {
          "font": {
           "color": "#FFFFFF"
          },
          "showarrow": false,
          "text": "0.87",
          "x": "description",
          "xref": "x",
          "y": "cast",
          "yref": "y"
         },
         {
          "font": {
           "color": "#FFFFFF"
          },
          "showarrow": false,
          "text": "0.0",
          "x": "duration_bins",
          "xref": "x",
          "y": "cast",
          "yref": "y"
         },
         {
          "font": {
           "color": "#FFFFFF"
          },
          "showarrow": false,
          "text": "0.0",
          "x": "movie_stage",
          "xref": "x",
          "y": "cast",
          "yref": "y"
         },
         {
          "font": {
           "color": "#FFFFFF"
          },
          "showarrow": false,
          "text": "0.1",
          "x": "title",
          "xref": "x",
          "y": "country",
          "yref": "y"
         },
         {
          "font": {
           "color": "#FFFFFF"
          },
          "showarrow": false,
          "text": "0.35",
          "x": "director",
          "xref": "x",
          "y": "country",
          "yref": "y"
         },
         {
          "font": {
           "color": "#FFFFFF"
          },
          "showarrow": false,
          "text": "0.0",
          "x": "cast",
          "xref": "x",
          "y": "country",
          "yref": "y"
         },
         {
          "font": {
           "color": "#FFFFFF"
          },
          "showarrow": false,
          "text": "1.0",
          "x": "country",
          "xref": "x",
          "y": "country",
          "yref": "y"
         },
         {
          "font": {
           "color": "#FFFFFF"
          },
          "showarrow": false,
          "text": "0.08",
          "x": "listed_in",
          "xref": "x",
          "y": "country",
          "yref": "y"
         },
         {
          "font": {
           "color": "#FFFFFF"
          },
          "showarrow": false,
          "text": "0.34",
          "x": "description",
          "xref": "x",
          "y": "country",
          "yref": "y"
         },
         {
          "font": {
           "color": "#FFFFFF"
          },
          "showarrow": false,
          "text": "0.0",
          "x": "duration_bins",
          "xref": "x",
          "y": "country",
          "yref": "y"
         },
         {
          "font": {
           "color": "#FFFFFF"
          },
          "showarrow": false,
          "text": "0.26",
          "x": "movie_stage",
          "xref": "x",
          "y": "country",
          "yref": "y"
         },
         {
          "font": {
           "color": "#FFFFFF"
          },
          "showarrow": false,
          "text": "0.0",
          "x": "title",
          "xref": "x",
          "y": "listed_in",
          "yref": "y"
         },
         {
          "font": {
           "color": "#FFFFFF"
          },
          "showarrow": false,
          "text": "0.26",
          "x": "director",
          "xref": "x",
          "y": "listed_in",
          "yref": "y"
         },
         {
          "font": {
           "color": "#FFFFFF"
          },
          "showarrow": false,
          "text": "0.26",
          "x": "cast",
          "xref": "x",
          "y": "listed_in",
          "yref": "y"
         },
         {
          "font": {
           "color": "#FFFFFF"
          },
          "showarrow": false,
          "text": "0.08",
          "x": "country",
          "xref": "x",
          "y": "listed_in",
          "yref": "y"
         },
         {
          "font": {
           "color": "#FFFFFF"
          },
          "showarrow": false,
          "text": "1.0",
          "x": "listed_in",
          "xref": "x",
          "y": "listed_in",
          "yref": "y"
         },
         {
          "font": {
           "color": "#FFFFFF"
          },
          "showarrow": false,
          "text": "0.24",
          "x": "description",
          "xref": "x",
          "y": "listed_in",
          "yref": "y"
         },
         {
          "font": {
           "color": "#FFFFFF"
          },
          "showarrow": false,
          "text": "0.48",
          "x": "duration_bins",
          "xref": "x",
          "y": "listed_in",
          "yref": "y"
         },
         {
          "font": {
           "color": "#FFFFFF"
          },
          "showarrow": false,
          "text": "0.34",
          "x": "movie_stage",
          "xref": "x",
          "y": "listed_in",
          "yref": "y"
         },
         {
          "font": {
           "color": "#FFFFFF"
          },
          "showarrow": false,
          "text": "0.35",
          "x": "title",
          "xref": "x",
          "y": "description",
          "yref": "y"
         },
         {
          "font": {
           "color": "#FFFFFF"
          },
          "showarrow": false,
          "text": "0.87",
          "x": "director",
          "xref": "x",
          "y": "description",
          "yref": "y"
         },
         {
          "font": {
           "color": "#FFFFFF"
          },
          "showarrow": false,
          "text": "0.87",
          "x": "cast",
          "xref": "x",
          "y": "description",
          "yref": "y"
         },
         {
          "font": {
           "color": "#FFFFFF"
          },
          "showarrow": false,
          "text": "0.34",
          "x": "country",
          "xref": "x",
          "y": "description",
          "yref": "y"
         },
         {
          "font": {
           "color": "#FFFFFF"
          },
          "showarrow": false,
          "text": "0.24",
          "x": "listed_in",
          "xref": "x",
          "y": "description",
          "yref": "y"
         },
         {
          "font": {
           "color": "#FFFFFF"
          },
          "showarrow": false,
          "text": "1.0",
          "x": "description",
          "xref": "x",
          "y": "description",
          "yref": "y"
         },
         {
          "font": {
           "color": "#FFFFFF"
          },
          "showarrow": false,
          "text": "0.04",
          "x": "duration_bins",
          "xref": "x",
          "y": "description",
          "yref": "y"
         },
         {
          "font": {
           "color": "#FFFFFF"
          },
          "showarrow": false,
          "text": "0.04",
          "x": "movie_stage",
          "xref": "x",
          "y": "description",
          "yref": "y"
         },
         {
          "font": {
           "color": "#FFFFFF"
          },
          "showarrow": false,
          "text": "0.07",
          "x": "title",
          "xref": "x",
          "y": "duration_bins",
          "yref": "y"
         },
         {
          "font": {
           "color": "#FFFFFF"
          },
          "showarrow": false,
          "text": "0.12",
          "x": "director",
          "xref": "x",
          "y": "duration_bins",
          "yref": "y"
         },
         {
          "font": {
           "color": "#FFFFFF"
          },
          "showarrow": false,
          "text": "0.0",
          "x": "cast",
          "xref": "x",
          "y": "duration_bins",
          "yref": "y"
         },
         {
          "font": {
           "color": "#FFFFFF"
          },
          "showarrow": false,
          "text": "0.0",
          "x": "country",
          "xref": "x",
          "y": "duration_bins",
          "yref": "y"
         },
         {
          "font": {
           "color": "#FFFFFF"
          },
          "showarrow": false,
          "text": "0.48",
          "x": "listed_in",
          "xref": "x",
          "y": "duration_bins",
          "yref": "y"
         },
         {
          "font": {
           "color": "#FFFFFF"
          },
          "showarrow": false,
          "text": "0.04",
          "x": "description",
          "xref": "x",
          "y": "duration_bins",
          "yref": "y"
         },
         {
          "font": {
           "color": "#FFFFFF"
          },
          "showarrow": false,
          "text": "1.0",
          "x": "duration_bins",
          "xref": "x",
          "y": "duration_bins",
          "yref": "y"
         },
         {
          "font": {
           "color": "#FFFFFF"
          },
          "showarrow": false,
          "text": "0.21",
          "x": "movie_stage",
          "xref": "x",
          "y": "duration_bins",
          "yref": "y"
         },
         {
          "font": {
           "color": "#FFFFFF"
          },
          "showarrow": false,
          "text": "0.04",
          "x": "title",
          "xref": "x",
          "y": "movie_stage",
          "yref": "y"
         },
         {
          "font": {
           "color": "#FFFFFF"
          },
          "showarrow": false,
          "text": "0.3",
          "x": "director",
          "xref": "x",
          "y": "movie_stage",
          "yref": "y"
         },
         {
          "font": {
           "color": "#FFFFFF"
          },
          "showarrow": false,
          "text": "0.0",
          "x": "cast",
          "xref": "x",
          "y": "movie_stage",
          "yref": "y"
         },
         {
          "font": {
           "color": "#FFFFFF"
          },
          "showarrow": false,
          "text": "0.26",
          "x": "country",
          "xref": "x",
          "y": "movie_stage",
          "yref": "y"
         },
         {
          "font": {
           "color": "#FFFFFF"
          },
          "showarrow": false,
          "text": "0.34",
          "x": "listed_in",
          "xref": "x",
          "y": "movie_stage",
          "yref": "y"
         },
         {
          "font": {
           "color": "#FFFFFF"
          },
          "showarrow": false,
          "text": "0.04",
          "x": "description",
          "xref": "x",
          "y": "movie_stage",
          "yref": "y"
         },
         {
          "font": {
           "color": "#FFFFFF"
          },
          "showarrow": false,
          "text": "0.21",
          "x": "duration_bins",
          "xref": "x",
          "y": "movie_stage",
          "yref": "y"
         },
         {
          "font": {
           "color": "#FFFFFF"
          },
          "showarrow": false,
          "text": "1.0",
          "x": "movie_stage",
          "xref": "x",
          "y": "movie_stage",
          "yref": "y"
         }
        ],
        "template": {
         "data": {
          "bar": [
           {
            "error_x": {
             "color": "#2a3f5f"
            },
            "error_y": {
             "color": "#2a3f5f"
            },
            "marker": {
             "line": {
              "color": "#E5ECF6",
              "width": 0.5
             },
             "pattern": {
              "fillmode": "overlay",
              "size": 10,
              "solidity": 0.2
             }
            },
            "type": "bar"
           }
          ],
          "barpolar": [
           {
            "marker": {
             "line": {
              "color": "#E5ECF6",
              "width": 0.5
             },
             "pattern": {
              "fillmode": "overlay",
              "size": 10,
              "solidity": 0.2
             }
            },
            "type": "barpolar"
           }
          ],
          "carpet": [
           {
            "aaxis": {
             "endlinecolor": "#2a3f5f",
             "gridcolor": "white",
             "linecolor": "white",
             "minorgridcolor": "white",
             "startlinecolor": "#2a3f5f"
            },
            "baxis": {
             "endlinecolor": "#2a3f5f",
             "gridcolor": "white",
             "linecolor": "white",
             "minorgridcolor": "white",
             "startlinecolor": "#2a3f5f"
            },
            "type": "carpet"
           }
          ],
          "choropleth": [
           {
            "colorbar": {
             "outlinewidth": 0,
             "ticks": ""
            },
            "type": "choropleth"
           }
          ],
          "contour": [
           {
            "colorbar": {
             "outlinewidth": 0,
             "ticks": ""
            },
            "colorscale": [
             [
              0,
              "#0d0887"
             ],
             [
              0.1111111111111111,
              "#46039f"
             ],
             [
              0.2222222222222222,
              "#7201a8"
             ],
             [
              0.3333333333333333,
              "#9c179e"
             ],
             [
              0.4444444444444444,
              "#bd3786"
             ],
             [
              0.5555555555555556,
              "#d8576b"
             ],
             [
              0.6666666666666666,
              "#ed7953"
             ],
             [
              0.7777777777777778,
              "#fb9f3a"
             ],
             [
              0.8888888888888888,
              "#fdca26"
             ],
             [
              1,
              "#f0f921"
             ]
            ],
            "type": "contour"
           }
          ],
          "contourcarpet": [
           {
            "colorbar": {
             "outlinewidth": 0,
             "ticks": ""
            },
            "type": "contourcarpet"
           }
          ],
          "heatmap": [
           {
            "colorbar": {
             "outlinewidth": 0,
             "ticks": ""
            },
            "colorscale": [
             [
              0,
              "#0d0887"
             ],
             [
              0.1111111111111111,
              "#46039f"
             ],
             [
              0.2222222222222222,
              "#7201a8"
             ],
             [
              0.3333333333333333,
              "#9c179e"
             ],
             [
              0.4444444444444444,
              "#bd3786"
             ],
             [
              0.5555555555555556,
              "#d8576b"
             ],
             [
              0.6666666666666666,
              "#ed7953"
             ],
             [
              0.7777777777777778,
              "#fb9f3a"
             ],
             [
              0.8888888888888888,
              "#fdca26"
             ],
             [
              1,
              "#f0f921"
             ]
            ],
            "type": "heatmap"
           }
          ],
          "heatmapgl": [
           {
            "colorbar": {
             "outlinewidth": 0,
             "ticks": ""
            },
            "colorscale": [
             [
              0,
              "#0d0887"
             ],
             [
              0.1111111111111111,
              "#46039f"
             ],
             [
              0.2222222222222222,
              "#7201a8"
             ],
             [
              0.3333333333333333,
              "#9c179e"
             ],
             [
              0.4444444444444444,
              "#bd3786"
             ],
             [
              0.5555555555555556,
              "#d8576b"
             ],
             [
              0.6666666666666666,
              "#ed7953"
             ],
             [
              0.7777777777777778,
              "#fb9f3a"
             ],
             [
              0.8888888888888888,
              "#fdca26"
             ],
             [
              1,
              "#f0f921"
             ]
            ],
            "type": "heatmapgl"
           }
          ],
          "histogram": [
           {
            "marker": {
             "pattern": {
              "fillmode": "overlay",
              "size": 10,
              "solidity": 0.2
             }
            },
            "type": "histogram"
           }
          ],
          "histogram2d": [
           {
            "colorbar": {
             "outlinewidth": 0,
             "ticks": ""
            },
            "colorscale": [
             [
              0,
              "#0d0887"
             ],
             [
              0.1111111111111111,
              "#46039f"
             ],
             [
              0.2222222222222222,
              "#7201a8"
             ],
             [
              0.3333333333333333,
              "#9c179e"
             ],
             [
              0.4444444444444444,
              "#bd3786"
             ],
             [
              0.5555555555555556,
              "#d8576b"
             ],
             [
              0.6666666666666666,
              "#ed7953"
             ],
             [
              0.7777777777777778,
              "#fb9f3a"
             ],
             [
              0.8888888888888888,
              "#fdca26"
             ],
             [
              1,
              "#f0f921"
             ]
            ],
            "type": "histogram2d"
           }
          ],
          "histogram2dcontour": [
           {
            "colorbar": {
             "outlinewidth": 0,
             "ticks": ""
            },
            "colorscale": [
             [
              0,
              "#0d0887"
             ],
             [
              0.1111111111111111,
              "#46039f"
             ],
             [
              0.2222222222222222,
              "#7201a8"
             ],
             [
              0.3333333333333333,
              "#9c179e"
             ],
             [
              0.4444444444444444,
              "#bd3786"
             ],
             [
              0.5555555555555556,
              "#d8576b"
             ],
             [
              0.6666666666666666,
              "#ed7953"
             ],
             [
              0.7777777777777778,
              "#fb9f3a"
             ],
             [
              0.8888888888888888,
              "#fdca26"
             ],
             [
              1,
              "#f0f921"
             ]
            ],
            "type": "histogram2dcontour"
           }
          ],
          "mesh3d": [
           {
            "colorbar": {
             "outlinewidth": 0,
             "ticks": ""
            },
            "type": "mesh3d"
           }
          ],
          "parcoords": [
           {
            "line": {
             "colorbar": {
              "outlinewidth": 0,
              "ticks": ""
             }
            },
            "type": "parcoords"
           }
          ],
          "pie": [
           {
            "automargin": true,
            "type": "pie"
           }
          ],
          "scatter": [
           {
            "fillpattern": {
             "fillmode": "overlay",
             "size": 10,
             "solidity": 0.2
            },
            "type": "scatter"
           }
          ],
          "scatter3d": [
           {
            "line": {
             "colorbar": {
              "outlinewidth": 0,
              "ticks": ""
             }
            },
            "marker": {
             "colorbar": {
              "outlinewidth": 0,
              "ticks": ""
             }
            },
            "type": "scatter3d"
           }
          ],
          "scattercarpet": [
           {
            "marker": {
             "colorbar": {
              "outlinewidth": 0,
              "ticks": ""
             }
            },
            "type": "scattercarpet"
           }
          ],
          "scattergeo": [
           {
            "marker": {
             "colorbar": {
              "outlinewidth": 0,
              "ticks": ""
             }
            },
            "type": "scattergeo"
           }
          ],
          "scattergl": [
           {
            "marker": {
             "colorbar": {
              "outlinewidth": 0,
              "ticks": ""
             }
            },
            "type": "scattergl"
           }
          ],
          "scattermapbox": [
           {
            "marker": {
             "colorbar": {
              "outlinewidth": 0,
              "ticks": ""
             }
            },
            "type": "scattermapbox"
           }
          ],
          "scatterpolar": [
           {
            "marker": {
             "colorbar": {
              "outlinewidth": 0,
              "ticks": ""
             }
            },
            "type": "scatterpolar"
           }
          ],
          "scatterpolargl": [
           {
            "marker": {
             "colorbar": {
              "outlinewidth": 0,
              "ticks": ""
             }
            },
            "type": "scatterpolargl"
           }
          ],
          "scatterternary": [
           {
            "marker": {
             "colorbar": {
              "outlinewidth": 0,
              "ticks": ""
             }
            },
            "type": "scatterternary"
           }
          ],
          "surface": [
           {
            "colorbar": {
             "outlinewidth": 0,
             "ticks": ""
            },
            "colorscale": [
             [
              0,
              "#0d0887"
             ],
             [
              0.1111111111111111,
              "#46039f"
             ],
             [
              0.2222222222222222,
              "#7201a8"
             ],
             [
              0.3333333333333333,
              "#9c179e"
             ],
             [
              0.4444444444444444,
              "#bd3786"
             ],
             [
              0.5555555555555556,
              "#d8576b"
             ],
             [
              0.6666666666666666,
              "#ed7953"
             ],
             [
              0.7777777777777778,
              "#fb9f3a"
             ],
             [
              0.8888888888888888,
              "#fdca26"
             ],
             [
              1,
              "#f0f921"
             ]
            ],
            "type": "surface"
           }
          ],
          "table": [
           {
            "cells": {
             "fill": {
              "color": "#EBF0F8"
             },
             "line": {
              "color": "white"
             }
            },
            "header": {
             "fill": {
              "color": "#C8D4E3"
             },
             "line": {
              "color": "white"
             }
            },
            "type": "table"
           }
          ]
         },
         "layout": {
          "annotationdefaults": {
           "arrowcolor": "#2a3f5f",
           "arrowhead": 0,
           "arrowwidth": 1
          },
          "autotypenumbers": "strict",
          "coloraxis": {
           "colorbar": {
            "outlinewidth": 0,
            "ticks": ""
           }
          },
          "colorscale": {
           "diverging": [
            [
             0,
             "#8e0152"
            ],
            [
             0.1,
             "#c51b7d"
            ],
            [
             0.2,
             "#de77ae"
            ],
            [
             0.3,
             "#f1b6da"
            ],
            [
             0.4,
             "#fde0ef"
            ],
            [
             0.5,
             "#f7f7f7"
            ],
            [
             0.6,
             "#e6f5d0"
            ],
            [
             0.7,
             "#b8e186"
            ],
            [
             0.8,
             "#7fbc41"
            ],
            [
             0.9,
             "#4d9221"
            ],
            [
             1,
             "#276419"
            ]
           ],
           "sequential": [
            [
             0,
             "#0d0887"
            ],
            [
             0.1111111111111111,
             "#46039f"
            ],
            [
             0.2222222222222222,
             "#7201a8"
            ],
            [
             0.3333333333333333,
             "#9c179e"
            ],
            [
             0.4444444444444444,
             "#bd3786"
            ],
            [
             0.5555555555555556,
             "#d8576b"
            ],
            [
             0.6666666666666666,
             "#ed7953"
            ],
            [
             0.7777777777777778,
             "#fb9f3a"
            ],
            [
             0.8888888888888888,
             "#fdca26"
            ],
            [
             1,
             "#f0f921"
            ]
           ],
           "sequentialminus": [
            [
             0,
             "#0d0887"
            ],
            [
             0.1111111111111111,
             "#46039f"
            ],
            [
             0.2222222222222222,
             "#7201a8"
            ],
            [
             0.3333333333333333,
             "#9c179e"
            ],
            [
             0.4444444444444444,
             "#bd3786"
            ],
            [
             0.5555555555555556,
             "#d8576b"
            ],
            [
             0.6666666666666666,
             "#ed7953"
            ],
            [
             0.7777777777777778,
             "#fb9f3a"
            ],
            [
             0.8888888888888888,
             "#fdca26"
            ],
            [
             1,
             "#f0f921"
            ]
           ]
          },
          "colorway": [
           "#636efa",
           "#EF553B",
           "#00cc96",
           "#ab63fa",
           "#FFA15A",
           "#19d3f3",
           "#FF6692",
           "#B6E880",
           "#FF97FF",
           "#FECB52"
          ],
          "font": {
           "color": "#2a3f5f"
          },
          "geo": {
           "bgcolor": "white",
           "lakecolor": "white",
           "landcolor": "#E5ECF6",
           "showlakes": true,
           "showland": true,
           "subunitcolor": "white"
          },
          "hoverlabel": {
           "align": "left"
          },
          "hovermode": "closest",
          "mapbox": {
           "style": "light"
          },
          "paper_bgcolor": "white",
          "plot_bgcolor": "#E5ECF6",
          "polar": {
           "angularaxis": {
            "gridcolor": "white",
            "linecolor": "white",
            "ticks": ""
           },
           "bgcolor": "#E5ECF6",
           "radialaxis": {
            "gridcolor": "white",
            "linecolor": "white",
            "ticks": ""
           }
          },
          "scene": {
           "xaxis": {
            "backgroundcolor": "#E5ECF6",
            "gridcolor": "white",
            "gridwidth": 2,
            "linecolor": "white",
            "showbackground": true,
            "ticks": "",
            "zerolinecolor": "white"
           },
           "yaxis": {
            "backgroundcolor": "#E5ECF6",
            "gridcolor": "white",
            "gridwidth": 2,
            "linecolor": "white",
            "showbackground": true,
            "ticks": "",
            "zerolinecolor": "white"
           },
           "zaxis": {
            "backgroundcolor": "#E5ECF6",
            "gridcolor": "white",
            "gridwidth": 2,
            "linecolor": "white",
            "showbackground": true,
            "ticks": "",
            "zerolinecolor": "white"
           }
          },
          "shapedefaults": {
           "line": {
            "color": "#2a3f5f"
           }
          },
          "ternary": {
           "aaxis": {
            "gridcolor": "white",
            "linecolor": "white",
            "ticks": ""
           },
           "baxis": {
            "gridcolor": "white",
            "linecolor": "white",
            "ticks": ""
           },
           "bgcolor": "#E5ECF6",
           "caxis": {
            "gridcolor": "white",
            "linecolor": "white",
            "ticks": ""
           }
          },
          "title": {
           "x": 0.05
          },
          "xaxis": {
           "automargin": true,
           "gridcolor": "white",
           "linecolor": "white",
           "ticks": "",
           "title": {
            "standoff": 15
           },
           "zerolinecolor": "white",
           "zerolinewidth": 2
          },
          "yaxis": {
           "automargin": true,
           "gridcolor": "white",
           "linecolor": "white",
           "ticks": "",
           "title": {
            "standoff": 15
           },
           "zerolinecolor": "white",
           "zerolinewidth": 2
          }
         }
        },
        "xaxis": {
         "dtick": 1,
         "gridcolor": "rgb(0, 0, 0)",
         "side": "top",
         "ticks": ""
        },
        "yaxis": {
         "dtick": 1,
         "ticks": "",
         "ticksuffix": "  "
        }
       }
      }
     },
     "metadata": {},
     "output_type": "display_data"
    }
   ],
   "source": [
    "# only categorical data\n",
    "cat_attributes = exploratory_data_analysis.select_dtypes(include='object')\n",
    "\n",
    "# Cramer V correlation\n",
    "correlation = pycorrcat.corr_matrix(cat_attributes, list(cat_attributes.columns))\n",
    "\n",
    "fig = ff.create_annotated_heatmap(\n",
    "    z=correlation.values, \n",
    "    x=list(correlation.columns), \n",
    "    y=list(correlation.index), \n",
    "    annotation_text=correlation.round(2).values, \n",
    "    showscale=True,\n",
    "    colorscale='Bluered'\n",
    ")\n",
    "fig.show()"
   ]
  },
  {
   "cell_type": "code",
   "execution_count": 24,
   "metadata": {},
   "outputs": [
    {
     "data": {
      "text/html": [
       "<pre style=\"white-space:pre;overflow-x:auto;line-height:normal;font-family:Menlo,'DejaVu Sans Mono',consolas,'Courier New',monospace\"><span style=\"color: #7fbfbf; text-decoration-color: #7fbfbf\">[09/23/23 17:29:23] </span><span style=\"color: #000080; text-decoration-color: #000080\">INFO    </span> Saving data to <span style=\"color: #008000; text-decoration-color: #008000\">'exploratory_data_analysis'</span> <span style=\"font-weight: bold\">(</span>CSVDataSet<span style=\"font-weight: bold\">)</span><span style=\"color: #808000; text-decoration-color: #808000\">...</span>         <a href=\"file://f:\\SamuelOliveiraAlvesd\\Anaconda3\\envs\\netflix_classifier\\Lib\\site-packages\\kedro\\io\\data_catalog.py\" target=\"_blank\"><span style=\"color: #7f7f7f; text-decoration-color: #7f7f7f\">data_catalog.py</span></a><span style=\"color: #7f7f7f; text-decoration-color: #7f7f7f\">:</span><a href=\"file://f:\\SamuelOliveiraAlvesd\\Anaconda3\\envs\\netflix_classifier\\Lib\\site-packages\\kedro\\io\\data_catalog.py#531\" target=\"_blank\"><span style=\"color: #7f7f7f; text-decoration-color: #7f7f7f\">531</span></a>\n",
       "</pre>\n"
      ],
      "text/plain": [
       "\u001b[2;36m[09/23/23 17:29:23]\u001b[0m\u001b[2;36m \u001b[0m\u001b[34mINFO    \u001b[0m Saving data to \u001b[32m'exploratory_data_analysis'\u001b[0m \u001b[1m(\u001b[0mCSVDataSet\u001b[1m)\u001b[0m\u001b[33m...\u001b[0m         \u001b]8;id=221960;file://f:\\SamuelOliveiraAlvesd\\Anaconda3\\envs\\netflix_classifier\\Lib\\site-packages\\kedro\\io\\data_catalog.py\u001b\\\u001b[2mdata_catalog.py\u001b[0m\u001b]8;;\u001b\\\u001b[2m:\u001b[0m\u001b]8;id=166939;file://f:\\SamuelOliveiraAlvesd\\Anaconda3\\envs\\netflix_classifier\\Lib\\site-packages\\kedro\\io\\data_catalog.py#531\u001b\\\u001b[2m531\u001b[0m\u001b]8;;\u001b\\\n"
      ]
     },
     "metadata": {},
     "output_type": "display_data"
    }
   ],
   "source": [
    "catalog.save(\"exploratory_data_analysis\", exploratory_data_analysis)"
   ]
  }
 ],
 "metadata": {
  "kernelspec": {
   "display_name": "Kedro (video_games_analysis)",
   "language": "python",
   "name": "kedro_video_games_analysis"
  },
  "language_info": {
   "codemirror_mode": {
    "name": "ipython",
    "version": 3
   },
   "file_extension": ".py",
   "mimetype": "text/x-python",
   "name": "python",
   "nbconvert_exporter": "python",
   "pygments_lexer": "ipython3",
   "version": "3.11.5"
  },
  "orig_nbformat": 4
 },
 "nbformat": 4,
 "nbformat_minor": 2
}
