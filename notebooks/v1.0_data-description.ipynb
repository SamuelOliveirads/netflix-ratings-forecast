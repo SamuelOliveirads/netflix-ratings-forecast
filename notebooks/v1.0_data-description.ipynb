{
 "cells": [
  {
   "cell_type": "markdown",
   "metadata": {},
   "source": [
    "# 0.0 Imports"
   ]
  },
  {
   "cell_type": "code",
   "execution_count": 1,
   "metadata": {},
   "outputs": [],
   "source": [
    "import warnings\n",
    "\n",
    "import pandas as pd\n",
    "import seaborn as sns\n",
    "\n",
    "from matplotlib import pyplot as plt"
   ]
  },
  {
   "cell_type": "markdown",
   "metadata": {},
   "source": [
    "## 0.1 Load data"
   ]
  },
  {
   "cell_type": "markdown",
   "metadata": {},
   "source": [
    "### Feature Description based on the Project Plan\n",
    "\n",
    "Referring to our [project plan](../docs/planning.md), it is crucial to understand the definitions of the dataset features. As a comprehensive description document is absent, we'll provide inferred definitions, keeping in mind that our planning takes into account movies in both script-drafting and filming stages.\n",
    "\n",
    "**Dataset Features**:\n",
    "- `show_id`: Unique identifier for the media.\n",
    "- `type`: Media type.\n",
    "- `title`: Media title or name.\n",
    "- `director`: The directing team responsible for the media.\n",
    "- `cast`: Cast members involved.\n",
    "- `country`: Planned country for filming or production.\n",
    "- `date_added`: Date when the media was added to the database.\n",
    "- `release_year`: Year the media was released.\n",
    "- `rating`: Evaluation or rating score.\n",
    "- `duration`: Media runtime or duration.\n",
    "- `listed_in`: Categories or genres the media falls under.\n",
    "- `description`: Brief synopsis of the media."
   ]
  },
  {
   "cell_type": "code",
   "execution_count": 2,
   "metadata": {},
   "outputs": [
    {
     "data": {
      "text/html": [
       "<pre style=\"white-space:pre;overflow-x:auto;line-height:normal;font-family:Menlo,'DejaVu Sans Mono',consolas,'Courier New',monospace\"><span style=\"color: #7fbfbf; text-decoration-color: #7fbfbf\">[09/22/23 10:02:00] </span><span style=\"color: #000080; text-decoration-color: #000080\">INFO    </span> Loading data from <span style=\"color: #008000; text-decoration-color: #008000\">'netflix_data'</span> <span style=\"font-weight: bold\">(</span>ExcelDataSet<span style=\"font-weight: bold\">)</span><span style=\"color: #808000; text-decoration-color: #808000\">...</span>                 <a href=\"file://F:\\SamuelOliveiraAlvesd\\Anaconda3\\envs\\netflix_classifier\\Lib\\site-packages\\kedro\\io\\data_catalog.py\" target=\"_blank\"><span style=\"color: #7f7f7f; text-decoration-color: #7f7f7f\">data_catalog.py</span></a><span style=\"color: #7f7f7f; text-decoration-color: #7f7f7f\">:</span><a href=\"file://F:\\SamuelOliveiraAlvesd\\Anaconda3\\envs\\netflix_classifier\\Lib\\site-packages\\kedro\\io\\data_catalog.py#492\" target=\"_blank\"><span style=\"color: #7f7f7f; text-decoration-color: #7f7f7f\">492</span></a>\n",
       "</pre>\n"
      ],
      "text/plain": [
       "\u001b[2;36m[09/22/23 10:02:00]\u001b[0m\u001b[2;36m \u001b[0m\u001b[34mINFO    \u001b[0m Loading data from \u001b[32m'netflix_data'\u001b[0m \u001b[1m(\u001b[0mExcelDataSet\u001b[1m)\u001b[0m\u001b[33m...\u001b[0m                 \u001b]8;id=644283;file://F:\\SamuelOliveiraAlvesd\\Anaconda3\\envs\\netflix_classifier\\Lib\\site-packages\\kedro\\io\\data_catalog.py\u001b\\\u001b[2mdata_catalog.py\u001b[0m\u001b]8;;\u001b\\\u001b[2m:\u001b[0m\u001b]8;id=326226;file://F:\\SamuelOliveiraAlvesd\\Anaconda3\\envs\\netflix_classifier\\Lib\\site-packages\\kedro\\io\\data_catalog.py#492\u001b\\\u001b[2m492\u001b[0m\u001b]8;;\u001b\\\n"
      ]
     },
     "metadata": {},
     "output_type": "display_data"
    }
   ],
   "source": [
    "netflix_data = catalog.load(\"netflix_data\")"
   ]
  },
  {
   "cell_type": "markdown",
   "metadata": {},
   "source": [
    "- The data separation process often involves partitioning the data initially to simulate a production environment. While this is a recommended practice, these datasets would eventually need to pass through the entire cleaning and processing pipeline. Due to time constraints in this project, constructing such a pipeline outside of the notebook won't be feasible. Therefore, we will proceed with data separation after the exploratory data analysis and will later utilize cross-validation techniques."
   ]
  },
  {
   "cell_type": "markdown",
   "metadata": {},
   "source": [
    "## 0.2 Helper Functions"
   ]
  },
  {
   "cell_type": "code",
   "execution_count": 3,
   "metadata": {},
   "outputs": [],
   "source": [
    "def notebook_settings():\n",
    "    pd.set_option('display.max_columns', None)\n",
    "    pd.set_option('display.max_rows', 60)\n",
    "    pd.set_option('display.float_format', lambda x: '%.3f' % x)\n",
    "\n",
    "    plt.style.use('bmh')\n",
    "    plt.rcParams['figure.figsize'] = [28, 12]\n",
    "    plt.rcParams['font.size'] = 24\n",
    "    sns.set()\n",
    "\n",
    "    warnings.filterwarnings('ignore')\n",
    "    return None\n",
    "\n",
    "notebook_settings()"
   ]
  },
  {
   "cell_type": "markdown",
   "metadata": {},
   "source": [
    "# 1.0 Data Description"
   ]
  },
  {
   "cell_type": "code",
   "execution_count": 4,
   "metadata": {},
   "outputs": [
    {
     "data": {
      "text/html": [
       "<pre style=\"white-space:pre;overflow-x:auto;line-height:normal;font-family:Menlo,'DejaVu Sans Mono',consolas,'Courier New',monospace\"></pre>\n"
      ],
      "text/plain": []
     },
     "metadata": {},
     "output_type": "display_data"
    },
    {
     "data": {
      "text/html": [
       "<div>\n",
       "<style scoped>\n",
       "    .dataframe tbody tr th:only-of-type {\n",
       "        vertical-align: middle;\n",
       "    }\n",
       "\n",
       "    .dataframe tbody tr th {\n",
       "        vertical-align: top;\n",
       "    }\n",
       "\n",
       "    .dataframe thead th {\n",
       "        text-align: right;\n",
       "    }\n",
       "</style>\n",
       "<table border=\"1\" class=\"dataframe\">\n",
       "  <thead>\n",
       "    <tr style=\"text-align: right;\">\n",
       "      <th></th>\n",
       "      <th>show_id</th>\n",
       "      <th>type</th>\n",
       "      <th>title</th>\n",
       "      <th>director</th>\n",
       "      <th>cast</th>\n",
       "      <th>country</th>\n",
       "      <th>date_added</th>\n",
       "      <th>release_year</th>\n",
       "      <th>rating</th>\n",
       "      <th>duration</th>\n",
       "      <th>listed_in</th>\n",
       "      <th>description</th>\n",
       "    </tr>\n",
       "  </thead>\n",
       "  <tbody>\n",
       "    <tr>\n",
       "      <th>0</th>\n",
       "      <td>81145628</td>\n",
       "      <td>Movie</td>\n",
       "      <td>Norm of the North: King Sized Adventure</td>\n",
       "      <td>Richard Finn, Tim Maltby</td>\n",
       "      <td>Alan Marriott, Andrew Toth, Brian Dobson, Cole...</td>\n",
       "      <td>United States, India, South Korea, China</td>\n",
       "      <td>2019-09-09</td>\n",
       "      <td>2019.000</td>\n",
       "      <td>41.000</td>\n",
       "      <td>90 min</td>\n",
       "      <td>Children &amp; Family Movies, Comedies</td>\n",
       "      <td>Before planning an awesome wedding for his gra...</td>\n",
       "    </tr>\n",
       "    <tr>\n",
       "      <th>1</th>\n",
       "      <td>80117401</td>\n",
       "      <td>Movie</td>\n",
       "      <td>Jandino: Whatever it Takes</td>\n",
       "      <td>NaN</td>\n",
       "      <td>Jandino Asporaat</td>\n",
       "      <td>United Kingdom</td>\n",
       "      <td>2016-09-09</td>\n",
       "      <td>2016.000</td>\n",
       "      <td>52.000</td>\n",
       "      <td>94 min</td>\n",
       "      <td>Stand-Up Comedy</td>\n",
       "      <td>Jandino Asporaat riffs on the challenges of ra...</td>\n",
       "    </tr>\n",
       "    <tr>\n",
       "      <th>2</th>\n",
       "      <td>70234439</td>\n",
       "      <td>TV Show</td>\n",
       "      <td>Transformers Prime</td>\n",
       "      <td>NaN</td>\n",
       "      <td>Peter Cullen, Sumalee Montano, Frank Welker, J...</td>\n",
       "      <td>United States</td>\n",
       "      <td>2018-09-08</td>\n",
       "      <td>2013.000</td>\n",
       "      <td>82.000</td>\n",
       "      <td>1 Season</td>\n",
       "      <td>Kids' TV</td>\n",
       "      <td>With the help of three human allies, the Autob...</td>\n",
       "    </tr>\n",
       "    <tr>\n",
       "      <th>3</th>\n",
       "      <td>80058654</td>\n",
       "      <td>TV Show</td>\n",
       "      <td>Transformers: Robots in Disguise</td>\n",
       "      <td>NaN</td>\n",
       "      <td>Will Friedle, Darren Criss, Constance Zimmer, ...</td>\n",
       "      <td>United States</td>\n",
       "      <td>2018-09-08</td>\n",
       "      <td>2016.000</td>\n",
       "      <td>64.000</td>\n",
       "      <td>1 Season</td>\n",
       "      <td>Kids' TV</td>\n",
       "      <td>When a prison ship crash unleashes hundreds of...</td>\n",
       "    </tr>\n",
       "    <tr>\n",
       "      <th>4</th>\n",
       "      <td>80125979</td>\n",
       "      <td>Movie</td>\n",
       "      <td>#realityhigh</td>\n",
       "      <td>Fernando Lebrija</td>\n",
       "      <td>Nesta Cooper, Kate Walsh, John Michael Higgins...</td>\n",
       "      <td>United States</td>\n",
       "      <td>2017-09-08</td>\n",
       "      <td>2017.000</td>\n",
       "      <td>57.000</td>\n",
       "      <td>99 min</td>\n",
       "      <td>Comedies</td>\n",
       "      <td>When nerdy high schooler Dani finally attracts...</td>\n",
       "    </tr>\n",
       "  </tbody>\n",
       "</table>\n",
       "</div>"
      ],
      "text/plain": [
       "\n",
       "    show_id     type                                    title  \\\n",
       "\u001b[1;36m0\u001b[0m  \u001b[1;36m81145628\u001b[0m    Movie  Norm of the North: King Sized Adventure   \n",
       "\u001b[1;36m1\u001b[0m  \u001b[1;36m80117401\u001b[0m    Movie               Jandino: Whatever it Takes   \n",
       "\u001b[1;36m2\u001b[0m  \u001b[1;36m70234439\u001b[0m  TV Show                       Transformers Prime   \n",
       "\u001b[1;36m3\u001b[0m  \u001b[1;36m80058654\u001b[0m  TV Show         Transformers: Robots in Disguise   \n",
       "\u001b[1;36m4\u001b[0m  \u001b[1;36m80125979\u001b[0m    Movie                             #realityhigh   \n",
       "\n",
       "                   director  \\\n",
       "\u001b[1;36m0\u001b[0m  Richard Finn, Tim Maltby   \n",
       "\u001b[1;36m1\u001b[0m                       NaN   \n",
       "\u001b[1;36m2\u001b[0m                       NaN   \n",
       "\u001b[1;36m3\u001b[0m                       NaN   \n",
       "\u001b[1;36m4\u001b[0m          Fernando Lebrija   \n",
       "\n",
       "                                                cast  \\\n",
       "\u001b[1;36m0\u001b[0m  Alan Marriott, Andrew Toth, Brian Dobson, Cole\u001b[33m...\u001b[0m   \n",
       "\u001b[1;36m1\u001b[0m                                   Jandino Asporaat   \n",
       "\u001b[1;36m2\u001b[0m  Peter Cullen, Sumalee Montano, Frank Welker, J\u001b[33m...\u001b[0m   \n",
       "\u001b[1;36m3\u001b[0m  Will Friedle, Darren Criss, Constance Zimmer, \u001b[33m...\u001b[0m   \n",
       "\u001b[1;36m4\u001b[0m  Nesta Cooper, Kate Walsh, John Michael Higgins\u001b[33m...\u001b[0m   \n",
       "\n",
       "                                    country date_added  release_year  rating  \\\n",
       "\u001b[1;36m0\u001b[0m  United States, India, South Korea, China \u001b[1;36m2019\u001b[0m-\u001b[1;36m09\u001b[0m-\u001b[1;36m09\u001b[0m      \u001b[1;36m2019.000\u001b[0m  \u001b[1;36m41.000\u001b[0m   \n",
       "\u001b[1;36m1\u001b[0m                            United Kingdom \u001b[1;36m2016\u001b[0m-\u001b[1;36m09\u001b[0m-\u001b[1;36m09\u001b[0m      \u001b[1;36m2016.000\u001b[0m  \u001b[1;36m52.000\u001b[0m   \n",
       "\u001b[1;36m2\u001b[0m                             United States \u001b[1;36m2018\u001b[0m-\u001b[1;36m09\u001b[0m-\u001b[1;36m08\u001b[0m      \u001b[1;36m2013.000\u001b[0m  \u001b[1;36m82.000\u001b[0m   \n",
       "\u001b[1;36m3\u001b[0m                             United States \u001b[1;36m2018\u001b[0m-\u001b[1;36m09\u001b[0m-\u001b[1;36m08\u001b[0m      \u001b[1;36m2016.000\u001b[0m  \u001b[1;36m64.000\u001b[0m   \n",
       "\u001b[1;36m4\u001b[0m                             United States \u001b[1;36m2017\u001b[0m-\u001b[1;36m09\u001b[0m-\u001b[1;36m08\u001b[0m      \u001b[1;36m2017.000\u001b[0m  \u001b[1;36m57.000\u001b[0m   \n",
       "\n",
       "   duration                           listed_in  \\\n",
       "\u001b[1;36m0\u001b[0m    \u001b[1;36m90\u001b[0m min  Children & Family Movies, Comedies   \n",
       "\u001b[1;36m1\u001b[0m    \u001b[1;36m94\u001b[0m min                     Stand-Up Comedy   \n",
       "\u001b[1;36m2\u001b[0m  \u001b[1;36m1\u001b[0m Season                            Kids' TV   \n",
       "\u001b[1;36m3\u001b[0m  \u001b[1;36m1\u001b[0m Season                            Kids' TV   \n",
       "\u001b[1;36m4\u001b[0m    \u001b[1;36m99\u001b[0m min                            Comedies   \n",
       "\n",
       "                                         description  \n",
       "\u001b[1;36m0\u001b[0m  Before planning an awesome wedding for his gra\u001b[33m...\u001b[0m  \n",
       "\u001b[1;36m1\u001b[0m  Jandino Asporaat riffs on the challenges of ra\u001b[33m...\u001b[0m  \n",
       "\u001b[1;36m2\u001b[0m  With the help of three human allies, the Autob\u001b[33m...\u001b[0m  \n",
       "\u001b[1;36m3\u001b[0m  When a prison ship crash unleashes hundreds of\u001b[33m...\u001b[0m  \n",
       "\u001b[1;36m4\u001b[0m  When nerdy high schooler Dani finally attracts\u001b[33m...\u001b[0m  "
      ]
     },
     "execution_count": 4,
     "metadata": {},
     "output_type": "execute_result"
    }
   ],
   "source": [
    "data_description = netflix_data.copy()\n",
    "data_description.head()"
   ]
  },
  {
   "cell_type": "markdown",
   "metadata": {},
   "source": [
    "## 1.1 Data Dimension"
   ]
  },
  {
   "cell_type": "code",
   "execution_count": 6,
   "metadata": {},
   "outputs": [
    {
     "name": "stdout",
     "output_type": "stream",
     "text": [
      "Number os rows: 6234\n",
      "Number os columns: 12\n"
     ]
    }
   ],
   "source": [
    "print(f'Number os rows: {data_description.shape[0]}')\n",
    "print(f'Number os columns: {data_description.shape[1]}')"
   ]
  },
  {
   "cell_type": "markdown",
   "metadata": {},
   "source": [
    "## 1.2 Check NA"
   ]
  },
  {
   "cell_type": "code",
   "execution_count": 7,
   "metadata": {},
   "outputs": [
    {
     "data": {
      "text/html": [
       "<pre style=\"white-space:pre;overflow-x:auto;line-height:normal;font-family:Menlo,'DejaVu Sans Mono',consolas,'Courier New',monospace\"></pre>\n"
      ],
      "text/plain": []
     },
     "metadata": {},
     "output_type": "display_data"
    },
    {
     "data": {
      "text/plain": [
       "\n",
       "show_id         \u001b[1;36m0.000\u001b[0m\n",
       "type            \u001b[1;36m0.000\u001b[0m\n",
       "title           \u001b[1;36m0.000\u001b[0m\n",
       "director       \u001b[1;36m31.601\u001b[0m\n",
       "cast            \u001b[1;36m0.016\u001b[0m\n",
       "country         \u001b[1;36m0.016\u001b[0m\n",
       "date_added      \u001b[1;36m0.192\u001b[0m\n",
       "release_year    \u001b[1;36m0.016\u001b[0m\n",
       "rating          \u001b[1;36m0.016\u001b[0m\n",
       "duration        \u001b[1;36m0.016\u001b[0m\n",
       "listed_in       \u001b[1;36m0.016\u001b[0m\n",
       "description     \u001b[1;36m0.016\u001b[0m\n",
       "dtype: float64"
      ]
     },
     "execution_count": 7,
     "metadata": {},
     "output_type": "execute_result"
    }
   ],
   "source": [
    "data_description.isna().sum() / data_description.shape[0] * 100"
   ]
  },
  {
   "cell_type": "markdown",
   "metadata": {},
   "source": [
    "## 1.3 Fillout NA"
   ]
  },
  {
   "cell_type": "code",
   "execution_count": 8,
   "metadata": {},
   "outputs": [
    {
     "data": {
      "text/html": [
       "<pre style=\"white-space:pre;overflow-x:auto;line-height:normal;font-family:Menlo,'DejaVu Sans Mono',consolas,'Courier New',monospace\"></pre>\n"
      ],
      "text/plain": []
     },
     "metadata": {},
     "output_type": "display_data"
    },
    {
     "data": {
      "text/plain": [
       "\n",
       "show_id        \u001b[1;36m0.000\u001b[0m\n",
       "type           \u001b[1;36m0.000\u001b[0m\n",
       "title          \u001b[1;36m0.000\u001b[0m\n",
       "director       \u001b[1;36m0.000\u001b[0m\n",
       "cast           \u001b[1;36m0.000\u001b[0m\n",
       "country        \u001b[1;36m0.000\u001b[0m\n",
       "date_added     \u001b[1;36m0.000\u001b[0m\n",
       "release_year   \u001b[1;36m0.000\u001b[0m\n",
       "rating         \u001b[1;36m0.000\u001b[0m\n",
       "duration       \u001b[1;36m0.000\u001b[0m\n",
       "listed_in      \u001b[1;36m0.000\u001b[0m\n",
       "description    \u001b[1;36m0.000\u001b[0m\n",
       "dtype: float64"
      ]
     },
     "execution_count": 8,
     "metadata": {},
     "output_type": "execute_result"
    }
   ],
   "source": [
    "data_description = data_description.dropna()\n",
    "\n",
    "data_description.isna().sum() / data_description.shape[0] * 100"
   ]
  },
  {
   "cell_type": "markdown",
   "metadata": {},
   "source": [
    "## 1.4 Data Types"
   ]
  },
  {
   "cell_type": "code",
   "execution_count": 10,
   "metadata": {},
   "outputs": [
    {
     "data": {
      "text/html": [
       "<pre style=\"white-space:pre;overflow-x:auto;line-height:normal;font-family:Menlo,'DejaVu Sans Mono',consolas,'Courier New',monospace\"></pre>\n"
      ],
      "text/plain": []
     },
     "metadata": {},
     "output_type": "display_data"
    },
    {
     "data": {
      "text/plain": [
       "\n",
       "show_id                  int64\n",
       "type                    object\n",
       "title                   object\n",
       "director                object\n",
       "cast                    object\n",
       "country                 object\n",
       "date_added      datetime64\u001b[1m[\u001b[0mns\u001b[1m]\u001b[0m\n",
       "release_year           float64\n",
       "rating                 float64\n",
       "duration                object\n",
       "listed_in               object\n",
       "description             object\n",
       "dtype: object"
      ]
     },
     "execution_count": 10,
     "metadata": {},
     "output_type": "execute_result"
    }
   ],
   "source": [
    "data_description.dtypes"
   ]
  },
  {
   "cell_type": "code",
   "execution_count": 14,
   "metadata": {},
   "outputs": [
    {
     "data": {
      "text/html": [
       "<pre style=\"white-space:pre;overflow-x:auto;line-height:normal;font-family:Menlo,'DejaVu Sans Mono',consolas,'Courier New',monospace\"></pre>\n"
      ],
      "text/plain": []
     },
     "metadata": {},
     "output_type": "display_data"
    },
    {
     "data": {
      "text/plain": [
       "\n",
       "show_id                  int64\n",
       "type                    object\n",
       "title                   object\n",
       "director                object\n",
       "cast                    object\n",
       "country                 object\n",
       "date_added      datetime64\u001b[1m[\u001b[0mns\u001b[1m]\u001b[0m\n",
       "release_year             int64\n",
       "rating                   int64\n",
       "duration                object\n",
       "listed_in               object\n",
       "description             object\n",
       "dtype: object"
      ]
     },
     "execution_count": 14,
     "metadata": {},
     "output_type": "execute_result"
    }
   ],
   "source": [
    "data_description['release_year'] = data_description['release_year'].astype('int64')\n",
    "data_description['rating'] = data_description['rating'].astype('int64')\n",
    "\n",
    "data_description.dtypes"
   ]
  },
  {
   "cell_type": "markdown",
   "metadata": {},
   "source": [
    "## 1.6 Descriptive Statistical"
   ]
  },
  {
   "cell_type": "code",
   "execution_count": 15,
   "metadata": {},
   "outputs": [],
   "source": [
    "df_aux = data_description.copy()\n",
    "\n",
    "num_attributes = df_aux.select_dtypes(include=['int64', 'float64'])\n",
    "cat_attributes = df_aux.select_dtypes(exclude=['int64', 'float64'])"
   ]
  },
  {
   "cell_type": "markdown",
   "metadata": {},
   "source": [
    "### 1.6.1 Numerical Attributes"
   ]
  },
  {
   "cell_type": "code",
   "execution_count": 16,
   "metadata": {},
   "outputs": [
    {
     "data": {
      "text/html": [
       "<pre style=\"white-space:pre;overflow-x:auto;line-height:normal;font-family:Menlo,'DejaVu Sans Mono',consolas,'Courier New',monospace\"></pre>\n"
      ],
      "text/plain": []
     },
     "metadata": {},
     "output_type": "display_data"
    },
    {
     "data": {
      "text/html": [
       "<div>\n",
       "<style scoped>\n",
       "    .dataframe tbody tr th:only-of-type {\n",
       "        vertical-align: middle;\n",
       "    }\n",
       "\n",
       "    .dataframe tbody tr th {\n",
       "        vertical-align: top;\n",
       "    }\n",
       "\n",
       "    .dataframe thead th {\n",
       "        text-align: right;\n",
       "    }\n",
       "</style>\n",
       "<table border=\"1\" class=\"dataframe\">\n",
       "  <thead>\n",
       "    <tr style=\"text-align: right;\">\n",
       "      <th></th>\n",
       "      <th>attibutes</th>\n",
       "      <th>min</th>\n",
       "      <th>max</th>\n",
       "      <th>range</th>\n",
       "      <th>mean</th>\n",
       "      <th>median</th>\n",
       "      <th>std</th>\n",
       "      <th>skew</th>\n",
       "      <th>kurtosis</th>\n",
       "    </tr>\n",
       "  </thead>\n",
       "  <tbody>\n",
       "    <tr>\n",
       "      <th>0</th>\n",
       "      <td>show_id</td>\n",
       "      <td>247747.000</td>\n",
       "      <td>81235729.000</td>\n",
       "      <td>80987982.000</td>\n",
       "      <td>75592271.880</td>\n",
       "      <td>80157831.500</td>\n",
       "      <td>12875723.525</td>\n",
       "      <td>-4.366</td>\n",
       "      <td>20.879</td>\n",
       "    </tr>\n",
       "    <tr>\n",
       "      <th>1</th>\n",
       "      <td>release_year</td>\n",
       "      <td>1942.000</td>\n",
       "      <td>2020.000</td>\n",
       "      <td>78.000</td>\n",
       "      <td>2012.384</td>\n",
       "      <td>2016.000</td>\n",
       "      <td>9.705</td>\n",
       "      <td>-3.270</td>\n",
       "      <td>13.654</td>\n",
       "    </tr>\n",
       "    <tr>\n",
       "      <th>2</th>\n",
       "      <td>rating</td>\n",
       "      <td>0.000</td>\n",
       "      <td>97.000</td>\n",
       "      <td>97.000</td>\n",
       "      <td>63.018</td>\n",
       "      <td>66.000</td>\n",
       "      <td>16.647</td>\n",
       "      <td>-1.975</td>\n",
       "      <td>5.246</td>\n",
       "    </tr>\n",
       "  </tbody>\n",
       "</table>\n",
       "</div>"
      ],
      "text/plain": [
       "\n",
       "      attibutes        min          max        range         mean  \\\n",
       "\u001b[1;36m0\u001b[0m       show_id \u001b[1;36m247747.000\u001b[0m \u001b[1;36m81235729.000\u001b[0m \u001b[1;36m80987982.000\u001b[0m \u001b[1;36m75592271.880\u001b[0m   \n",
       "\u001b[1;36m1\u001b[0m  release_year   \u001b[1;36m1942.000\u001b[0m     \u001b[1;36m2020.000\u001b[0m       \u001b[1;36m78.000\u001b[0m     \u001b[1;36m2012.384\u001b[0m   \n",
       "\u001b[1;36m2\u001b[0m        rating      \u001b[1;36m0.000\u001b[0m       \u001b[1;36m97.000\u001b[0m       \u001b[1;36m97.000\u001b[0m       \u001b[1;36m63.018\u001b[0m   \n",
       "\n",
       "        median          std   skew  kurtosis  \n",
       "\u001b[1;36m0\u001b[0m \u001b[1;36m80157831.500\u001b[0m \u001b[1;36m12875723.525\u001b[0m \u001b[1;36m-4.366\u001b[0m    \u001b[1;36m20.879\u001b[0m  \n",
       "\u001b[1;36m1\u001b[0m     \u001b[1;36m2016.000\u001b[0m        \u001b[1;36m9.705\u001b[0m \u001b[1;36m-3.270\u001b[0m    \u001b[1;36m13.654\u001b[0m  \n",
       "\u001b[1;36m2\u001b[0m       \u001b[1;36m66.000\u001b[0m       \u001b[1;36m16.647\u001b[0m \u001b[1;36m-1.975\u001b[0m     \u001b[1;36m5.246\u001b[0m  "
      ]
     },
     "execution_count": 16,
     "metadata": {},
     "output_type": "execute_result"
    }
   ],
   "source": [
    "# Central tendency and Dispersion\n",
    "range_values = pd.DataFrame(num_attributes.apply( lambda x: x.max() - x.min() )).T\n",
    "statistic_metric = num_attributes.agg(['min', 'max', 'mean', 'median', 'std', 'skew', 'kurtosis'])\n",
    "\n",
    "# Concatenate\n",
    "metrics = pd.concat([range_values, statistic_metric]).T.reset_index()\n",
    "metrics.columns = ['attibutes', 'range', 'min', 'max', 'mean', 'median', 'std', 'skew', 'kurtosis']\n",
    "metrics = metrics[['attibutes', 'min', 'max', 'range', 'mean', 'median', 'std', 'skew', 'kurtosis']]\n",
    "\n",
    "metrics"
   ]
  },
  {
   "cell_type": "markdown",
   "metadata": {},
   "source": [
    "### 1.6.2 Categorical Attributes"
   ]
  },
  {
   "cell_type": "code",
   "execution_count": 17,
   "metadata": {},
   "outputs": [
    {
     "data": {
      "text/html": [
       "<pre style=\"white-space:pre;overflow-x:auto;line-height:normal;font-family:Menlo,'DejaVu Sans Mono',consolas,'Courier New',monospace\"></pre>\n"
      ],
      "text/plain": []
     },
     "metadata": {},
     "output_type": "display_data"
    },
    {
     "data": {
      "text/plain": [
       "\n",
       "type              \u001b[1;36m2\u001b[0m\n",
       "title          \u001b[1;36m4238\u001b[0m\n",
       "director       \u001b[1;36m3300\u001b[0m\n",
       "cast           \u001b[1;36m3785\u001b[0m\n",
       "country         \u001b[1;36m483\u001b[0m\n",
       "date_added     \u001b[1;36m1050\u001b[0m\n",
       "duration        \u001b[1;36m191\u001b[0m\n",
       "listed_in       \u001b[1;36m307\u001b[0m\n",
       "description    \u001b[1;36m4256\u001b[0m\n",
       "dtype: int64"
      ]
     },
     "execution_count": 17,
     "metadata": {},
     "output_type": "execute_result"
    }
   ],
   "source": [
    "# checking data variation\n",
    "cat_attributes.apply(lambda x: x.unique().shape[0])"
   ]
  },
  {
   "cell_type": "markdown",
   "metadata": {},
   "source": [
    "- The cardinality is considerable and can have an impact on analysis and visualization, so let's look at the platform and genre that contain the lowest cardinalities."
   ]
  },
  {
   "cell_type": "code",
   "execution_count": 20,
   "metadata": {},
   "outputs": [
    {
     "data": {
      "text/html": [
       "<pre style=\"white-space:pre;overflow-x:auto;line-height:normal;font-family:Menlo,'DejaVu Sans Mono',consolas,'Courier New',monospace\"><span style=\"color: #7fbfbf; text-decoration-color: #7fbfbf\">[09/22/23 10:29:57] </span><span style=\"color: #000080; text-decoration-color: #000080\">INFO    </span> Saving data to <span style=\"color: #008000; text-decoration-color: #008000\">'data_description'</span> <span style=\"font-weight: bold\">(</span>CSVDataSet<span style=\"font-weight: bold\">)</span><span style=\"color: #808000; text-decoration-color: #808000\">...</span>                  <a href=\"file://F:\\SamuelOliveiraAlvesd\\Anaconda3\\envs\\netflix_classifier\\Lib\\site-packages\\kedro\\io\\data_catalog.py\" target=\"_blank\"><span style=\"color: #7f7f7f; text-decoration-color: #7f7f7f\">data_catalog.py</span></a><span style=\"color: #7f7f7f; text-decoration-color: #7f7f7f\">:</span><a href=\"file://F:\\SamuelOliveiraAlvesd\\Anaconda3\\envs\\netflix_classifier\\Lib\\site-packages\\kedro\\io\\data_catalog.py#531\" target=\"_blank\"><span style=\"color: #7f7f7f; text-decoration-color: #7f7f7f\">531</span></a>\n",
       "</pre>\n"
      ],
      "text/plain": [
       "\u001b[2;36m[09/22/23 10:29:57]\u001b[0m\u001b[2;36m \u001b[0m\u001b[34mINFO    \u001b[0m Saving data to \u001b[32m'data_description'\u001b[0m \u001b[1m(\u001b[0mCSVDataSet\u001b[1m)\u001b[0m\u001b[33m...\u001b[0m                  \u001b]8;id=966629;file://F:\\SamuelOliveiraAlvesd\\Anaconda3\\envs\\netflix_classifier\\Lib\\site-packages\\kedro\\io\\data_catalog.py\u001b\\\u001b[2mdata_catalog.py\u001b[0m\u001b]8;;\u001b\\\u001b[2m:\u001b[0m\u001b]8;id=669306;file://F:\\SamuelOliveiraAlvesd\\Anaconda3\\envs\\netflix_classifier\\Lib\\site-packages\\kedro\\io\\data_catalog.py#531\u001b\\\u001b[2m531\u001b[0m\u001b]8;;\u001b\\\n"
      ]
     },
     "metadata": {},
     "output_type": "display_data"
    }
   ],
   "source": [
    "catalog.save(\"data_description\", data_description)"
   ]
  }
 ],
 "metadata": {
  "kernelspec": {
   "display_name": "Kedro (netflix_ratings_forecast)",
   "language": "python",
   "name": "kedro_netflix_ratings_forecast"
  },
  "language_info": {
   "codemirror_mode": {
    "name": "ipython",
    "version": 3
   },
   "file_extension": ".py",
   "mimetype": "text/x-python",
   "name": "python",
   "nbconvert_exporter": "python",
   "pygments_lexer": "ipython3",
   "version": "3.11.5"
  }
 },
 "nbformat": 4,
 "nbformat_minor": 2
}
