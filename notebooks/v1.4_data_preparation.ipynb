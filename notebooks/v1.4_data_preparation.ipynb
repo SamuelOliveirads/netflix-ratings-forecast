{
 "cells": [
  {
   "attachments": {},
   "cell_type": "markdown",
   "metadata": {},
   "source": [
    "# 0.0 Imports"
   ]
  },
  {
   "cell_type": "code",
   "execution_count": 19,
   "metadata": {},
   "outputs": [],
   "source": [
    "import numpy as np\n",
    "import pandas as pd\n",
    "import seaborn as sns\n",
    "\n",
    "from matplotlib import pyplot as plt\n",
    "from sklearn import model_selection as ms\n",
    "from sklearn import preprocessing"
   ]
  },
  {
   "attachments": {},
   "cell_type": "markdown",
   "metadata": {},
   "source": [
    "## 0.1 Load data"
   ]
  },
  {
   "cell_type": "code",
   "execution_count": 20,
   "metadata": {},
   "outputs": [
    {
     "data": {
      "text/html": [
       "<pre style=\"white-space:pre;overflow-x:auto;line-height:normal;font-family:Menlo,'DejaVu Sans Mono',consolas,'Courier New',monospace\"><span style=\"color: #7fbfbf; text-decoration-color: #7fbfbf\">[09/22/23 10:51:06] </span><span style=\"color: #000080; text-decoration-color: #000080\">INFO    </span> Loading data from <span style=\"color: #008000; text-decoration-color: #008000\">'exploratory_data_analysis'</span> <span style=\"font-weight: bold\">(</span>CSVDataSet<span style=\"font-weight: bold\">)</span><span style=\"color: #808000; text-decoration-color: #808000\">...</span>      <a href=\"file://f:\\SamuelOliveiraAlvesd\\Anaconda3\\envs\\netflix_classifier\\Lib\\site-packages\\kedro\\io\\data_catalog.py\" target=\"_blank\"><span style=\"color: #7f7f7f; text-decoration-color: #7f7f7f\">data_catalog.py</span></a><span style=\"color: #7f7f7f; text-decoration-color: #7f7f7f\">:</span><a href=\"file://f:\\SamuelOliveiraAlvesd\\Anaconda3\\envs\\netflix_classifier\\Lib\\site-packages\\kedro\\io\\data_catalog.py#492\" target=\"_blank\"><span style=\"color: #7f7f7f; text-decoration-color: #7f7f7f\">492</span></a>\n",
       "</pre>\n"
      ],
      "text/plain": [
       "\u001b[2;36m[09/22/23 10:51:06]\u001b[0m\u001b[2;36m \u001b[0m\u001b[34mINFO    \u001b[0m Loading data from \u001b[32m'exploratory_data_analysis'\u001b[0m \u001b[1m(\u001b[0mCSVDataSet\u001b[1m)\u001b[0m\u001b[33m...\u001b[0m      \u001b]8;id=329740;file://f:\\SamuelOliveiraAlvesd\\Anaconda3\\envs\\netflix_classifier\\Lib\\site-packages\\kedro\\io\\data_catalog.py\u001b\\\u001b[2mdata_catalog.py\u001b[0m\u001b]8;;\u001b\\\u001b[2m:\u001b[0m\u001b]8;id=556059;file://f:\\SamuelOliveiraAlvesd\\Anaconda3\\envs\\netflix_classifier\\Lib\\site-packages\\kedro\\io\\data_catalog.py#492\u001b\\\u001b[2m492\u001b[0m\u001b]8;;\u001b\\\n"
      ]
     },
     "metadata": {},
     "output_type": "display_data"
    }
   ],
   "source": [
    "exploratory_data_analysis = catalog.load(\"exploratory_data_analysis\")"
   ]
  },
  {
   "attachments": {},
   "cell_type": "markdown",
   "metadata": {},
   "source": [
    "## 0.2 Helper Functions"
   ]
  },
  {
   "cell_type": "code",
   "execution_count": 21,
   "metadata": {},
   "outputs": [],
   "source": [
    "def notebook_settings():\n",
    "    pd.set_option('display.max_columns', None)\n",
    "    pd.set_option('display.max_rows', exploratory_data_analysis.shape[1])\n",
    "    pd.set_option('display.float_format', lambda x: '%.3f' % x)\n",
    "\n",
    "    plt.style.use('bmh')\n",
    "    plt.rcParams['figure.figsize'] = [25, 10]\n",
    "    plt.rcParams['font.size'] = 24\n",
    "    sns.set()\n",
    "\n",
    "    return None\n",
    "\n",
    "\n",
    "notebook_settings()"
   ]
  },
  {
   "attachments": {},
   "cell_type": "markdown",
   "metadata": {},
   "source": [
    "# 4.0 Data preparation"
   ]
  },
  {
   "cell_type": "code",
   "execution_count": 22,
   "metadata": {},
   "outputs": [
    {
     "data": {
      "text/html": [
       "<pre style=\"white-space:pre;overflow-x:auto;line-height:normal;font-family:Menlo,'DejaVu Sans Mono',consolas,'Courier New',monospace\"></pre>\n"
      ],
      "text/plain": []
     },
     "metadata": {},
     "output_type": "display_data"
    },
    {
     "data": {
      "text/html": [
       "<div>\n",
       "<style scoped>\n",
       "    .dataframe tbody tr th:only-of-type {\n",
       "        vertical-align: middle;\n",
       "    }\n",
       "\n",
       "    .dataframe tbody tr th {\n",
       "        vertical-align: top;\n",
       "    }\n",
       "\n",
       "    .dataframe thead th {\n",
       "        text-align: right;\n",
       "    }\n",
       "</style>\n",
       "<table border=\"1\" class=\"dataframe\">\n",
       "  <thead>\n",
       "    <tr style=\"text-align: right;\">\n",
       "      <th></th>\n",
       "      <th>show_id</th>\n",
       "      <th>type</th>\n",
       "      <th>title</th>\n",
       "      <th>director</th>\n",
       "      <th>cast</th>\n",
       "      <th>country</th>\n",
       "      <th>date_added</th>\n",
       "      <th>release_year</th>\n",
       "      <th>rating</th>\n",
       "      <th>duration</th>\n",
       "      <th>listed_in</th>\n",
       "      <th>description</th>\n",
       "    </tr>\n",
       "  </thead>\n",
       "  <tbody>\n",
       "    <tr>\n",
       "      <th>0</th>\n",
       "      <td>81145628</td>\n",
       "      <td>Movie</td>\n",
       "      <td>Norm of the North: King Sized Adventure</td>\n",
       "      <td>Richard Finn, Tim Maltby</td>\n",
       "      <td>Alan Marriott, Andrew Toth, Brian Dobson, Cole...</td>\n",
       "      <td>United States, India, South Korea, China</td>\n",
       "      <td>2019-09-09</td>\n",
       "      <td>2019</td>\n",
       "      <td>41</td>\n",
       "      <td>90 min</td>\n",
       "      <td>Children &amp; Family Movies, Comedies</td>\n",
       "      <td>Before planning an awesome wedding for his gra...</td>\n",
       "    </tr>\n",
       "    <tr>\n",
       "      <th>1</th>\n",
       "      <td>80125979</td>\n",
       "      <td>Movie</td>\n",
       "      <td>#realityhigh</td>\n",
       "      <td>Fernando Lebrija</td>\n",
       "      <td>Nesta Cooper, Kate Walsh, John Michael Higgins...</td>\n",
       "      <td>United States</td>\n",
       "      <td>2017-09-08</td>\n",
       "      <td>2017</td>\n",
       "      <td>57</td>\n",
       "      <td>99 min</td>\n",
       "      <td>Comedies</td>\n",
       "      <td>When nerdy high schooler Dani finally attracts...</td>\n",
       "    </tr>\n",
       "    <tr>\n",
       "      <th>2</th>\n",
       "      <td>70304989</td>\n",
       "      <td>Movie</td>\n",
       "      <td>Automata</td>\n",
       "      <td>Gabe Ibáñez</td>\n",
       "      <td>Antonio Banderas, Dylan McDermott, Melanie Gri...</td>\n",
       "      <td>Bulgaria, United States, Spain, Canada</td>\n",
       "      <td>2017-09-08</td>\n",
       "      <td>2014</td>\n",
       "      <td>61</td>\n",
       "      <td>110 min</td>\n",
       "      <td>International Movies, Sci-Fi &amp; Fantasy, Thrillers</td>\n",
       "      <td>In a dystopian future, an insurance adjuster f...</td>\n",
       "    </tr>\n",
       "    <tr>\n",
       "      <th>3</th>\n",
       "      <td>80164077</td>\n",
       "      <td>Movie</td>\n",
       "      <td>Fabrizio Copano: Solo pienso en mi</td>\n",
       "      <td>Rodrigo Toro, Francisco Schultz</td>\n",
       "      <td>Fabrizio Copano</td>\n",
       "      <td>Chile</td>\n",
       "      <td>2017-09-08</td>\n",
       "      <td>2017</td>\n",
       "      <td>49</td>\n",
       "      <td>60 min</td>\n",
       "      <td>Stand-Up Comedy</td>\n",
       "      <td>Fabrizio Copano takes audience participation t...</td>\n",
       "    </tr>\n",
       "    <tr>\n",
       "      <th>4</th>\n",
       "      <td>70304990</td>\n",
       "      <td>Movie</td>\n",
       "      <td>Good People</td>\n",
       "      <td>Henrik Ruben Genz</td>\n",
       "      <td>James Franco, Kate Hudson, Tom Wilkinson, Omar...</td>\n",
       "      <td>United States, United Kingdom, Denmark, Sweden</td>\n",
       "      <td>2017-09-08</td>\n",
       "      <td>2014</td>\n",
       "      <td>56</td>\n",
       "      <td>90 min</td>\n",
       "      <td>Action &amp; Adventure, Thrillers</td>\n",
       "      <td>A struggling couple can't believe their luck w...</td>\n",
       "    </tr>\n",
       "  </tbody>\n",
       "</table>\n",
       "</div>"
      ],
      "text/plain": [
       "\n",
       "    show_id   type                                    title  \\\n",
       "\u001b[1;36m0\u001b[0m  \u001b[1;36m81145628\u001b[0m  Movie  Norm of the North: King Sized Adventure   \n",
       "\u001b[1;36m1\u001b[0m  \u001b[1;36m80125979\u001b[0m  Movie                             #realityhigh   \n",
       "\u001b[1;36m2\u001b[0m  \u001b[1;36m70304989\u001b[0m  Movie                                 Automata   \n",
       "\u001b[1;36m3\u001b[0m  \u001b[1;36m80164077\u001b[0m  Movie       Fabrizio Copano: Solo pienso en mi   \n",
       "\u001b[1;36m4\u001b[0m  \u001b[1;36m70304990\u001b[0m  Movie                              Good People   \n",
       "\n",
       "                          director  \\\n",
       "\u001b[1;36m0\u001b[0m         Richard Finn, Tim Maltby   \n",
       "\u001b[1;36m1\u001b[0m                 Fernando Lebrija   \n",
       "\u001b[1;36m2\u001b[0m                      Gabe Ibáñez   \n",
       "\u001b[1;36m3\u001b[0m  Rodrigo Toro, Francisco Schultz   \n",
       "\u001b[1;36m4\u001b[0m                Henrik Ruben Genz   \n",
       "\n",
       "                                                cast  \\\n",
       "\u001b[1;36m0\u001b[0m  Alan Marriott, Andrew Toth, Brian Dobson, Cole\u001b[33m...\u001b[0m   \n",
       "\u001b[1;36m1\u001b[0m  Nesta Cooper, Kate Walsh, John Michael Higgins\u001b[33m...\u001b[0m   \n",
       "\u001b[1;36m2\u001b[0m  Antonio Banderas, Dylan McDermott, Melanie Gri\u001b[33m...\u001b[0m   \n",
       "\u001b[1;36m3\u001b[0m                                    Fabrizio Copano   \n",
       "\u001b[1;36m4\u001b[0m  James Franco, Kate Hudson, Tom Wilkinson, Omar\u001b[33m...\u001b[0m   \n",
       "\n",
       "                                          country  date_added  release_year  \\\n",
       "\u001b[1;36m0\u001b[0m        United States, India, South Korea, China  \u001b[1;36m2019\u001b[0m-\u001b[1;36m09\u001b[0m-\u001b[1;36m09\u001b[0m          \u001b[1;36m2019\u001b[0m   \n",
       "\u001b[1;36m1\u001b[0m                                   United States  \u001b[1;36m2017\u001b[0m-\u001b[1;36m09\u001b[0m-\u001b[1;36m08\u001b[0m          \u001b[1;36m2017\u001b[0m   \n",
       "\u001b[1;36m2\u001b[0m          Bulgaria, United States, Spain, Canada  \u001b[1;36m2017\u001b[0m-\u001b[1;36m09\u001b[0m-\u001b[1;36m08\u001b[0m          \u001b[1;36m2014\u001b[0m   \n",
       "\u001b[1;36m3\u001b[0m                                           Chile  \u001b[1;36m2017\u001b[0m-\u001b[1;36m09\u001b[0m-\u001b[1;36m08\u001b[0m          \u001b[1;36m2017\u001b[0m   \n",
       "\u001b[1;36m4\u001b[0m  United States, United Kingdom, Denmark, Sweden  \u001b[1;36m2017\u001b[0m-\u001b[1;36m09\u001b[0m-\u001b[1;36m08\u001b[0m          \u001b[1;36m2014\u001b[0m   \n",
       "\n",
       "   rating duration                                          listed_in  \\\n",
       "\u001b[1;36m0\u001b[0m      \u001b[1;36m41\u001b[0m   \u001b[1;36m90\u001b[0m min                 Children & Family Movies, Comedies   \n",
       "\u001b[1;36m1\u001b[0m      \u001b[1;36m57\u001b[0m   \u001b[1;36m99\u001b[0m min                                           Comedies   \n",
       "\u001b[1;36m2\u001b[0m      \u001b[1;36m61\u001b[0m  \u001b[1;36m110\u001b[0m min  International Movies, Sci-Fi & Fantasy, Thrillers   \n",
       "\u001b[1;36m3\u001b[0m      \u001b[1;36m49\u001b[0m   \u001b[1;36m60\u001b[0m min                                    Stand-Up Comedy   \n",
       "\u001b[1;36m4\u001b[0m      \u001b[1;36m56\u001b[0m   \u001b[1;36m90\u001b[0m min                      Action & Adventure, Thrillers   \n",
       "\n",
       "                                         description  \n",
       "\u001b[1;36m0\u001b[0m  Before planning an awesome wedding for his gra\u001b[33m...\u001b[0m  \n",
       "\u001b[1;36m1\u001b[0m  When nerdy high schooler Dani finally attracts\u001b[33m...\u001b[0m  \n",
       "\u001b[1;36m2\u001b[0m  In a dystopian future, an insurance adjuster f\u001b[33m...\u001b[0m  \n",
       "\u001b[1;36m3\u001b[0m  Fabrizio Copano takes audience participation t\u001b[33m...\u001b[0m  \n",
       "\u001b[1;36m4\u001b[0m  A struggling couple can't believe their luck w\u001b[33m...\u001b[0m  "
      ]
     },
     "execution_count": 22,
     "metadata": {},
     "output_type": "execute_result"
    }
   ],
   "source": [
    "exploratory_data_analysis.head()"
   ]
  },
  {
   "cell_type": "markdown",
   "metadata": {},
   "source": [
    "## 4.1 Split Dataframe into training and validation dataset"
   ]
  },
  {
   "cell_type": "code",
   "execution_count": 23,
   "metadata": {},
   "outputs": [],
   "source": [
    "exploratory_data_analysis = exploratory_data_analysis.drop(columns=['date_added'])\n",
    "\n",
    "X = exploratory_data_analysis.drop('rating', axis=1)\n",
    "y = exploratory_data_analysis['rating'].copy()\n",
    "\n",
    "x_train, x_val, y_train, y_val = ms.train_test_split(X, y, test_size=0.20)\n",
    "\n",
    "train_data = pd.concat([x_train, y_train], axis=1)\n",
    "validation_data = pd.concat([x_val, y_val], axis=1)\n"
   ]
  },
  {
   "attachments": {},
   "cell_type": "markdown",
   "metadata": {},
   "source": [
    "## 4.2 Transformation"
   ]
  },
  {
   "attachments": {},
   "cell_type": "markdown",
   "metadata": {},
   "source": [
    "### 4.3.1 Encoding"
   ]
  },
  {
   "cell_type": "code",
   "execution_count": 24,
   "metadata": {},
   "outputs": [],
   "source": [
    "cols_to_label = ['type', 'title', 'director', 'cast', 'country',\n",
    "    'duration', 'listed_in', 'description']\n",
    "\n",
    "le = preprocessing.LabelEncoder()\n",
    "\n",
    "for col in cols_to_label:\n",
    "    train_data[col] = le.fit_transform(train_data[col])\n",
    "    # Check if there is something not mapped in validation data\n",
    "    validation_data[col] = validation_data[col].map(\n",
    "        lambda s: \"unknown\" if s not in le.classes_ else s\n",
    "    )\n",
    "    # Add the new class 'unknown' if it is not present\n",
    "    if \"unknown\" not in list(le.classes_):\n",
    "        le.classes_ = np.append(le.classes_, \"unknown\")\n",
    "    else:\n",
    "        # The class 'unknown' is already present, ensure that it occurs only once\n",
    "        le.classes_ = np.unique(le.classes_)\n",
    "    validation_data[col] = le.transform(validation_data[col])"
   ]
  },
  {
   "cell_type": "markdown",
   "metadata": {},
   "source": [
    "### 4.3.2 Response Variable Transformation"
   ]
  },
  {
   "cell_type": "markdown",
   "metadata": {},
   "source": [
    "The prediction of a model can be biased according to the distribution of the response variable, as we analyzed in the exploratory data analysis notebook we need to convert the variable to a normal distribution."
   ]
  },
  {
   "cell_type": "code",
   "execution_count": 25,
   "metadata": {},
   "outputs": [],
   "source": [
    "#TODO"
   ]
  },
  {
   "cell_type": "markdown",
   "metadata": {},
   "source": [
    "### 4.3.3 Nature Transformation"
   ]
  },
  {
   "cell_type": "markdown",
   "metadata": {},
   "source": [
    "Transformation of nature involves maintaining a state and preserving its cycle, for example in numerical terms a column of months the model can understand that month 1 is close to month 2, on the other hand month 1 seems very far from month 12, in this case we will apply techniques that allow the model to understand that both months are very close."
   ]
  },
  {
   "cell_type": "code",
   "execution_count": 26,
   "metadata": {},
   "outputs": [],
   "source": [
    "# TODO"
   ]
  },
  {
   "cell_type": "code",
   "execution_count": 27,
   "metadata": {},
   "outputs": [
    {
     "data": {
      "text/html": [
       "<pre style=\"white-space:pre;overflow-x:auto;line-height:normal;font-family:Menlo,'DejaVu Sans Mono',consolas,'Courier New',monospace\"><span style=\"color: #7fbfbf; text-decoration-color: #7fbfbf\">[09/22/23 10:51:07] </span><span style=\"color: #000080; text-decoration-color: #000080\">INFO    </span> Saving data to <span style=\"color: #008000; text-decoration-color: #008000\">'train_data_preparation'</span> <span style=\"font-weight: bold\">(</span>CSVDataSet<span style=\"font-weight: bold\">)</span><span style=\"color: #808000; text-decoration-color: #808000\">...</span>            <a href=\"file://f:\\SamuelOliveiraAlvesd\\Anaconda3\\envs\\netflix_classifier\\Lib\\site-packages\\kedro\\io\\data_catalog.py\" target=\"_blank\"><span style=\"color: #7f7f7f; text-decoration-color: #7f7f7f\">data_catalog.py</span></a><span style=\"color: #7f7f7f; text-decoration-color: #7f7f7f\">:</span><a href=\"file://f:\\SamuelOliveiraAlvesd\\Anaconda3\\envs\\netflix_classifier\\Lib\\site-packages\\kedro\\io\\data_catalog.py#531\" target=\"_blank\"><span style=\"color: #7f7f7f; text-decoration-color: #7f7f7f\">531</span></a>\n",
       "</pre>\n"
      ],
      "text/plain": [
       "\u001b[2;36m[09/22/23 10:51:07]\u001b[0m\u001b[2;36m \u001b[0m\u001b[34mINFO    \u001b[0m Saving data to \u001b[32m'train_data_preparation'\u001b[0m \u001b[1m(\u001b[0mCSVDataSet\u001b[1m)\u001b[0m\u001b[33m...\u001b[0m            \u001b]8;id=812848;file://f:\\SamuelOliveiraAlvesd\\Anaconda3\\envs\\netflix_classifier\\Lib\\site-packages\\kedro\\io\\data_catalog.py\u001b\\\u001b[2mdata_catalog.py\u001b[0m\u001b]8;;\u001b\\\u001b[2m:\u001b[0m\u001b]8;id=428687;file://f:\\SamuelOliveiraAlvesd\\Anaconda3\\envs\\netflix_classifier\\Lib\\site-packages\\kedro\\io\\data_catalog.py#531\u001b\\\u001b[2m531\u001b[0m\u001b]8;;\u001b\\\n"
      ]
     },
     "metadata": {},
     "output_type": "display_data"
    },
    {
     "data": {
      "text/html": [
       "<pre style=\"white-space:pre;overflow-x:auto;line-height:normal;font-family:Menlo,'DejaVu Sans Mono',consolas,'Courier New',monospace\"><span style=\"color: #7fbfbf; text-decoration-color: #7fbfbf\">                    </span><span style=\"color: #000080; text-decoration-color: #000080\">INFO    </span> Saving data to <span style=\"color: #008000; text-decoration-color: #008000\">'validation_data_preparation'</span> <span style=\"font-weight: bold\">(</span>CSVDataSet<span style=\"font-weight: bold\">)</span><span style=\"color: #808000; text-decoration-color: #808000\">...</span>       <a href=\"file://f:\\SamuelOliveiraAlvesd\\Anaconda3\\envs\\netflix_classifier\\Lib\\site-packages\\kedro\\io\\data_catalog.py\" target=\"_blank\"><span style=\"color: #7f7f7f; text-decoration-color: #7f7f7f\">data_catalog.py</span></a><span style=\"color: #7f7f7f; text-decoration-color: #7f7f7f\">:</span><a href=\"file://f:\\SamuelOliveiraAlvesd\\Anaconda3\\envs\\netflix_classifier\\Lib\\site-packages\\kedro\\io\\data_catalog.py#531\" target=\"_blank\"><span style=\"color: #7f7f7f; text-decoration-color: #7f7f7f\">531</span></a>\n",
       "</pre>\n"
      ],
      "text/plain": [
       "\u001b[2;36m                   \u001b[0m\u001b[2;36m \u001b[0m\u001b[34mINFO    \u001b[0m Saving data to \u001b[32m'validation_data_preparation'\u001b[0m \u001b[1m(\u001b[0mCSVDataSet\u001b[1m)\u001b[0m\u001b[33m...\u001b[0m       \u001b]8;id=824150;file://f:\\SamuelOliveiraAlvesd\\Anaconda3\\envs\\netflix_classifier\\Lib\\site-packages\\kedro\\io\\data_catalog.py\u001b\\\u001b[2mdata_catalog.py\u001b[0m\u001b]8;;\u001b\\\u001b[2m:\u001b[0m\u001b]8;id=57012;file://f:\\SamuelOliveiraAlvesd\\Anaconda3\\envs\\netflix_classifier\\Lib\\site-packages\\kedro\\io\\data_catalog.py#531\u001b\\\u001b[2m531\u001b[0m\u001b]8;;\u001b\\\n"
      ]
     },
     "metadata": {},
     "output_type": "display_data"
    }
   ],
   "source": [
    "catalog.save(\"train_data_preparation\", train_data)\n",
    "catalog.save(\"validation_data_preparation\", validation_data)"
   ]
  }
 ],
 "metadata": {
  "kernelspec": {
   "display_name": "Kedro (video_games_analysis)",
   "language": "python",
   "name": "kedro_video_games_analysis"
  },
  "language_info": {
   "codemirror_mode": {
    "name": "ipython",
    "version": 3
   },
   "file_extension": ".py",
   "mimetype": "text/x-python",
   "name": "python",
   "nbconvert_exporter": "python",
   "pygments_lexer": "ipython3",
   "version": "3.11.5"
  },
  "orig_nbformat": 4
 },
 "nbformat": 4,
 "nbformat_minor": 2
}
